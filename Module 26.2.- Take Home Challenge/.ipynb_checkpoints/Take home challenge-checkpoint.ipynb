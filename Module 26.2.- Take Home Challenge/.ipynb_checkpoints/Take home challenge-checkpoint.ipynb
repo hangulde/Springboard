{
 "cells": [
  {
   "cell_type": "markdown",
   "id": "cda85f4a",
   "metadata": {},
   "source": [
    "**Problem:** Defining an \"adopted user\" as a user who has logged into the product on three separate days in at least one seven­day period, identify which factors predict future user adoption."
   ]
  },
  {
   "cell_type": "markdown",
   "id": "30cd61dc",
   "metadata": {},
   "source": [
    "## Imports\n"
   ]
  },
  {
   "cell_type": "code",
   "execution_count": 158,
   "id": "953cdedd",
   "metadata": {},
   "outputs": [],
   "source": [
    "import pandas as pd\n",
    "import numpy as np\n",
    "import datetime as dt\n",
    "import matplotlib.pyplot as plt"
   ]
  },
  {
   "cell_type": "code",
   "execution_count": 159,
   "id": "01a0a5af",
   "metadata": {},
   "outputs": [],
   "source": [
    "# Load the datasets\n",
    "df1 = pd.read_csv('takehome_user_engagement.csv', encoding='latin-1')\n",
    "df2 = pd.read_csv('takehome_users.csv', encoding='latin-1')"
   ]
  },
  {
   "cell_type": "markdown",
   "id": "f2baeeba",
   "metadata": {},
   "source": [
    "## *Prepare the usage summary table*"
   ]
  },
  {
   "cell_type": "code",
   "execution_count": 160,
   "id": "1abfd945",
   "metadata": {},
   "outputs": [
    {
     "name": "stdout",
     "output_type": "stream",
     "text": [
      "shape: (207917, 3)\n"
     ]
    },
    {
     "data": {
      "text/html": [
       "<div>\n",
       "<style scoped>\n",
       "    .dataframe tbody tr th:only-of-type {\n",
       "        vertical-align: middle;\n",
       "    }\n",
       "\n",
       "    .dataframe tbody tr th {\n",
       "        vertical-align: top;\n",
       "    }\n",
       "\n",
       "    .dataframe thead th {\n",
       "        text-align: right;\n",
       "    }\n",
       "</style>\n",
       "<table border=\"1\" class=\"dataframe\">\n",
       "  <thead>\n",
       "    <tr style=\"text-align: right;\">\n",
       "      <th></th>\n",
       "      <th>time_stamp</th>\n",
       "      <th>user_id</th>\n",
       "      <th>visited</th>\n",
       "    </tr>\n",
       "  </thead>\n",
       "  <tbody>\n",
       "    <tr>\n",
       "      <th>0</th>\n",
       "      <td>2014-04-22 03:53:30</td>\n",
       "      <td>1</td>\n",
       "      <td>1</td>\n",
       "    </tr>\n",
       "    <tr>\n",
       "      <th>1</th>\n",
       "      <td>2013-11-15 03:45:04</td>\n",
       "      <td>2</td>\n",
       "      <td>1</td>\n",
       "    </tr>\n",
       "    <tr>\n",
       "      <th>2</th>\n",
       "      <td>2013-11-29 03:45:04</td>\n",
       "      <td>2</td>\n",
       "      <td>1</td>\n",
       "    </tr>\n",
       "    <tr>\n",
       "      <th>3</th>\n",
       "      <td>2013-12-09 03:45:04</td>\n",
       "      <td>2</td>\n",
       "      <td>1</td>\n",
       "    </tr>\n",
       "    <tr>\n",
       "      <th>4</th>\n",
       "      <td>2013-12-25 03:45:04</td>\n",
       "      <td>2</td>\n",
       "      <td>1</td>\n",
       "    </tr>\n",
       "  </tbody>\n",
       "</table>\n",
       "</div>"
      ],
      "text/plain": [
       "            time_stamp  user_id  visited\n",
       "0  2014-04-22 03:53:30        1        1\n",
       "1  2013-11-15 03:45:04        2        1\n",
       "2  2013-11-29 03:45:04        2        1\n",
       "3  2013-12-09 03:45:04        2        1\n",
       "4  2013-12-25 03:45:04        2        1"
      ]
     },
     "execution_count": 160,
     "metadata": {},
     "output_type": "execute_result"
    }
   ],
   "source": [
    "print('shape:', df1.shape)\n",
    "df1.head()"
   ]
  },
  {
   "cell_type": "code",
   "execution_count": 161,
   "id": "a302f8e5",
   "metadata": {},
   "outputs": [
    {
     "data": {
      "text/plain": [
       "time_stamp    object\n",
       "user_id        int64\n",
       "visited        int64\n",
       "dtype: object"
      ]
     },
     "execution_count": 161,
     "metadata": {},
     "output_type": "execute_result"
    }
   ],
   "source": [
    "df1.dtypes"
   ]
  },
  {
   "cell_type": "code",
   "execution_count": 162,
   "id": "8a538fdf",
   "metadata": {},
   "outputs": [],
   "source": [
    "# Change the type of time stamp column\n",
    "df1['time_stamp'] = pd.to_datetime(df1['time_stamp'])"
   ]
  },
  {
   "cell_type": "code",
   "execution_count": 163,
   "id": "22da9087",
   "metadata": {},
   "outputs": [
    {
     "data": {
      "text/html": [
       "<div>\n",
       "<style scoped>\n",
       "    .dataframe tbody tr th:only-of-type {\n",
       "        vertical-align: middle;\n",
       "    }\n",
       "\n",
       "    .dataframe tbody tr th {\n",
       "        vertical-align: top;\n",
       "    }\n",
       "\n",
       "    .dataframe thead th {\n",
       "        text-align: right;\n",
       "    }\n",
       "</style>\n",
       "<table border=\"1\" class=\"dataframe\">\n",
       "  <thead>\n",
       "    <tr style=\"text-align: right;\">\n",
       "      <th></th>\n",
       "      <th>time_stamp</th>\n",
       "      <th>user_id</th>\n",
       "      <th>visited</th>\n",
       "      <th>time_diff</th>\n",
       "    </tr>\n",
       "  </thead>\n",
       "  <tbody>\n",
       "    <tr>\n",
       "      <th>0</th>\n",
       "      <td>2014-04-22 03:53:30</td>\n",
       "      <td>1</td>\n",
       "      <td>1</td>\n",
       "      <td>NaN</td>\n",
       "    </tr>\n",
       "    <tr>\n",
       "      <th>1</th>\n",
       "      <td>2013-11-15 03:45:04</td>\n",
       "      <td>2</td>\n",
       "      <td>1</td>\n",
       "      <td>NaN</td>\n",
       "    </tr>\n",
       "    <tr>\n",
       "      <th>2</th>\n",
       "      <td>2013-11-29 03:45:04</td>\n",
       "      <td>2</td>\n",
       "      <td>1</td>\n",
       "      <td>14.0</td>\n",
       "    </tr>\n",
       "    <tr>\n",
       "      <th>3</th>\n",
       "      <td>2013-12-09 03:45:04</td>\n",
       "      <td>2</td>\n",
       "      <td>1</td>\n",
       "      <td>10.0</td>\n",
       "    </tr>\n",
       "    <tr>\n",
       "      <th>4</th>\n",
       "      <td>2013-12-25 03:45:04</td>\n",
       "      <td>2</td>\n",
       "      <td>1</td>\n",
       "      <td>16.0</td>\n",
       "    </tr>\n",
       "  </tbody>\n",
       "</table>\n",
       "</div>"
      ],
      "text/plain": [
       "           time_stamp  user_id  visited  time_diff\n",
       "0 2014-04-22 03:53:30        1        1        NaN\n",
       "1 2013-11-15 03:45:04        2        1        NaN\n",
       "2 2013-11-29 03:45:04        2        1       14.0\n",
       "3 2013-12-09 03:45:04        2        1       10.0\n",
       "4 2013-12-25 03:45:04        2        1       16.0"
      ]
     },
     "execution_count": 163,
     "metadata": {},
     "output_type": "execute_result"
    }
   ],
   "source": [
    "# find the day difference between two logins for each user\n",
    "df1['time_diff'] = df1['time_stamp'].groupby(df1['user_id']).diff().dt.days\n",
    "df1.head()"
   ]
  },
  {
   "cell_type": "code",
   "execution_count": 164,
   "id": "ef830506",
   "metadata": {},
   "outputs": [],
   "source": [
    "# There is NaNs for each users for first login\n",
    "# Replance NaNs with 0\n",
    "df1['time_diff'].replace(np.nan, 0, inplace=True)"
   ]
  },
  {
   "cell_type": "code",
   "execution_count": 165,
   "id": "54327859",
   "metadata": {},
   "outputs": [
    {
     "data": {
      "text/html": [
       "<div>\n",
       "<style scoped>\n",
       "    .dataframe tbody tr th:only-of-type {\n",
       "        vertical-align: middle;\n",
       "    }\n",
       "\n",
       "    .dataframe tbody tr th {\n",
       "        vertical-align: top;\n",
       "    }\n",
       "\n",
       "    .dataframe thead th {\n",
       "        text-align: right;\n",
       "    }\n",
       "</style>\n",
       "<table border=\"1\" class=\"dataframe\">\n",
       "  <thead>\n",
       "    <tr style=\"text-align: right;\">\n",
       "      <th></th>\n",
       "      <th>time_stamp</th>\n",
       "      <th>user_id</th>\n",
       "      <th>visited</th>\n",
       "      <th>time_diff</th>\n",
       "    </tr>\n",
       "  </thead>\n",
       "  <tbody>\n",
       "    <tr>\n",
       "      <th>0</th>\n",
       "      <td>2014-04-22 03:53:30</td>\n",
       "      <td>1</td>\n",
       "      <td>1</td>\n",
       "      <td>0.0</td>\n",
       "    </tr>\n",
       "    <tr>\n",
       "      <th>1</th>\n",
       "      <td>2013-11-15 03:45:04</td>\n",
       "      <td>2</td>\n",
       "      <td>1</td>\n",
       "      <td>0.0</td>\n",
       "    </tr>\n",
       "    <tr>\n",
       "      <th>2</th>\n",
       "      <td>2013-11-29 03:45:04</td>\n",
       "      <td>2</td>\n",
       "      <td>1</td>\n",
       "      <td>14.0</td>\n",
       "    </tr>\n",
       "    <tr>\n",
       "      <th>3</th>\n",
       "      <td>2013-12-09 03:45:04</td>\n",
       "      <td>2</td>\n",
       "      <td>1</td>\n",
       "      <td>10.0</td>\n",
       "    </tr>\n",
       "    <tr>\n",
       "      <th>4</th>\n",
       "      <td>2013-12-25 03:45:04</td>\n",
       "      <td>2</td>\n",
       "      <td>1</td>\n",
       "      <td>16.0</td>\n",
       "    </tr>\n",
       "  </tbody>\n",
       "</table>\n",
       "</div>"
      ],
      "text/plain": [
       "           time_stamp  user_id  visited  time_diff\n",
       "0 2014-04-22 03:53:30        1        1        0.0\n",
       "1 2013-11-15 03:45:04        2        1        0.0\n",
       "2 2013-11-29 03:45:04        2        1       14.0\n",
       "3 2013-12-09 03:45:04        2        1       10.0\n",
       "4 2013-12-25 03:45:04        2        1       16.0"
      ]
     },
     "execution_count": 165,
     "metadata": {},
     "output_type": "execute_result"
    }
   ],
   "source": [
    "df1.head()"
   ]
  },
  {
   "cell_type": "code",
   "execution_count": 166,
   "id": "7e02eb54",
   "metadata": {
    "scrolled": false
   },
   "outputs": [],
   "source": [
    "# Create a list from users who has logged into three separate days in at least one seven day period.\n",
    "user_list = [] \n",
    "for user in df1.user_id.unique(): \n",
    "    df = df1[df1.user_id == user] # df for each user_id\n",
    "    if len(df)<3: # Length of less than 3 means user logged less than 3 times\n",
    "        continue\n",
    "    for i in range(0, len(df)-2): \n",
    "        if df.time_diff.iloc[i]+df.time_diff.iloc[i+1]+df.time_diff.iloc[i+2] <=8:\n",
    "            user_list.append(user)"
   ]
  },
  {
   "cell_type": "code",
   "execution_count": 167,
   "id": "e0f403a7",
   "metadata": {},
   "outputs": [
    {
     "data": {
      "text/plain": [
       "[2, 10, 20, 42, 43, 53, 63, 69, 74, 80]"
      ]
     },
     "execution_count": 167,
     "metadata": {},
     "output_type": "execute_result"
    }
   ],
   "source": [
    "# Set of user list. There are duplicates for ids.\n",
    "user_list = sorted(list(set(user_list)))\n",
    "# Check the first 10 user_ids\n",
    "user_list[:10]"
   ]
  },
  {
   "cell_type": "code",
   "execution_count": 168,
   "id": "542f75e5",
   "metadata": {},
   "outputs": [
    {
     "data": {
      "text/plain": [
       "array([1., 1., 1., ..., 1., 1., 1.])"
      ]
     },
     "execution_count": 168,
     "metadata": {},
     "output_type": "execute_result"
    }
   ],
   "source": [
    "# make an array for adopted user\n",
    "adopt_status = np.ones(len(user_list))\n",
    "adopt_status"
   ]
  },
  {
   "cell_type": "code",
   "execution_count": 169,
   "id": "181da697",
   "metadata": {},
   "outputs": [
    {
     "data": {
      "text/html": [
       "<div>\n",
       "<style scoped>\n",
       "    .dataframe tbody tr th:only-of-type {\n",
       "        vertical-align: middle;\n",
       "    }\n",
       "\n",
       "    .dataframe tbody tr th {\n",
       "        vertical-align: top;\n",
       "    }\n",
       "\n",
       "    .dataframe thead th {\n",
       "        text-align: right;\n",
       "    }\n",
       "</style>\n",
       "<table border=\"1\" class=\"dataframe\">\n",
       "  <thead>\n",
       "    <tr style=\"text-align: right;\">\n",
       "      <th></th>\n",
       "      <th>user_id</th>\n",
       "      <th>adopt_status</th>\n",
       "    </tr>\n",
       "  </thead>\n",
       "  <tbody>\n",
       "    <tr>\n",
       "      <th>0</th>\n",
       "      <td>2</td>\n",
       "      <td>1.0</td>\n",
       "    </tr>\n",
       "    <tr>\n",
       "      <th>1</th>\n",
       "      <td>10</td>\n",
       "      <td>1.0</td>\n",
       "    </tr>\n",
       "    <tr>\n",
       "      <th>2</th>\n",
       "      <td>20</td>\n",
       "      <td>1.0</td>\n",
       "    </tr>\n",
       "    <tr>\n",
       "      <th>3</th>\n",
       "      <td>42</td>\n",
       "      <td>1.0</td>\n",
       "    </tr>\n",
       "    <tr>\n",
       "      <th>4</th>\n",
       "      <td>43</td>\n",
       "      <td>1.0</td>\n",
       "    </tr>\n",
       "  </tbody>\n",
       "</table>\n",
       "</div>"
      ],
      "text/plain": [
       "   user_id  adopt_status\n",
       "0        2           1.0\n",
       "1       10           1.0\n",
       "2       20           1.0\n",
       "3       42           1.0\n",
       "4       43           1.0"
      ]
     },
     "execution_count": 169,
     "metadata": {},
     "output_type": "execute_result"
    }
   ],
   "source": [
    "# create a dict from two lists\n",
    "dict_adop = {user_list[i]: adopt_status[i] for i in range(len(user_list))}   \n",
    "# Convert dict to df\n",
    "df = pd.DataFrame(list(dict_adop.items()), columns=['user_id', 'adopt_status'])\n",
    "df.head()"
   ]
  },
  {
   "cell_type": "code",
   "execution_count": 170,
   "id": "97e2038a",
   "metadata": {},
   "outputs": [],
   "source": [
    "# Get total # visits and average time difference between logins\n",
    "df1= df1.groupby('user_id').agg(Mean=('time_diff', np.mean),Sum=('visited', np.sum)).reset_index()"
   ]
  },
  {
   "cell_type": "code",
   "execution_count": 171,
   "id": "9dcffde8",
   "metadata": {},
   "outputs": [],
   "source": [
    "# Add adopt status to df1\n",
    "df1 = df1.merge(df, how='left', on='user_id')\n",
    "\n",
    "# There will some NANs for non-adopt users. replace them with zeros\n",
    "df1['adopt_status'].replace(np.nan, 0, inplace=True)"
   ]
  },
  {
   "cell_type": "code",
   "execution_count": 172,
   "id": "c1f735f5",
   "metadata": {},
   "outputs": [
    {
     "name": "stdout",
     "output_type": "stream",
     "text": [
      "The number of adopted users is 1476.0\n"
     ]
    }
   ],
   "source": [
    "print('The number of adopted users is', df1.adopt_status.sum())"
   ]
  },
  {
   "cell_type": "markdown",
   "id": "555075a0",
   "metadata": {},
   "source": [
    "## *Prepare the user table*"
   ]
  },
  {
   "cell_type": "code",
   "execution_count": 173,
   "id": "80544e20",
   "metadata": {},
   "outputs": [
    {
     "name": "stdout",
     "output_type": "stream",
     "text": [
      "shape: (12000, 10)\n"
     ]
    },
    {
     "data": {
      "text/html": [
       "<div>\n",
       "<style scoped>\n",
       "    .dataframe tbody tr th:only-of-type {\n",
       "        vertical-align: middle;\n",
       "    }\n",
       "\n",
       "    .dataframe tbody tr th {\n",
       "        vertical-align: top;\n",
       "    }\n",
       "\n",
       "    .dataframe thead th {\n",
       "        text-align: right;\n",
       "    }\n",
       "</style>\n",
       "<table border=\"1\" class=\"dataframe\">\n",
       "  <thead>\n",
       "    <tr style=\"text-align: right;\">\n",
       "      <th></th>\n",
       "      <th>object_id</th>\n",
       "      <th>creation_time</th>\n",
       "      <th>name</th>\n",
       "      <th>email</th>\n",
       "      <th>creation_source</th>\n",
       "      <th>last_session_creation_time</th>\n",
       "      <th>opted_in_to_mailing_list</th>\n",
       "      <th>enabled_for_marketing_drip</th>\n",
       "      <th>org_id</th>\n",
       "      <th>invited_by_user_id</th>\n",
       "    </tr>\n",
       "  </thead>\n",
       "  <tbody>\n",
       "    <tr>\n",
       "      <th>0</th>\n",
       "      <td>1</td>\n",
       "      <td>2014-04-22 03:53:30</td>\n",
       "      <td>Clausen August</td>\n",
       "      <td>AugustCClausen@yahoo.com</td>\n",
       "      <td>GUEST_INVITE</td>\n",
       "      <td>1.398139e+09</td>\n",
       "      <td>1</td>\n",
       "      <td>0</td>\n",
       "      <td>11</td>\n",
       "      <td>10803.0</td>\n",
       "    </tr>\n",
       "    <tr>\n",
       "      <th>1</th>\n",
       "      <td>2</td>\n",
       "      <td>2013-11-15 03:45:04</td>\n",
       "      <td>Poole Matthew</td>\n",
       "      <td>MatthewPoole@gustr.com</td>\n",
       "      <td>ORG_INVITE</td>\n",
       "      <td>1.396238e+09</td>\n",
       "      <td>0</td>\n",
       "      <td>0</td>\n",
       "      <td>1</td>\n",
       "      <td>316.0</td>\n",
       "    </tr>\n",
       "    <tr>\n",
       "      <th>2</th>\n",
       "      <td>3</td>\n",
       "      <td>2013-03-19 23:14:52</td>\n",
       "      <td>Bottrill Mitchell</td>\n",
       "      <td>MitchellBottrill@gustr.com</td>\n",
       "      <td>ORG_INVITE</td>\n",
       "      <td>1.363735e+09</td>\n",
       "      <td>0</td>\n",
       "      <td>0</td>\n",
       "      <td>94</td>\n",
       "      <td>1525.0</td>\n",
       "    </tr>\n",
       "    <tr>\n",
       "      <th>3</th>\n",
       "      <td>4</td>\n",
       "      <td>2013-05-21 08:09:28</td>\n",
       "      <td>Clausen Nicklas</td>\n",
       "      <td>NicklasSClausen@yahoo.com</td>\n",
       "      <td>GUEST_INVITE</td>\n",
       "      <td>1.369210e+09</td>\n",
       "      <td>0</td>\n",
       "      <td>0</td>\n",
       "      <td>1</td>\n",
       "      <td>5151.0</td>\n",
       "    </tr>\n",
       "    <tr>\n",
       "      <th>4</th>\n",
       "      <td>5</td>\n",
       "      <td>2013-01-17 10:14:20</td>\n",
       "      <td>Raw Grace</td>\n",
       "      <td>GraceRaw@yahoo.com</td>\n",
       "      <td>GUEST_INVITE</td>\n",
       "      <td>1.358850e+09</td>\n",
       "      <td>0</td>\n",
       "      <td>0</td>\n",
       "      <td>193</td>\n",
       "      <td>5240.0</td>\n",
       "    </tr>\n",
       "  </tbody>\n",
       "</table>\n",
       "</div>"
      ],
      "text/plain": [
       "   object_id        creation_time               name  \\\n",
       "0          1  2014-04-22 03:53:30     Clausen August   \n",
       "1          2  2013-11-15 03:45:04      Poole Matthew   \n",
       "2          3  2013-03-19 23:14:52  Bottrill Mitchell   \n",
       "3          4  2013-05-21 08:09:28    Clausen Nicklas   \n",
       "4          5  2013-01-17 10:14:20          Raw Grace   \n",
       "\n",
       "                        email creation_source  last_session_creation_time  \\\n",
       "0    AugustCClausen@yahoo.com    GUEST_INVITE                1.398139e+09   \n",
       "1      MatthewPoole@gustr.com      ORG_INVITE                1.396238e+09   \n",
       "2  MitchellBottrill@gustr.com      ORG_INVITE                1.363735e+09   \n",
       "3   NicklasSClausen@yahoo.com    GUEST_INVITE                1.369210e+09   \n",
       "4          GraceRaw@yahoo.com    GUEST_INVITE                1.358850e+09   \n",
       "\n",
       "   opted_in_to_mailing_list  enabled_for_marketing_drip  org_id  \\\n",
       "0                         1                           0      11   \n",
       "1                         0                           0       1   \n",
       "2                         0                           0      94   \n",
       "3                         0                           0       1   \n",
       "4                         0                           0     193   \n",
       "\n",
       "   invited_by_user_id  \n",
       "0             10803.0  \n",
       "1               316.0  \n",
       "2              1525.0  \n",
       "3              5151.0  \n",
       "4              5240.0  "
      ]
     },
     "execution_count": 173,
     "metadata": {},
     "output_type": "execute_result"
    }
   ],
   "source": [
    "# Examine the df2 which is about 12,000 users who signed up for the product in the last two years.\n",
    "print('shape:', df2.shape)\n",
    "df2.head()"
   ]
  },
  {
   "cell_type": "code",
   "execution_count": 174,
   "id": "f2c52c98",
   "metadata": {},
   "outputs": [
    {
     "data": {
      "text/plain": [
       "object_id                       int64\n",
       "creation_time                  object\n",
       "name                           object\n",
       "email                          object\n",
       "creation_source                object\n",
       "last_session_creation_time    float64\n",
       "opted_in_to_mailing_list        int64\n",
       "enabled_for_marketing_drip      int64\n",
       "org_id                          int64\n",
       "invited_by_user_id            float64\n",
       "dtype: object"
      ]
     },
     "execution_count": 174,
     "metadata": {},
     "output_type": "execute_result"
    }
   ],
   "source": [
    "df2.dtypes"
   ]
  },
  {
   "cell_type": "code",
   "execution_count": 175,
   "id": "f23b914c",
   "metadata": {},
   "outputs": [],
   "source": [
    "# Change the name of object_id column. user_id is more obvious\n",
    "df2.rename(columns = {'object_id': 'user_id'}, inplace=True)"
   ]
  },
  {
   "cell_type": "code",
   "execution_count": 176,
   "id": "6aba5922",
   "metadata": {},
   "outputs": [
    {
     "data": {
      "text/plain": [
       "user_id                          0\n",
       "creation_time                    0\n",
       "name                             0\n",
       "email                            0\n",
       "creation_source                  0\n",
       "last_session_creation_time    3177\n",
       "opted_in_to_mailing_list         0\n",
       "enabled_for_marketing_drip       0\n",
       "org_id                           0\n",
       "invited_by_user_id            5583\n",
       "dtype: int64"
      ]
     },
     "execution_count": 176,
     "metadata": {},
     "output_type": "execute_result"
    }
   ],
   "source": [
    "# Investigate NANs\n",
    "df2.isnull().sum()"
   ]
  },
  {
   "cell_type": "code",
   "execution_count": 177,
   "id": "8edc5119",
   "metadata": {},
   "outputs": [
    {
     "data": {
      "text/html": [
       "<div>\n",
       "<style scoped>\n",
       "    .dataframe tbody tr th:only-of-type {\n",
       "        vertical-align: middle;\n",
       "    }\n",
       "\n",
       "    .dataframe tbody tr th {\n",
       "        vertical-align: top;\n",
       "    }\n",
       "\n",
       "    .dataframe thead th {\n",
       "        text-align: right;\n",
       "    }\n",
       "</style>\n",
       "<table border=\"1\" class=\"dataframe\">\n",
       "  <thead>\n",
       "    <tr style=\"text-align: right;\">\n",
       "      <th></th>\n",
       "      <th>user_id</th>\n",
       "      <th>creation_time</th>\n",
       "      <th>name</th>\n",
       "      <th>email</th>\n",
       "      <th>creation_source</th>\n",
       "      <th>last_session_creation_time</th>\n",
       "      <th>opted_in_to_mailing_list</th>\n",
       "      <th>enabled_for_marketing_drip</th>\n",
       "      <th>org_id</th>\n",
       "      <th>invited_by_user_id</th>\n",
       "    </tr>\n",
       "  </thead>\n",
       "  <tbody>\n",
       "  </tbody>\n",
       "</table>\n",
       "</div>"
      ],
      "text/plain": [
       "Empty DataFrame\n",
       "Columns: [user_id, creation_time, name, email, creation_source, last_session_creation_time, opted_in_to_mailing_list, enabled_for_marketing_drip, org_id, invited_by_user_id]\n",
       "Index: []"
      ]
     },
     "execution_count": 177,
     "metadata": {},
     "output_type": "execute_result"
    }
   ],
   "source": [
    "# Check whether someone with user_id=0\n",
    "df2[df2['invited_by_user_id']==0]\n",
    "\n",
    "# I can use 0 for the users who were not invoted by someone"
   ]
  },
  {
   "cell_type": "code",
   "execution_count": 178,
   "id": "170126a7",
   "metadata": {},
   "outputs": [],
   "source": [
    "# Replace NANs with 0 in df2\n",
    "df2.replace(np.nan, 0, inplace=True)"
   ]
  },
  {
   "cell_type": "code",
   "execution_count": 179,
   "id": "2a276305",
   "metadata": {},
   "outputs": [],
   "source": [
    "# Change scientific notation to integer\n",
    "df2['last_session_creation_time'] = df2['last_session_creation_time'].astype('int64')"
   ]
  },
  {
   "cell_type": "code",
   "execution_count": 180,
   "id": "6422a1af",
   "metadata": {},
   "outputs": [
    {
     "data": {
      "text/html": [
       "<div>\n",
       "<style scoped>\n",
       "    .dataframe tbody tr th:only-of-type {\n",
       "        vertical-align: middle;\n",
       "    }\n",
       "\n",
       "    .dataframe tbody tr th {\n",
       "        vertical-align: top;\n",
       "    }\n",
       "\n",
       "    .dataframe thead th {\n",
       "        text-align: right;\n",
       "    }\n",
       "</style>\n",
       "<table border=\"1\" class=\"dataframe\">\n",
       "  <thead>\n",
       "    <tr style=\"text-align: right;\">\n",
       "      <th></th>\n",
       "      <th>user_id</th>\n",
       "      <th>creation_time</th>\n",
       "      <th>name</th>\n",
       "      <th>email</th>\n",
       "      <th>creation_source</th>\n",
       "      <th>last_session_creation_time</th>\n",
       "      <th>opted_in_to_mailing_list</th>\n",
       "      <th>enabled_for_marketing_drip</th>\n",
       "      <th>org_id</th>\n",
       "      <th>invited_by_user_id</th>\n",
       "    </tr>\n",
       "  </thead>\n",
       "  <tbody>\n",
       "    <tr>\n",
       "      <th>0</th>\n",
       "      <td>1</td>\n",
       "      <td>2014-04-22 03:53:30</td>\n",
       "      <td>Clausen August</td>\n",
       "      <td>AugustCClausen@yahoo.com</td>\n",
       "      <td>GUEST_INVITE</td>\n",
       "      <td>1398138810</td>\n",
       "      <td>1</td>\n",
       "      <td>0</td>\n",
       "      <td>11</td>\n",
       "      <td>10803.0</td>\n",
       "    </tr>\n",
       "    <tr>\n",
       "      <th>1</th>\n",
       "      <td>2</td>\n",
       "      <td>2013-11-15 03:45:04</td>\n",
       "      <td>Poole Matthew</td>\n",
       "      <td>MatthewPoole@gustr.com</td>\n",
       "      <td>ORG_INVITE</td>\n",
       "      <td>1396237504</td>\n",
       "      <td>0</td>\n",
       "      <td>0</td>\n",
       "      <td>1</td>\n",
       "      <td>316.0</td>\n",
       "    </tr>\n",
       "    <tr>\n",
       "      <th>2</th>\n",
       "      <td>3</td>\n",
       "      <td>2013-03-19 23:14:52</td>\n",
       "      <td>Bottrill Mitchell</td>\n",
       "      <td>MitchellBottrill@gustr.com</td>\n",
       "      <td>ORG_INVITE</td>\n",
       "      <td>1363734892</td>\n",
       "      <td>0</td>\n",
       "      <td>0</td>\n",
       "      <td>94</td>\n",
       "      <td>1525.0</td>\n",
       "    </tr>\n",
       "    <tr>\n",
       "      <th>3</th>\n",
       "      <td>4</td>\n",
       "      <td>2013-05-21 08:09:28</td>\n",
       "      <td>Clausen Nicklas</td>\n",
       "      <td>NicklasSClausen@yahoo.com</td>\n",
       "      <td>GUEST_INVITE</td>\n",
       "      <td>1369210168</td>\n",
       "      <td>0</td>\n",
       "      <td>0</td>\n",
       "      <td>1</td>\n",
       "      <td>5151.0</td>\n",
       "    </tr>\n",
       "    <tr>\n",
       "      <th>4</th>\n",
       "      <td>5</td>\n",
       "      <td>2013-01-17 10:14:20</td>\n",
       "      <td>Raw Grace</td>\n",
       "      <td>GraceRaw@yahoo.com</td>\n",
       "      <td>GUEST_INVITE</td>\n",
       "      <td>1358849660</td>\n",
       "      <td>0</td>\n",
       "      <td>0</td>\n",
       "      <td>193</td>\n",
       "      <td>5240.0</td>\n",
       "    </tr>\n",
       "  </tbody>\n",
       "</table>\n",
       "</div>"
      ],
      "text/plain": [
       "   user_id        creation_time               name  \\\n",
       "0        1  2014-04-22 03:53:30     Clausen August   \n",
       "1        2  2013-11-15 03:45:04      Poole Matthew   \n",
       "2        3  2013-03-19 23:14:52  Bottrill Mitchell   \n",
       "3        4  2013-05-21 08:09:28    Clausen Nicklas   \n",
       "4        5  2013-01-17 10:14:20          Raw Grace   \n",
       "\n",
       "                        email creation_source  last_session_creation_time  \\\n",
       "0    AugustCClausen@yahoo.com    GUEST_INVITE                  1398138810   \n",
       "1      MatthewPoole@gustr.com      ORG_INVITE                  1396237504   \n",
       "2  MitchellBottrill@gustr.com      ORG_INVITE                  1363734892   \n",
       "3   NicklasSClausen@yahoo.com    GUEST_INVITE                  1369210168   \n",
       "4          GraceRaw@yahoo.com    GUEST_INVITE                  1358849660   \n",
       "\n",
       "   opted_in_to_mailing_list  enabled_for_marketing_drip  org_id  \\\n",
       "0                         1                           0      11   \n",
       "1                         0                           0       1   \n",
       "2                         0                           0      94   \n",
       "3                         0                           0       1   \n",
       "4                         0                           0     193   \n",
       "\n",
       "   invited_by_user_id  \n",
       "0             10803.0  \n",
       "1               316.0  \n",
       "2              1525.0  \n",
       "3              5151.0  \n",
       "4              5240.0  "
      ]
     },
     "execution_count": 180,
     "metadata": {},
     "output_type": "execute_result"
    }
   ],
   "source": [
    "df2.head()"
   ]
  },
  {
   "cell_type": "code",
   "execution_count": 181,
   "id": "35811bf1",
   "metadata": {},
   "outputs": [],
   "source": [
    "from datetime import datetime\n",
    "\n",
    "date_list= []\n",
    "for i in df2['last_session_creation_time'].to_list():\n",
    "    k = datetime.utcfromtimestamp(i).strftime('%Y-%m-%d %H:%M:%S')\n",
    "    date_list.append(k)\n",
    "    \n",
    "# add list to 'last_session_creation_time' columns\n",
    "df2['last_session_creation_time'] = date_list\n",
    "\n",
    "\n",
    "# Note: 1970-01-01 00:00:00 means NANs"
   ]
  },
  {
   "cell_type": "code",
   "execution_count": 182,
   "id": "b4e9b057",
   "metadata": {},
   "outputs": [],
   "source": [
    "# Convert the type of time related columns\n",
    "df2['creation_time']=pd.to_datetime(df2['creation_time'])\n",
    "\n",
    "df2['last_session_creation_time'] = pd.to_datetime(df2['last_session_creation_time'])"
   ]
  },
  {
   "cell_type": "markdown",
   "id": "9f608a41",
   "metadata": {},
   "source": [
    "**Merge two tables**"
   ]
  },
  {
   "cell_type": "code",
   "execution_count": 183,
   "id": "ae23cd28",
   "metadata": {},
   "outputs": [],
   "source": [
    "df = df2.merge(df1, how='left', on='user_id')"
   ]
  },
  {
   "cell_type": "code",
   "execution_count": 184,
   "id": "d694c84a",
   "metadata": {},
   "outputs": [],
   "source": [
    "# Some of user_ids are not in usage table. That means they didn't use the product.\n",
    "# Their adopt_status is 0\n",
    "\n",
    "df['adopt_status'].replace(np.nan, 0, inplace=True)"
   ]
  },
  {
   "cell_type": "code",
   "execution_count": 185,
   "id": "f3b77d0d",
   "metadata": {},
   "outputs": [],
   "source": [
    "# Change some column names\n",
    "df.rename(columns={'opted_in_to_mailing_list':'mail', 'enabled_for_marketing_drip':'reg_mail'}, inplace=True)"
   ]
  },
  {
   "cell_type": "code",
   "execution_count": 186,
   "id": "9f1a8b75",
   "metadata": {},
   "outputs": [],
   "source": [
    "df.rename(columns={'Sum':'total_visit', 'Mean':'ave_time_diff'}, inplace=True)"
   ]
  },
  {
   "cell_type": "code",
   "execution_count": 187,
   "id": "e1e95b0a",
   "metadata": {},
   "outputs": [],
   "source": [
    "# the users -who have not logged into product- number of visit seems NANs\n",
    "# replace with 0\n",
    "df['total_visit'].replace(np.nan, 0, inplace=True)"
   ]
  },
  {
   "cell_type": "markdown",
   "id": "eb24c1aa",
   "metadata": {},
   "source": [
    "**Creating new features**"
   ]
  },
  {
   "cell_type": "code",
   "execution_count": 188,
   "id": "b3a201e9",
   "metadata": {},
   "outputs": [],
   "source": [
    "# The time between creation_time and last login\n",
    "#df[creat_last_diff] == \n",
    "df['create_last_diff'] = ((df['last_session_creation_time'] - df['creation_time']).dt.days)\n",
    "\n",
    "# note: negative days means these users have never login a session. They just created an account. "
   ]
  },
  {
   "cell_type": "code",
   "execution_count": 189,
   "id": "ac727760",
   "metadata": {},
   "outputs": [],
   "source": [
    "# The important thing is not to be invited by whom, but to creat the account without being invited or not.\n",
    "# Create a new column which shows the user invited or not\n",
    "df['invited'] = np.where(df['invited_by_user_id']>0, 1,0)\n",
    "\n",
    "# 1 show invited by someone"
   ]
  },
  {
   "cell_type": "code",
   "execution_count": 190,
   "id": "ddc4e240",
   "metadata": {},
   "outputs": [],
   "source": [
    "# create a list of our conditions\n",
    "conditions = [\n",
    "    (df['create_last_diff'] < 0), # they have never login --> 0\n",
    "    (df['create_last_diff'] == 0), # they have login only one time. At the same day with creatng account. --> 1\n",
    "    (df['create_last_diff'] > 0), # they have login again after they created their account--> 2\n",
    "        ]\n",
    "# create a list of the values we want to assign for each condition\n",
    "values = [0, 1, 2]\n",
    "\n",
    "# create a new column \n",
    "df['login_system'] = np.select(conditions, values)"
   ]
  },
  {
   "cell_type": "code",
   "execution_count": 191,
   "id": "89177030",
   "metadata": {},
   "outputs": [],
   "source": [
    "# One-hot coding for CREATION_SOURCE\n",
    "\n",
    "# One-hot encoding for feature selection\n",
    "from sklearn.preprocessing import OneHotEncoder\n",
    "\n",
    "#creating instance of one-hot-encoder\n",
    "encoder = OneHotEncoder(handle_unknown='ignore')\n",
    "\n",
    "#perform one-hot encoding on 'team' column \n",
    "encoder_df = pd.DataFrame(encoder.fit_transform(df[['creation_source']]).toarray())\n",
    "\n",
    "#merge one-hot encoded columns back with original DataFrame\n",
    "df = df.join(encoder_df)"
   ]
  },
  {
   "cell_type": "code",
   "execution_count": 192,
   "id": "271cac07",
   "metadata": {},
   "outputs": [],
   "source": [
    "df.rename(columns ={0:'guest_invite', 1:'org_invite', 2:'personal_project', 3:'sign_up', 4:'sign_up_google'}, inplace=True)"
   ]
  },
  {
   "cell_type": "code",
   "execution_count": 193,
   "id": "36d05bf9",
   "metadata": {},
   "outputs": [],
   "source": [
    "# One-hot coding for LOGIN SYSTEM\n",
    "\n",
    "#creating instance of one-hot-encoder\n",
    "encoder = OneHotEncoder(handle_unknown='ignore')\n",
    "\n",
    "#perform one-hot encoding on 'team' column \n",
    "encoder_df = pd.DataFrame(encoder.fit_transform(df[['login_system']]).toarray())\n",
    "\n",
    "#merge one-hot encoded columns back with original DataFrame\n",
    "df = df.join(encoder_df)"
   ]
  },
  {
   "cell_type": "code",
   "execution_count": 194,
   "id": "27c3d8fa",
   "metadata": {},
   "outputs": [],
   "source": [
    "df.rename(columns ={0:'non_logged_user', 1:'one_logged_user', 2:'regular_user' }, inplace=True)"
   ]
  },
  {
   "cell_type": "markdown",
   "id": "f8c3cb57",
   "metadata": {},
   "source": [
    "**Prepare data for EDA and Feature Selection**"
   ]
  },
  {
   "cell_type": "code",
   "execution_count": 195,
   "id": "70578985",
   "metadata": {},
   "outputs": [],
   "source": [
    "#First take the copy of dataframe. Keep it in case we need.\n",
    "df_final = df.copy()"
   ]
  },
  {
   "cell_type": "code",
   "execution_count": 196,
   "id": "f73a35c1",
   "metadata": {},
   "outputs": [],
   "source": [
    "# Set index as user_id. We won't use in feature selection\n",
    "df = df.set_index('user_id')"
   ]
  },
  {
   "cell_type": "code",
   "execution_count": 197,
   "id": "6547f7c5",
   "metadata": {},
   "outputs": [],
   "source": [
    "# Drop useless attributes\n",
    "df.drop(columns=['name', 'email', 'creation_source', 'creation_time','last_session_creation_time'], inplace=True)"
   ]
  },
  {
   "cell_type": "code",
   "execution_count": 198,
   "id": "77bfdf24",
   "metadata": {},
   "outputs": [],
   "source": [
    "# the users -who have not logged into product- create_last-diff seems <0\n",
    "# and ave_time_diff is NAN\n",
    "# time differencee<0 is impossible\n",
    "# it's negative because these values are NaNs in table 2\n",
    "# replace negatives with 0\n",
    "temp = df.create_last_diff < 0\n",
    "df.loc[temp, 'create_last_diff'] = 0\n",
    "df.loc[temp, 'ave_time_diff'] = 0"
   ]
  },
  {
   "cell_type": "code",
   "execution_count": 199,
   "id": "e2d97db3",
   "metadata": {},
   "outputs": [
    {
     "name": "stdout",
     "output_type": "stream",
     "text": [
      "2565\n"
     ]
    }
   ],
   "source": [
    "print(len(df.invited_by_user_id.value_counts()))\n",
    "# I want to drop invited_by_user_id. There are too much different ids. I am interested in invited or not invited\n",
    "df.drop(columns=['invited_by_user_id'], inplace=True)"
   ]
  },
  {
   "cell_type": "code",
   "execution_count": 200,
   "id": "44489bca",
   "metadata": {},
   "outputs": [
    {
     "name": "stdout",
     "output_type": "stream",
     "text": [
      "417\n"
     ]
    }
   ],
   "source": [
    "print(len(df.org_id.value_counts()))\n",
    "# I won't organization id columns for feature selection\n",
    "df.drop(columns='org_id', inplace=True)"
   ]
  },
  {
   "cell_type": "code",
   "execution_count": 201,
   "id": "c161fa90",
   "metadata": {},
   "outputs": [
    {
     "data": {
      "text/html": [
       "<div>\n",
       "<style scoped>\n",
       "    .dataframe tbody tr th:only-of-type {\n",
       "        vertical-align: middle;\n",
       "    }\n",
       "\n",
       "    .dataframe tbody tr th {\n",
       "        vertical-align: top;\n",
       "    }\n",
       "\n",
       "    .dataframe thead th {\n",
       "        text-align: right;\n",
       "    }\n",
       "</style>\n",
       "<table border=\"1\" class=\"dataframe\">\n",
       "  <thead>\n",
       "    <tr style=\"text-align: right;\">\n",
       "      <th></th>\n",
       "      <th>mail</th>\n",
       "      <th>reg_mail</th>\n",
       "      <th>ave_time_diff</th>\n",
       "      <th>total_visit</th>\n",
       "      <th>adopt_status</th>\n",
       "      <th>create_last_diff</th>\n",
       "      <th>invited</th>\n",
       "      <th>login_system</th>\n",
       "      <th>guest_invite</th>\n",
       "      <th>org_invite</th>\n",
       "      <th>personal_project</th>\n",
       "      <th>sign_up</th>\n",
       "      <th>sign_up_google</th>\n",
       "      <th>non_logged_user</th>\n",
       "      <th>one_logged_user</th>\n",
       "      <th>regular_user</th>\n",
       "    </tr>\n",
       "    <tr>\n",
       "      <th>user_id</th>\n",
       "      <th></th>\n",
       "      <th></th>\n",
       "      <th></th>\n",
       "      <th></th>\n",
       "      <th></th>\n",
       "      <th></th>\n",
       "      <th></th>\n",
       "      <th></th>\n",
       "      <th></th>\n",
       "      <th></th>\n",
       "      <th></th>\n",
       "      <th></th>\n",
       "      <th></th>\n",
       "      <th></th>\n",
       "      <th></th>\n",
       "      <th></th>\n",
       "    </tr>\n",
       "  </thead>\n",
       "  <tbody>\n",
       "    <tr>\n",
       "      <th>1</th>\n",
       "      <td>1</td>\n",
       "      <td>0</td>\n",
       "      <td>0.000000</td>\n",
       "      <td>1.0</td>\n",
       "      <td>0.0</td>\n",
       "      <td>0</td>\n",
       "      <td>1</td>\n",
       "      <td>1</td>\n",
       "      <td>1.0</td>\n",
       "      <td>0.0</td>\n",
       "      <td>0.0</td>\n",
       "      <td>0.0</td>\n",
       "      <td>0.0</td>\n",
       "      <td>0.0</td>\n",
       "      <td>1.0</td>\n",
       "      <td>0.0</td>\n",
       "    </tr>\n",
       "    <tr>\n",
       "      <th>2</th>\n",
       "      <td>0</td>\n",
       "      <td>0</td>\n",
       "      <td>9.714286</td>\n",
       "      <td>14.0</td>\n",
       "      <td>1.0</td>\n",
       "      <td>136</td>\n",
       "      <td>1</td>\n",
       "      <td>2</td>\n",
       "      <td>0.0</td>\n",
       "      <td>1.0</td>\n",
       "      <td>0.0</td>\n",
       "      <td>0.0</td>\n",
       "      <td>0.0</td>\n",
       "      <td>0.0</td>\n",
       "      <td>0.0</td>\n",
       "      <td>1.0</td>\n",
       "    </tr>\n",
       "    <tr>\n",
       "      <th>3</th>\n",
       "      <td>0</td>\n",
       "      <td>0</td>\n",
       "      <td>0.000000</td>\n",
       "      <td>1.0</td>\n",
       "      <td>0.0</td>\n",
       "      <td>0</td>\n",
       "      <td>1</td>\n",
       "      <td>1</td>\n",
       "      <td>0.0</td>\n",
       "      <td>1.0</td>\n",
       "      <td>0.0</td>\n",
       "      <td>0.0</td>\n",
       "      <td>0.0</td>\n",
       "      <td>0.0</td>\n",
       "      <td>1.0</td>\n",
       "      <td>0.0</td>\n",
       "    </tr>\n",
       "    <tr>\n",
       "      <th>4</th>\n",
       "      <td>0</td>\n",
       "      <td>0</td>\n",
       "      <td>0.000000</td>\n",
       "      <td>1.0</td>\n",
       "      <td>0.0</td>\n",
       "      <td>1</td>\n",
       "      <td>1</td>\n",
       "      <td>2</td>\n",
       "      <td>1.0</td>\n",
       "      <td>0.0</td>\n",
       "      <td>0.0</td>\n",
       "      <td>0.0</td>\n",
       "      <td>0.0</td>\n",
       "      <td>0.0</td>\n",
       "      <td>0.0</td>\n",
       "      <td>1.0</td>\n",
       "    </tr>\n",
       "    <tr>\n",
       "      <th>5</th>\n",
       "      <td>0</td>\n",
       "      <td>0</td>\n",
       "      <td>0.000000</td>\n",
       "      <td>1.0</td>\n",
       "      <td>0.0</td>\n",
       "      <td>5</td>\n",
       "      <td>1</td>\n",
       "      <td>2</td>\n",
       "      <td>1.0</td>\n",
       "      <td>0.0</td>\n",
       "      <td>0.0</td>\n",
       "      <td>0.0</td>\n",
       "      <td>0.0</td>\n",
       "      <td>0.0</td>\n",
       "      <td>0.0</td>\n",
       "      <td>1.0</td>\n",
       "    </tr>\n",
       "  </tbody>\n",
       "</table>\n",
       "</div>"
      ],
      "text/plain": [
       "         mail  reg_mail  ave_time_diff  total_visit  adopt_status  \\\n",
       "user_id                                                             \n",
       "1           1         0       0.000000          1.0           0.0   \n",
       "2           0         0       9.714286         14.0           1.0   \n",
       "3           0         0       0.000000          1.0           0.0   \n",
       "4           0         0       0.000000          1.0           0.0   \n",
       "5           0         0       0.000000          1.0           0.0   \n",
       "\n",
       "         create_last_diff  invited  login_system  guest_invite  org_invite  \\\n",
       "user_id                                                                      \n",
       "1                       0        1             1           1.0         0.0   \n",
       "2                     136        1             2           0.0         1.0   \n",
       "3                       0        1             1           0.0         1.0   \n",
       "4                       1        1             2           1.0         0.0   \n",
       "5                       5        1             2           1.0         0.0   \n",
       "\n",
       "         personal_project  sign_up  sign_up_google  non_logged_user  \\\n",
       "user_id                                                               \n",
       "1                     0.0      0.0             0.0              0.0   \n",
       "2                     0.0      0.0             0.0              0.0   \n",
       "3                     0.0      0.0             0.0              0.0   \n",
       "4                     0.0      0.0             0.0              0.0   \n",
       "5                     0.0      0.0             0.0              0.0   \n",
       "\n",
       "         one_logged_user  regular_user  \n",
       "user_id                                 \n",
       "1                    1.0           0.0  \n",
       "2                    0.0           1.0  \n",
       "3                    1.0           0.0  \n",
       "4                    0.0           1.0  \n",
       "5                    0.0           1.0  "
      ]
     },
     "execution_count": 201,
     "metadata": {},
     "output_type": "execute_result"
    }
   ],
   "source": [
    "df.head()"
   ]
  },
  {
   "cell_type": "markdown",
   "id": "3e3d5c3f",
   "metadata": {},
   "source": [
    "**EDA**"
   ]
  },
  {
   "cell_type": "code",
   "execution_count": 202,
   "id": "9d82b59b",
   "metadata": {},
   "outputs": [
    {
     "name": "stdout",
     "output_type": "stream",
     "text": [
      "0.0    10524\n",
      "1.0     1476\n",
      "Name: adopt_status, dtype: int64\n",
      "0.0    87.7\n",
      "1.0    12.3\n",
      "Name: adopt_status, dtype: float64\n"
     ]
    }
   ],
   "source": [
    "# number of adopted users\n",
    "print(df.adopt_status.value_counts())\n",
    "print(round(df.adopt_status.value_counts(normalize=True)*100,2))"
   ]
  },
  {
   "cell_type": "code",
   "execution_count": 203,
   "id": "af2909a4",
   "metadata": {},
   "outputs": [
    {
     "data": {
      "text/html": [
       "<div>\n",
       "<style scoped>\n",
       "    .dataframe tbody tr th:only-of-type {\n",
       "        vertical-align: middle;\n",
       "    }\n",
       "\n",
       "    .dataframe tbody tr th {\n",
       "        vertical-align: top;\n",
       "    }\n",
       "\n",
       "    .dataframe thead th {\n",
       "        text-align: right;\n",
       "    }\n",
       "</style>\n",
       "<table border=\"1\" class=\"dataframe\">\n",
       "  <thead>\n",
       "    <tr style=\"text-align: right;\">\n",
       "      <th>adopt_status</th>\n",
       "      <th>0.0</th>\n",
       "      <th>1.0</th>\n",
       "    </tr>\n",
       "    <tr>\n",
       "      <th>creation_source</th>\n",
       "      <th></th>\n",
       "      <th></th>\n",
       "    </tr>\n",
       "  </thead>\n",
       "  <tbody>\n",
       "    <tr>\n",
       "      <th>GUEST_INVITE</th>\n",
       "      <td>17.36</td>\n",
       "      <td>22.76</td>\n",
       "    </tr>\n",
       "    <tr>\n",
       "      <th>ORG_INVITE</th>\n",
       "      <td>35.59</td>\n",
       "      <td>34.49</td>\n",
       "    </tr>\n",
       "    <tr>\n",
       "      <th>PERSONAL_PROJECTS</th>\n",
       "      <td>18.64</td>\n",
       "      <td>10.09</td>\n",
       "    </tr>\n",
       "    <tr>\n",
       "      <th>SIGNUP</th>\n",
       "      <td>17.23</td>\n",
       "      <td>18.56</td>\n",
       "    </tr>\n",
       "    <tr>\n",
       "      <th>SIGNUP_GOOGLE_AUTH</th>\n",
       "      <td>11.18</td>\n",
       "      <td>14.09</td>\n",
       "    </tr>\n",
       "  </tbody>\n",
       "</table>\n",
       "</div>"
      ],
      "text/plain": [
       "adopt_status          0.0    1.0\n",
       "creation_source                 \n",
       "GUEST_INVITE        17.36  22.76\n",
       "ORG_INVITE          35.59  34.49\n",
       "PERSONAL_PROJECTS   18.64  10.09\n",
       "SIGNUP              17.23  18.56\n",
       "SIGNUP_GOOGLE_AUTH  11.18  14.09"
      ]
     },
     "execution_count": 203,
     "metadata": {},
     "output_type": "execute_result"
    }
   ],
   "source": [
    "# Adoption status according to creation source\n",
    "round(pd.crosstab(df_final.creation_source, df_final.adopt_status, normalize='columns')*100,2)"
   ]
  },
  {
   "cell_type": "code",
   "execution_count": 204,
   "id": "657d9be1",
   "metadata": {},
   "outputs": [
    {
     "data": {
      "image/png": "[encoded data removed]",
      "text/plain": [
       "<Figure size 720x504 with 1 Axes>"
      ]
     },
     "metadata": {},
     "output_type": "display_data"
    }
   ],
   "source": [
    "# Visualization of creation of sources\n",
    "import seaborn as sns\n",
    "\n",
    "sns.set(style=\"whitegrid\")\n",
    "plt.figure(figsize=(10,7))\n",
    "total = float(len(df))\n",
    "ax = sns.countplot(x=\"adopt_status\", hue='creation_source', data=df_final)\n",
    "ax.set(xlabel='Adopt Status of Users', ylabel='Frequency')\n",
    "ax.set_xticklabels(['Not Adopted-User', 'Adopted-User'])\n",
    "plt.legend(bbox_to_anchor=(1.05, 1), loc=2, borderaxespad=0.)\n",
    "\n",
    "for p in ax.patches:\n",
    "    percentage = '{:.1f}%'.format(100 * p.get_height()/total)\n",
    "    x = p.get_x() + p.get_width()\n",
    "    y = p.get_height()\n",
    "    ax.annotate(percentage, (x, y),ha='right')\n",
    "plt.show()\n",
    "\n"
   ]
  },
  {
   "cell_type": "code",
   "execution_count": 205,
   "id": "8d32b67c",
   "metadata": {
    "scrolled": true
   },
   "outputs": [
    {
     "name": "stdout",
     "output_type": "stream",
     "text": [
      "adopt_status    0.0    1.0\n",
      "mail                      \n",
      "0             75.17  74.19\n",
      "1             24.83  25.81\n",
      "adopt_status    0.0    1.0\n",
      "reg_mail                  \n",
      "0             85.07  85.03\n",
      "1             14.93  14.97\n",
      "adopt_status    0.0    1.0\n",
      "invited                   \n",
      "0             47.05  42.75\n",
      "1             52.95  57.25\n",
      "adopt_status    0.0    1.0\n",
      "login_system              \n",
      "0             30.19    0.0\n",
      "1             28.76    0.0\n",
      "2             41.05  100.0\n"
     ]
    }
   ],
   "source": [
    "# Adoption status according to mail preferences, invited by someone, \n",
    "for column in df[['mail','reg_mail','invited','login_system']]:\n",
    "    columnSeriesObj = df[column]\n",
    "    print(round(pd.crosstab(columnSeriesObj, df.adopt_status, normalize='columns')*100,2))"
   ]
  },
  {
   "cell_type": "code",
   "execution_count": 206,
   "id": "c8d06d9b",
   "metadata": {},
   "outputs": [
    {
     "data": {
      "text/html": [
       "<div>\n",
       "<style scoped>\n",
       "    .dataframe tbody tr th:only-of-type {\n",
       "        vertical-align: middle;\n",
       "    }\n",
       "\n",
       "    .dataframe tbody tr th {\n",
       "        vertical-align: top;\n",
       "    }\n",
       "\n",
       "    .dataframe thead th {\n",
       "        text-align: right;\n",
       "    }\n",
       "</style>\n",
       "<table border=\"1\" class=\"dataframe\">\n",
       "  <thead>\n",
       "    <tr style=\"text-align: right;\">\n",
       "      <th></th>\n",
       "      <th>total_visit</th>\n",
       "    </tr>\n",
       "    <tr>\n",
       "      <th>adopt_status</th>\n",
       "      <th></th>\n",
       "    </tr>\n",
       "  </thead>\n",
       "  <tbody>\n",
       "    <tr>\n",
       "      <th>0.0</th>\n",
       "      <td>4.808453</td>\n",
       "    </tr>\n",
       "    <tr>\n",
       "      <th>1.0</th>\n",
       "      <td>133.018293</td>\n",
       "    </tr>\n",
       "  </tbody>\n",
       "</table>\n",
       "</div>"
      ],
      "text/plain": [
       "              total_visit\n",
       "adopt_status             \n",
       "0.0              4.808453\n",
       "1.0            133.018293"
      ]
     },
     "execution_count": 206,
     "metadata": {},
     "output_type": "execute_result"
    }
   ],
   "source": [
    "# the average number of logins \n",
    "# The users who logged into product more than one\n",
    "df[df['total_visit']>1].pivot_table(index='adopt_status', values=['total_visit'], aggfunc=np.mean)"
   ]
  },
  {
   "cell_type": "code",
   "execution_count": 207,
   "id": "03c86f43",
   "metadata": {},
   "outputs": [
    {
     "data": {
      "text/plain": [
       "(array([9.978e+03, 3.180e+02, 1.360e+02, 4.900e+01, 2.400e+01, 4.000e+00,\n",
       "        1.200e+01, 2.000e+00, 0.000e+00, 1.000e+00]),\n",
       " array([ 0. ,  3.5,  7. , 10.5, 14. , 17.5, 21. , 24.5, 28. , 31.5, 35. ]),\n",
       " <BarContainer object of 10 artists>)"
      ]
     },
     "execution_count": 207,
     "metadata": {},
     "output_type": "execute_result"
    },
    {
     "data": {
      "image/png": "[encoded data removed]",
      "text/plain": [
       "<Figure size 432x288 with 2 Axes>"
      ]
     },
     "metadata": {},
     "output_type": "display_data"
    }
   ],
   "source": [
    "fig, axs = plt.subplots(1, 2, sharey=True, tight_layout=True)\n",
    "\n",
    "# We can set the number of bins with the *bins* keyword argument.\n",
    "axs[0].hist(df[df.adopt_status==1]['total_visit'])\n",
    "axs[1].hist(df[df.adopt_status==0]['total_visit'])"
   ]
  },
  {
   "cell_type": "code",
   "execution_count": 208,
   "id": "c5da4b65",
   "metadata": {},
   "outputs": [
    {
     "data": {
      "text/html": [
       "<div>\n",
       "<style scoped>\n",
       "    .dataframe tbody tr th:only-of-type {\n",
       "        vertical-align: middle;\n",
       "    }\n",
       "\n",
       "    .dataframe tbody tr th {\n",
       "        vertical-align: top;\n",
       "    }\n",
       "\n",
       "    .dataframe thead th {\n",
       "        text-align: right;\n",
       "    }\n",
       "</style>\n",
       "<table border=\"1\" class=\"dataframe\">\n",
       "  <thead>\n",
       "    <tr style=\"text-align: right;\">\n",
       "      <th></th>\n",
       "      <th>create_last_diff</th>\n",
       "    </tr>\n",
       "    <tr>\n",
       "      <th>adopt_status</th>\n",
       "      <th></th>\n",
       "    </tr>\n",
       "  </thead>\n",
       "  <tbody>\n",
       "    <tr>\n",
       "      <th>0.0</th>\n",
       "      <td>12.676620</td>\n",
       "    </tr>\n",
       "    <tr>\n",
       "      <th>1.0</th>\n",
       "      <td>316.906504</td>\n",
       "    </tr>\n",
       "  </tbody>\n",
       "</table>\n",
       "</div>"
      ],
      "text/plain": [
       "              create_last_diff\n",
       "adopt_status                  \n",
       "0.0                  12.676620\n",
       "1.0                 316.906504"
      ]
     },
     "execution_count": 208,
     "metadata": {},
     "output_type": "execute_result"
    }
   ],
   "source": [
    "# the average time difference between creating account and last login\n",
    "# The users who logged into product more than one\n",
    "df[(df['create_last_diff']!=0)].pivot_table(index='adopt_status', values=['create_last_diff'], aggfunc=np.mean)"
   ]
  },
  {
   "cell_type": "code",
   "execution_count": 209,
   "id": "96c5b0e7",
   "metadata": {},
   "outputs": [
    {
     "data": {
      "text/html": [
       "<div>\n",
       "<style scoped>\n",
       "    .dataframe tbody tr th:only-of-type {\n",
       "        vertical-align: middle;\n",
       "    }\n",
       "\n",
       "    .dataframe tbody tr th {\n",
       "        vertical-align: top;\n",
       "    }\n",
       "\n",
       "    .dataframe thead th {\n",
       "        text-align: right;\n",
       "    }\n",
       "</style>\n",
       "<table border=\"1\" class=\"dataframe\">\n",
       "  <thead>\n",
       "    <tr style=\"text-align: right;\">\n",
       "      <th></th>\n",
       "      <th>ave_time_diff</th>\n",
       "    </tr>\n",
       "    <tr>\n",
       "      <th>adopt_status</th>\n",
       "      <th></th>\n",
       "    </tr>\n",
       "  </thead>\n",
       "  <tbody>\n",
       "    <tr>\n",
       "      <th>0.0</th>\n",
       "      <td>8.676899</td>\n",
       "    </tr>\n",
       "    <tr>\n",
       "      <th>1.0</th>\n",
       "      <td>3.798614</td>\n",
       "    </tr>\n",
       "  </tbody>\n",
       "</table>\n",
       "</div>"
      ],
      "text/plain": [
       "              ave_time_diff\n",
       "adopt_status               \n",
       "0.0                8.676899\n",
       "1.0                3.798614"
      ]
     },
     "execution_count": 209,
     "metadata": {},
     "output_type": "execute_result"
    }
   ],
   "source": [
    "# the average time difference between creating account and last login\n",
    "# The users who logged into product more than one\n",
    "df[df['total_visit']>1].pivot_table(index='adopt_status', values=['ave_time_diff'], aggfunc=np.mean)"
   ]
  },
  {
   "cell_type": "code",
   "execution_count": 210,
   "id": "f4fec7fb",
   "metadata": {},
   "outputs": [
    {
     "data": {
      "text/html": [
       "<div>\n",
       "<style scoped>\n",
       "    .dataframe tbody tr th:only-of-type {\n",
       "        vertical-align: middle;\n",
       "    }\n",
       "\n",
       "    .dataframe tbody tr th {\n",
       "        vertical-align: top;\n",
       "    }\n",
       "\n",
       "    .dataframe thead th {\n",
       "        text-align: right;\n",
       "    }\n",
       "</style>\n",
       "<table border=\"1\" class=\"dataframe\">\n",
       "  <thead>\n",
       "    <tr style=\"text-align: right;\">\n",
       "      <th></th>\n",
       "      <th>mail</th>\n",
       "      <th>reg_mail</th>\n",
       "      <th>ave_time_diff</th>\n",
       "      <th>total_visit</th>\n",
       "      <th>adopt_status</th>\n",
       "      <th>create_last_diff</th>\n",
       "      <th>invited</th>\n",
       "      <th>login_system</th>\n",
       "      <th>guest_invite</th>\n",
       "      <th>org_invite</th>\n",
       "      <th>personal_project</th>\n",
       "      <th>sign_up</th>\n",
       "      <th>sign_up_google</th>\n",
       "      <th>non_logged_user</th>\n",
       "      <th>one_logged_user</th>\n",
       "      <th>regular_user</th>\n",
       "    </tr>\n",
       "    <tr>\n",
       "      <th>user_id</th>\n",
       "      <th></th>\n",
       "      <th></th>\n",
       "      <th></th>\n",
       "      <th></th>\n",
       "      <th></th>\n",
       "      <th></th>\n",
       "      <th></th>\n",
       "      <th></th>\n",
       "      <th></th>\n",
       "      <th></th>\n",
       "      <th></th>\n",
       "      <th></th>\n",
       "      <th></th>\n",
       "      <th></th>\n",
       "      <th></th>\n",
       "      <th></th>\n",
       "    </tr>\n",
       "  </thead>\n",
       "  <tbody>\n",
       "    <tr>\n",
       "      <th>1</th>\n",
       "      <td>1</td>\n",
       "      <td>0</td>\n",
       "      <td>0.000000</td>\n",
       "      <td>1.0</td>\n",
       "      <td>0.0</td>\n",
       "      <td>0</td>\n",
       "      <td>1</td>\n",
       "      <td>1</td>\n",
       "      <td>1.0</td>\n",
       "      <td>0.0</td>\n",
       "      <td>0.0</td>\n",
       "      <td>0.0</td>\n",
       "      <td>0.0</td>\n",
       "      <td>0.0</td>\n",
       "      <td>1.0</td>\n",
       "      <td>0.0</td>\n",
       "    </tr>\n",
       "    <tr>\n",
       "      <th>2</th>\n",
       "      <td>0</td>\n",
       "      <td>0</td>\n",
       "      <td>9.714286</td>\n",
       "      <td>14.0</td>\n",
       "      <td>1.0</td>\n",
       "      <td>136</td>\n",
       "      <td>1</td>\n",
       "      <td>2</td>\n",
       "      <td>0.0</td>\n",
       "      <td>1.0</td>\n",
       "      <td>0.0</td>\n",
       "      <td>0.0</td>\n",
       "      <td>0.0</td>\n",
       "      <td>0.0</td>\n",
       "      <td>0.0</td>\n",
       "      <td>1.0</td>\n",
       "    </tr>\n",
       "    <tr>\n",
       "      <th>3</th>\n",
       "      <td>0</td>\n",
       "      <td>0</td>\n",
       "      <td>0.000000</td>\n",
       "      <td>1.0</td>\n",
       "      <td>0.0</td>\n",
       "      <td>0</td>\n",
       "      <td>1</td>\n",
       "      <td>1</td>\n",
       "      <td>0.0</td>\n",
       "      <td>1.0</td>\n",
       "      <td>0.0</td>\n",
       "      <td>0.0</td>\n",
       "      <td>0.0</td>\n",
       "      <td>0.0</td>\n",
       "      <td>1.0</td>\n",
       "      <td>0.0</td>\n",
       "    </tr>\n",
       "    <tr>\n",
       "      <th>4</th>\n",
       "      <td>0</td>\n",
       "      <td>0</td>\n",
       "      <td>0.000000</td>\n",
       "      <td>1.0</td>\n",
       "      <td>0.0</td>\n",
       "      <td>1</td>\n",
       "      <td>1</td>\n",
       "      <td>2</td>\n",
       "      <td>1.0</td>\n",
       "      <td>0.0</td>\n",
       "      <td>0.0</td>\n",
       "      <td>0.0</td>\n",
       "      <td>0.0</td>\n",
       "      <td>0.0</td>\n",
       "      <td>0.0</td>\n",
       "      <td>1.0</td>\n",
       "    </tr>\n",
       "    <tr>\n",
       "      <th>5</th>\n",
       "      <td>0</td>\n",
       "      <td>0</td>\n",
       "      <td>0.000000</td>\n",
       "      <td>1.0</td>\n",
       "      <td>0.0</td>\n",
       "      <td>5</td>\n",
       "      <td>1</td>\n",
       "      <td>2</td>\n",
       "      <td>1.0</td>\n",
       "      <td>0.0</td>\n",
       "      <td>0.0</td>\n",
       "      <td>0.0</td>\n",
       "      <td>0.0</td>\n",
       "      <td>0.0</td>\n",
       "      <td>0.0</td>\n",
       "      <td>1.0</td>\n",
       "    </tr>\n",
       "  </tbody>\n",
       "</table>\n",
       "</div>"
      ],
      "text/plain": [
       "         mail  reg_mail  ave_time_diff  total_visit  adopt_status  \\\n",
       "user_id                                                             \n",
       "1           1         0       0.000000          1.0           0.0   \n",
       "2           0         0       9.714286         14.0           1.0   \n",
       "3           0         0       0.000000          1.0           0.0   \n",
       "4           0         0       0.000000          1.0           0.0   \n",
       "5           0         0       0.000000          1.0           0.0   \n",
       "\n",
       "         create_last_diff  invited  login_system  guest_invite  org_invite  \\\n",
       "user_id                                                                      \n",
       "1                       0        1             1           1.0         0.0   \n",
       "2                     136        1             2           0.0         1.0   \n",
       "3                       0        1             1           0.0         1.0   \n",
       "4                       1        1             2           1.0         0.0   \n",
       "5                       5        1             2           1.0         0.0   \n",
       "\n",
       "         personal_project  sign_up  sign_up_google  non_logged_user  \\\n",
       "user_id                                                               \n",
       "1                     0.0      0.0             0.0              0.0   \n",
       "2                     0.0      0.0             0.0              0.0   \n",
       "3                     0.0      0.0             0.0              0.0   \n",
       "4                     0.0      0.0             0.0              0.0   \n",
       "5                     0.0      0.0             0.0              0.0   \n",
       "\n",
       "         one_logged_user  regular_user  \n",
       "user_id                                 \n",
       "1                    1.0           0.0  \n",
       "2                    0.0           1.0  \n",
       "3                    1.0           0.0  \n",
       "4                    0.0           1.0  \n",
       "5                    0.0           1.0  "
      ]
     },
     "execution_count": 210,
     "metadata": {},
     "output_type": "execute_result"
    }
   ],
   "source": [
    "df.head()"
   ]
  },
  {
   "cell_type": "markdown",
   "id": "07c74a81",
   "metadata": {},
   "source": [
    "**Feature Selection**"
   ]
  },
  {
   "cell_type": "code",
   "execution_count": 211,
   "id": "1145aa60",
   "metadata": {},
   "outputs": [],
   "source": [
    "df.drop(columns=['login_system'], inplace=True)\n",
    "# We already one hot encoded this column"
   ]
  },
  {
   "cell_type": "code",
   "execution_count": 212,
   "id": "1bdb3f46",
   "metadata": {},
   "outputs": [],
   "source": [
    "# define features and target\n",
    "X= df.drop('adopt_status', axis=1)\n",
    "y= df['adopt_status']"
   ]
  },
  {
   "cell_type": "code",
   "execution_count": 213,
   "id": "b7c177c9",
   "metadata": {},
   "outputs": [
    {
     "name": "stdout",
     "output_type": "stream",
     "text": [
      "(12000, 14)\n",
      "(12000,)\n"
     ]
    }
   ],
   "source": [
    "print(X.shape)\n",
    "print(y.shape)"
   ]
  },
  {
   "cell_type": "code",
   "execution_count": 215,
   "id": "baac80ca",
   "metadata": {},
   "outputs": [],
   "source": [
    "from sklearn.model_selection import train_test_split\n",
    "\n",
    "X_train, X_test, y_train, y_test = train_test_split(X, y, test_size=.2, random_state=1)"
   ]
  },
  {
   "cell_type": "code",
   "execution_count": 216,
   "id": "31adad6f",
   "metadata": {},
   "outputs": [
    {
     "name": "stdout",
     "output_type": "stream",
     "text": [
      "('mail', 0.0034570751430782047)\n",
      "('reg_mail', 0.002686640233649807)\n",
      "('ave_time_diff', 0.20039225576315148)\n",
      "('total_visit', 0.40233150839018106)\n",
      "('create_last_diff', 0.33951620359410645)\n",
      "('invited', 0.0012914767034674863)\n",
      "('guest_invite', 0.001671463050327985)\n",
      "('org_invite', 0.0017841458468708347)\n",
      "('personal_project', 0.0015482856766471148)\n",
      "('sign_up', 0.0015730253580391858)\n",
      "('sign_up_google', 0.0013521137394278764)\n",
      "('non_logged_user', 0.007009412675342836)\n",
      "('one_logged_user', 0.007057593091563199)\n",
      "('regular_user', 0.028328800734146578)\n"
     ]
    }
   ],
   "source": [
    "from sklearn.ensemble import RandomForestClassifier\n",
    "\n",
    "#List of features\n",
    "feat_labels = X.columns\n",
    "\n",
    "# Create a random forest classifier\n",
    "clf = RandomForestClassifier(n_estimators=1000, random_state=1, n_jobs=-1)\n",
    "\n",
    "# Train the classifier\n",
    "clf.fit(X_train, y_train)\n",
    "\n",
    "# Print the name and gini importance of each feature\n",
    "for feature in zip(feat_labels, clf.feature_importances_):\n",
    "    print(feature)"
   ]
  },
  {
   "cell_type": "code",
   "execution_count": 250,
   "id": "3251c176",
   "metadata": {},
   "outputs": [],
   "source": [
    "list_of_factors = ['Mail', 'Regular Mail', 'Time between Logins', 'Number of Total Visit',\n",
    "                  'Time Between Create and Last Login', 'Invited', 'Organization Guest',\n",
    "                   'Organization Invited', 'Personal Project', ' Signed Up', \n",
    "                   'Signed Up -  Google', 'Never Logged', \n",
    "                   'One Time Logged', 'More than One Logged'] "
   ]
  },
  {
   "cell_type": "code",
   "execution_count": 268,
   "id": "8f236e0b",
   "metadata": {},
   "outputs": [
    {
     "data": {
      "image/png": "[encoded data removed]",
      "text/plain": [
       "<Figure size 360x360 with 1 Axes>"
      ]
     },
     "metadata": {},
     "output_type": "display_data"
    }
   ],
   "source": [
    "f_i = list(zip(feat_labels, np.round(clf.feature_importances_,3)*100))\n",
    "f_i.sort(key = lambda x : x[1])\n",
    "plt.figure(figsize=(5,5))\n",
    "bar = plt.barh([x[0] for x in f_i],[x[1] for x in f_i])\n",
    "plt.yticks(X.columns,list_of_factors )\n",
    "plt.xlabel('Importance')\n",
    "plt.title('Figure 1. Importance (%) of Factors')\n",
    "plt.bar_label(bar)\n",
    "plt.grid(False)\n",
    "plt.box(False)\n",
    "plt.show()"
   ]
  },
  {
   "cell_type": "code",
   "execution_count": null,
   "id": "6a5a5e66",
   "metadata": {},
   "outputs": [],
   "source": []
  }
 ],
 "metadata": {
  "kernelspec": {
   "display_name": "Python 3 (ipykernel)",
   "language": "python",
   "name": "python3"
  },
  "language_info": {
   "codemirror_mode": {
    "name": "ipython",
    "version": 3
   },
   "file_extension": ".py",
   "mimetype": "text/x-python",
   "name": "python",
   "nbconvert_exporter": "python",
   "pygments_lexer": "ipython3",
   "version": "3.9.7"
  }
 },
 "nbformat": 4,
 "nbformat_minor": 5
}
