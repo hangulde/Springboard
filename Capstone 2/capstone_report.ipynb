{
 "cells": [
  {
   "cell_type": "markdown",
   "metadata": {
    "id": "8SC76vIOXy6s"
   },
   "source": [
    "<h1><center>Air Quality of Boston</center></h1>"
   ]
  },
  {
   "cell_type": "markdown",
   "metadata": {
    "id": "7vfn0laKXvRQ"
   },
   "source": [
    "<div>\n",
    "<img src=\"boston.jpeg\" width=\"500\"/>\n",
    "</div>\n",
    "\n",
    "<center> Photo by WBUR </center>"
   ]
  },
  {
   "cell_type": "markdown",
   "metadata": {},
   "source": [
    "## **1. Problem Statement**\n",
    "\n",
    "Air pollution is contamination environment by any physical, chemical, or biological agent that changes the atmosphere's natural characteristics ([World Health Organization](https://www.who.int/health-topics/air-pollution#tab=tab_1)). The Air Quality Index, the concentration of pollutants in the air in a spesific place, is accepted as an indicator of air pollution. The higher the AQI value means, the greater the level of air pollution and the more considerable the health concern.\n",
    "\n",
    "Health problems\n",
    "\n",
    "Air pollution can cause both short term and long term effects on health and many people are concerned about pollution in the air that they breathe.\n",
    "\n",
    "According to World Health Organization ([2022](https://https://www.who.int/news-room/fact-sheets/detail/ambient-(outdoor)-air-quality-and-health)), the details of parameters are explained below.\n",
    "\n",
    "Particulate matter/particles(PM): PM, the common proxy indicator for air pollution, affects human health more than other pollutants. Atmospheric particulate matter, or fine particles, are tiny particles of solid or liquid suspended in a gas.\n",
    "\n",
    "Air quality forecasts are very important mitigation tools because of their ability to anticipate pollution events, and issue early warnings, allowing to take preventive measures and reduce impacts, by avoiding exposure (https://www.frontiersin.org/articles/10.3389/fdata.2022.826517/full#:~:text=Air%20quality%20forecasts%20are%20very,reduce%20impacts%2C%20by%20avoiding%20exposure.)\n",
    "\n",
    "As a precaution, the air pollution forecast is the basis for taking effective pollution control measures, and accurate forecasting of air pollution has become an important task. https://www.ncbi.nlm.nih.gov/pmc/articles/PMC5923822/. \n",
    "\n",
    "2. **Goal**\n",
    "\n",
    "Boston is the capital and largest city in Massachusetts in the United States. \n",
    "\n",
    "In this project, I aim to forecast the PM2.5 parameter of Boston for 2023"
   ]
  },
  {
   "cell_type": "markdown",
   "metadata": {},
   "source": [
    "## 2. **Datasets**"
   ]
  },
  {
   "cell_type": "markdown",
   "metadata": {},
   "source": [
    "**i. Air Quality Data:** \n",
    "This data is the daily average air quality of Boston Station. The data was downloaded as a CSV file from the Air Quality Historical Data Platform [link](https://aqicn.org/data-platform/register/). I read data from July 2014 to February 2022. This data contains five parameters of the air quality index: PM25, O3, NO2, SO2, and CO.\n",
    "\n",
    "**ii. Weather:** \n",
    "The weather can have a significant impact on air quality since different aspects of the weather affect the amounts of ozone and particulates that are present in a specific area. Sunshine, rain, higher temperatures, wind speed, air turbulence, and mixing depths all affect pollutant concentrations. Therefore, I gathered the weather data of Boston.\n",
    "\n",
    "The weather data of Boston was retrieved from visialcrossing.com [website](https://www.visualcrossing.com/weather/weather-data-services). The weather data can be downloaded in different formats (JSON, API, CSV) and units (hourly, Celcius, etc.). I downloaded daily weather data from January to up-to-date in CSV format. There are 33 attributes (temperature, humidity, wind, etc.) for weather data.\n",
    "\n",
    "**iii. Energy Consumption:**\n",
    "Since air pollution is strongly related to energy production and consumption, I gathered different energy consumption data. US Energy Information Administration shares independent and impartial energy information. I took two datasets:\n",
    "\n",
    "* *The Natural Gas Delivered to Consumers in Massachusetts (Including Vehicle Fuel)* [link](https://www.eia.gov/dnav/ng/hist/n3060ma2m.htm): Monthly level data, XLS file format, from 2001 to 2022, Million Cubic Feet\n",
    "* *Massachusetts Total Gasoline All Sales per Deliveries by Prime_Supplier* [link](https://www.eia.gov/dnav/pet/hist/LeafHandler.ashx?n=PET&s=C100011251&f=M): Monthly level data, XLS file format, from 1983 to 2022, Thousands of Gallons\n",
    "\n",
    "**iv. Flight Number:**\n",
    "Massachusetts has eight airports, and Boston Logan International Airport is the biggest one. Logan Airport publishes statistics based on the airlines' monthly information [website](https://www.massport.com/logan-airport/about-logan/airport-statistics/).\n",
    "Each month's report is in PDF format. I gathered each month's total airport flight number (domestic and international) in a spreadsheet from 2014 to 2021. \n",
    "\n",
    "**v. Population**\n",
    "United States Census Bureau publishes the population of the USA officially. Unfortunately, I can not use the population data of the Census Bureau data because there is no data for 2021. Therefore, I got the population of Boston taken from another source [website](https://worldpopulationreview.com/us-cities/boston-ma-population). Note that 2021's population data is projected. The data is in CSV format.\n",
    "\n",
    "**vi. Federal Highway Administration's Reports**\n",
    "Office of Highway Policy Information publishes reports containing analyzed statistical information on traffic as motor fuel, highway mileage, travel, etc. I took two datasets:\n",
    "\n",
    "* *Traffic Volume Trends* [link](https://www.fhwa.dot.gov/policyinformation/travel_monitoring/tvt.cfm) is one of them, which is a monthly report based on hourly traffic count data reported by the States. Estimated travel (in billion vehicle miles) on all roads and streets in Massachusetts are reported. The report is published monthly in PDF and EXCEL format. I gathered data in a spreadsheet from 2014 to 2021.\n",
    "\n",
    "* *Monthly Motor Fuel Reports [link](https://www.fhwa.dot.gov/policyinformation/motorfuelhwy_trustfund.cfm)*: Each State reports the amount of gallons taxed by that state to the Federal Highway Administration. I took monthly special fuel and gasoline consumption (in gallons) from these reports. The report is published monthly in PDF and EXCEL format. In addition, I gathered data in a spreadsheet from 2014 to 2021."
   ]
  },
  {
   "cell_type": "markdown",
   "metadata": {},
   "source": [
    "## 3. **Data Cleaning and Data Wrangling**"
   ]
  },
  {
   "cell_type": "markdown",
   "metadata": {},
   "source": [
    "[Data Wrangling Notebook](https://github.com/hangulde/Springboard/raw/main/Capstone%202/notebooks/data_wrangling.ipynb)\n",
    "\n",
    "**i. Air Quality Data:**\n",
    "Several dates are missing in the data. I added these dates to the date range they should be and set parameters values as NaN. Types of variables are corrected. I decided to use PM2.5 as a parameter of quality. The reason is that there are fewer NaNs compared to other parameters. Also, according to the WHO, PM is the common indicator of air pollution and affects human health more than other pollutants. Atmospheric particulate matter (PM), or fine particles, are tiny particles of solid or liquid suspended in a gas. Null values are imputed linearly.\n",
    "\n",
    "**ii. Weather:**\n",
    "In weather data, there are 34 columns. Some columns have more than %95 null values, and some are irrelevant. A total of 14 columns are dropped. Variable types are checked and corrected. Null values are imputed linearly.\n",
    "\n",
    "**iii. Energy Consumption:**\n",
    "\n",
    "I merged two dataframe, one related to natural gas and the other related to total gasoline all sales. Variable types are checked and corrected. There are no nulls.\n",
    "\n",
    "**iv. Flight Number and Population:**\n",
    "Variable types are checked and corrected. There are no nulls.\n",
    "\n",
    "**vi. Federal Highway Administration's Reports:** \n",
    "Variable types are checked and corrected. There is no data for December 2021 because the report wasn't published then. I added the average of 11 months of 2021 to December 2022.\n",
    "\n",
    "I merged all dataframes into a single dataframe. As a result, there are 33 daily level attributes ready for EDA."
   ]
  },
  {
   "cell_type": "markdown",
   "metadata": {},
   "source": [
    "## 4.  **Exploratary Data Analysis**"
   ]
  },
  {
   "cell_type": "markdown",
   "metadata": {},
   "source": [
    "\n",
    "<img src=\"https://github.com/hangulde/Springboard/raw/main/Capstone%202/media/6p2plj.gif\" width=\"2000\" height=\"700\" />"
   ]
  },
  {
   "cell_type": "markdown",
   "metadata": {},
   "source": [
    "## 5. **Algorithms & Machine Learning**"
   ]
  },
  {
   "cell_type": "markdown",
   "metadata": {},
   "source": [
    "### **5.1. Univariate Time Series Models**"
   ]
  },
  {
   "cell_type": "code",
   "execution_count": null,
   "metadata": {},
   "outputs": [],
   "source": []
  }
 ],
 "metadata": {
  "colab": {
   "name": "capstone report.ipynb",
   "provenance": []
  },
  "kernelspec": {
   "display_name": "Python 3 (ipykernel)",
   "language": "python",
   "name": "python3"
  },
  "language_info": {
   "codemirror_mode": {
    "name": "ipython",
    "version": 3
   },
   "file_extension": ".py",
   "mimetype": "text/x-python",
   "name": "python",
   "nbconvert_exporter": "python",
   "pygments_lexer": "ipython3",
   "version": "3.9.7"
  }
 },
 "nbformat": 4,
 "nbformat_minor": 1
}
