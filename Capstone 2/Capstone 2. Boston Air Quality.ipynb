{
  "cells": [
    {
      "cell_type": "markdown",
      "id": "efc6de46",
      "metadata": {
        "id": "efc6de46"
      },
      "source": [
        "### Imports"
      ]
    },
    {
      "cell_type": "code",
      "execution_count": 1,
      "id": "678f6b3a",
      "metadata": {
        "id": "678f6b3a"
      },
      "outputs": [],
      "source": [
        "import pandas as pd"
      ]
    },
    {
      "cell_type": "markdown",
      "id": "46d3086c",
      "metadata": {
        "id": "46d3086c"
      },
      "source": [
        "### 2. Data Sets"
      ]
    },
    {
      "cell_type": "markdown",
      "id": "501e51a9",
      "metadata": {
        "id": "501e51a9"
      },
      "source": [
        "### 2.1 Air Quality\n",
        "\n",
        "The first data is about air quality of Boston. The time range is between 01/01/2014 and 03/09/2022. The data was downloaded from [here](https://aqicn.org/data-platform/register/). There are 5 parameters: PM25, O3, NO2, SO2, CO. The details of parameters in below (wikipedia):"
      ]
    },
    {
      "cell_type": "markdown",
      "id": "8f824a33",
      "metadata": {
        "id": "8f824a33"
      },
      "source": [
        "**Particulate matter/particles(PM):** Atmospheric particulate matter, or fine particles, are tiny particles of solid or liquid suspended in a gas.\n",
        "\n",
        "**Ground level ozone (O3):** Ozone is formed from NOx and VOCs. It is a key constituent of the troposphere. It is also an important constituent of certain regions of the stratosphere commonly known as the ozone layer. Photochemical and chemical reactions involving it drive many of the chemical processes that occur in the atmosphere by day and by night. At abnormally high concentrations brought about by human activities (largely the combustion of fossil fuel), it is a pollutant and a constituent of smog.\n",
        "\n",
        "**Nitrogen dioxide (NO2):** An intermediate in the industrial synthesis of nitric acid, millions of tons of which are produced each year for use primarily in the production of fertilizers. At higher temperatures it is a reddish-brown gas.\n",
        "\n",
        "**sulphur dioxide (SO2):** It is a toxic gas responsible for the smell of burnt matches. It is released naturally by volcanic activity and is produced as a by-product of copper extraction and the burning of sulfur-bearing fossil fuels. \n",
        "\n",
        "**Carbon monoxide (CO):** CO is a colorless, odorless, toxic gas. It is a product of combustion of fuel such as natural gas, coal or wood. Vehicular exhaust contributes to the majority of carbon monoxide let into the atmosphere. It creates a smog type formation in the air that has been linked to many lung diseases and disruptions to the natural environment and animals."
      ]
    },
    {
      "cell_type": "code",
      "execution_count": 3,
      "id": "ff96d756",
      "metadata": {
        "id": "ff96d756"
      },
      "outputs": [],
      "source": [
        "url = 'https://github.com/hangulde/Springboard/raw/main/Capstone%202/boston-air-quality.csv'\n",
        "air_quality = pd.read_csv(url)"
      ]
    },
    {
      "cell_type": "code",
      "execution_count": 4,
      "id": "2de18895",
      "metadata": {
        "id": "2de18895",
        "outputId": "c539917b-7fde-4f22-9e39-9302b015d398",
        "colab": {
          "base_uri": "https://localhost:8080/",
          "height": 206
        }
      },
      "outputs": [
        {
          "output_type": "execute_result",
          "data": {
            "text/plain": [
              "       date  pm25   o3  no2  so2  co\n",
              "0  2022/3/2    43   31   17    1   3\n",
              "1  2022/3/3    43   28   13    1   3\n",
              "2  2022/3/4    33   28   13        2\n",
              "3  2022/3/5    24   33   12    1   2\n",
              "4  2022/3/6    35   24   16        2"
            ],
            "text/html": [
              "\n",
              "  <div id=\"df-6f016656-27af-4c0e-8ec2-0e35a5db300b\">\n",
              "    <div class=\"colab-df-container\">\n",
              "      <div>\n",
              "<style scoped>\n",
              "    .dataframe tbody tr th:only-of-type {\n",
              "        vertical-align: middle;\n",
              "    }\n",
              "\n",
              "    .dataframe tbody tr th {\n",
              "        vertical-align: top;\n",
              "    }\n",
              "\n",
              "    .dataframe thead th {\n",
              "        text-align: right;\n",
              "    }\n",
              "</style>\n",
              "<table border=\"1\" class=\"dataframe\">\n",
              "  <thead>\n",
              "    <tr style=\"text-align: right;\">\n",
              "      <th></th>\n",
              "      <th>date</th>\n",
              "      <th>pm25</th>\n",
              "      <th>o3</th>\n",
              "      <th>no2</th>\n",
              "      <th>so2</th>\n",
              "      <th>co</th>\n",
              "    </tr>\n",
              "  </thead>\n",
              "  <tbody>\n",
              "    <tr>\n",
              "      <th>0</th>\n",
              "      <td>2022/3/2</td>\n",
              "      <td>43</td>\n",
              "      <td>31</td>\n",
              "      <td>17</td>\n",
              "      <td>1</td>\n",
              "      <td>3</td>\n",
              "    </tr>\n",
              "    <tr>\n",
              "      <th>1</th>\n",
              "      <td>2022/3/3</td>\n",
              "      <td>43</td>\n",
              "      <td>28</td>\n",
              "      <td>13</td>\n",
              "      <td>1</td>\n",
              "      <td>3</td>\n",
              "    </tr>\n",
              "    <tr>\n",
              "      <th>2</th>\n",
              "      <td>2022/3/4</td>\n",
              "      <td>33</td>\n",
              "      <td>28</td>\n",
              "      <td>13</td>\n",
              "      <td></td>\n",
              "      <td>2</td>\n",
              "    </tr>\n",
              "    <tr>\n",
              "      <th>3</th>\n",
              "      <td>2022/3/5</td>\n",
              "      <td>24</td>\n",
              "      <td>33</td>\n",
              "      <td>12</td>\n",
              "      <td>1</td>\n",
              "      <td>2</td>\n",
              "    </tr>\n",
              "    <tr>\n",
              "      <th>4</th>\n",
              "      <td>2022/3/6</td>\n",
              "      <td>35</td>\n",
              "      <td>24</td>\n",
              "      <td>16</td>\n",
              "      <td></td>\n",
              "      <td>2</td>\n",
              "    </tr>\n",
              "  </tbody>\n",
              "</table>\n",
              "</div>\n",
              "      <button class=\"colab-df-convert\" onclick=\"convertToInteractive('df-6f016656-27af-4c0e-8ec2-0e35a5db300b')\"\n",
              "              title=\"Convert this dataframe to an interactive table.\"\n",
              "              style=\"display:none;\">\n",
              "        \n",
              "  <svg xmlns=\"http://www.w3.org/2000/svg\" height=\"24px\"viewBox=\"0 0 24 24\"\n",
              "       width=\"24px\">\n",
              "    <path d=\"M0 0h24v24H0V0z\" fill=\"none\"/>\n",
              "    <path d=\"M18.56 5.44l.94 2.06.94-2.06 2.06-.94-2.06-.94-.94-2.06-.94 2.06-2.06.94zm-11 1L8.5 8.5l.94-2.06 2.06-.94-2.06-.94L8.5 2.5l-.94 2.06-2.06.94zm10 10l.94 2.06.94-2.06 2.06-.94-2.06-.94-.94-2.06-.94 2.06-2.06.94z\"/><path d=\"M17.41 7.96l-1.37-1.37c-.4-.4-.92-.59-1.43-.59-.52 0-1.04.2-1.43.59L10.3 9.45l-7.72 7.72c-.78.78-.78 2.05 0 2.83L4 21.41c.39.39.9.59 1.41.59.51 0 1.02-.2 1.41-.59l7.78-7.78 2.81-2.81c.8-.78.8-2.07 0-2.86zM5.41 20L4 18.59l7.72-7.72 1.47 1.35L5.41 20z\"/>\n",
              "  </svg>\n",
              "      </button>\n",
              "      \n",
              "  <style>\n",
              "    .colab-df-container {\n",
              "      display:flex;\n",
              "      flex-wrap:wrap;\n",
              "      gap: 12px;\n",
              "    }\n",
              "\n",
              "    .colab-df-convert {\n",
              "      background-color: #E8F0FE;\n",
              "      border: none;\n",
              "      border-radius: 50%;\n",
              "      cursor: pointer;\n",
              "      display: none;\n",
              "      fill: #1967D2;\n",
              "      height: 32px;\n",
              "      padding: 0 0 0 0;\n",
              "      width: 32px;\n",
              "    }\n",
              "\n",
              "    .colab-df-convert:hover {\n",
              "      background-color: #E2EBFA;\n",
              "      box-shadow: 0px 1px 2px rgba(60, 64, 67, 0.3), 0px 1px 3px 1px rgba(60, 64, 67, 0.15);\n",
              "      fill: #174EA6;\n",
              "    }\n",
              "\n",
              "    [theme=dark] .colab-df-convert {\n",
              "      background-color: #3B4455;\n",
              "      fill: #D2E3FC;\n",
              "    }\n",
              "\n",
              "    [theme=dark] .colab-df-convert:hover {\n",
              "      background-color: #434B5C;\n",
              "      box-shadow: 0px 1px 3px 1px rgba(0, 0, 0, 0.15);\n",
              "      filter: drop-shadow(0px 1px 2px rgba(0, 0, 0, 0.3));\n",
              "      fill: #FFFFFF;\n",
              "    }\n",
              "  </style>\n",
              "\n",
              "      <script>\n",
              "        const buttonEl =\n",
              "          document.querySelector('#df-6f016656-27af-4c0e-8ec2-0e35a5db300b button.colab-df-convert');\n",
              "        buttonEl.style.display =\n",
              "          google.colab.kernel.accessAllowed ? 'block' : 'none';\n",
              "\n",
              "        async function convertToInteractive(key) {\n",
              "          const element = document.querySelector('#df-6f016656-27af-4c0e-8ec2-0e35a5db300b');\n",
              "          const dataTable =\n",
              "            await google.colab.kernel.invokeFunction('convertToInteractive',\n",
              "                                                     [key], {});\n",
              "          if (!dataTable) return;\n",
              "\n",
              "          const docLinkHtml = 'Like what you see? Visit the ' +\n",
              "            '<a target=\"_blank\" href=https://colab.research.google.com/notebooks/data_table.ipynb>data table notebook</a>'\n",
              "            + ' to learn more about interactive tables.';\n",
              "          element.innerHTML = '';\n",
              "          dataTable['output_type'] = 'display_data';\n",
              "          await google.colab.output.renderOutput(dataTable, element);\n",
              "          const docLink = document.createElement('div');\n",
              "          docLink.innerHTML = docLinkHtml;\n",
              "          element.appendChild(docLink);\n",
              "        }\n",
              "      </script>\n",
              "    </div>\n",
              "  </div>\n",
              "  "
            ]
          },
          "metadata": {},
          "execution_count": 4
        }
      ],
      "source": [
        "air_quality.head()"
      ]
    },
    {
      "cell_type": "code",
      "execution_count": null,
      "id": "f1a9e5c2",
      "metadata": {
        "id": "f1a9e5c2",
        "outputId": "1ef45411-5e96-43b5-c70e-3cf997e67cf4"
      },
      "outputs": [
        {
          "name": "stdout",
          "output_type": "stream",
          "text": [
            "<class 'pandas.core.frame.DataFrame'>\n",
            "RangeIndex: 2970 entries, 0 to 2969\n",
            "Data columns (total 6 columns):\n",
            " #   Column  Non-Null Count  Dtype \n",
            "---  ------  --------------  ----- \n",
            " 0   date    2970 non-null   object\n",
            " 1    pm25   2970 non-null   object\n",
            " 2    o3     2970 non-null   object\n",
            " 3    no2    2970 non-null   object\n",
            " 4    so2    2970 non-null   object\n",
            " 5    co     2970 non-null   object\n",
            "dtypes: object(6)\n",
            "memory usage: 139.3+ KB\n"
          ]
        }
      ],
      "source": [
        "air_quality.info()"
      ]
    },
    {
      "cell_type": "code",
      "execution_count": null,
      "id": "67262c3f",
      "metadata": {
        "id": "67262c3f",
        "outputId": "b0c104ab-48b7-46dd-8435-b125bf140c37"
      },
      "outputs": [
        {
          "data": {
            "text/html": [
              "<div>\n",
              "<style scoped>\n",
              "    .dataframe tbody tr th:only-of-type {\n",
              "        vertical-align: middle;\n",
              "    }\n",
              "\n",
              "    .dataframe tbody tr th {\n",
              "        vertical-align: top;\n",
              "    }\n",
              "\n",
              "    .dataframe thead th {\n",
              "        text-align: right;\n",
              "    }\n",
              "</style>\n",
              "<table border=\"1\" class=\"dataframe\">\n",
              "  <thead>\n",
              "    <tr style=\"text-align: right;\">\n",
              "      <th></th>\n",
              "      <th>date</th>\n",
              "      <th>pm25</th>\n",
              "      <th>o3</th>\n",
              "      <th>no2</th>\n",
              "      <th>so2</th>\n",
              "      <th>co</th>\n",
              "    </tr>\n",
              "  </thead>\n",
              "  <tbody>\n",
              "    <tr>\n",
              "      <th>count</th>\n",
              "      <td>2970</td>\n",
              "      <td>2970</td>\n",
              "      <td>2970</td>\n",
              "      <td>2970</td>\n",
              "      <td>2970</td>\n",
              "      <td>2970</td>\n",
              "    </tr>\n",
              "    <tr>\n",
              "      <th>unique</th>\n",
              "      <td>2970</td>\n",
              "      <td>80</td>\n",
              "      <td>69</td>\n",
              "      <td>42</td>\n",
              "      <td>9</td>\n",
              "      <td>11</td>\n",
              "    </tr>\n",
              "    <tr>\n",
              "      <th>top</th>\n",
              "      <td>2022/3/2</td>\n",
              "      <td>36</td>\n",
              "      <td>23</td>\n",
              "      <td></td>\n",
              "      <td></td>\n",
              "      <td>2</td>\n",
              "    </tr>\n",
              "    <tr>\n",
              "      <th>freq</th>\n",
              "      <td>1</td>\n",
              "      <td>104</td>\n",
              "      <td>161</td>\n",
              "      <td>387</td>\n",
              "      <td>1830</td>\n",
              "      <td>993</td>\n",
              "    </tr>\n",
              "  </tbody>\n",
              "</table>\n",
              "</div>"
            ],
            "text/plain": [
              "            date  pm25    o3   no2   so2    co\n",
              "count       2970  2970  2970  2970  2970  2970\n",
              "unique      2970    80    69    42     9    11\n",
              "top     2022/3/2    36    23                 2\n",
              "freq           1   104   161   387  1830   993"
            ]
          },
          "execution_count": 5,
          "metadata": {},
          "output_type": "execute_result"
        }
      ],
      "source": [
        "air_quality.describe()"
      ]
    },
    {
      "cell_type": "code",
      "execution_count": null,
      "id": "f2f39cf2",
      "metadata": {
        "id": "f2f39cf2"
      },
      "outputs": [],
      "source": [
        "air_quality['date'] = pd.to_datetime(air_quality['date'])"
      ]
    },
    {
      "cell_type": "code",
      "execution_count": null,
      "id": "9ce637ca",
      "metadata": {
        "id": "9ce637ca"
      },
      "outputs": [],
      "source": [
        "air_quality = air_quality.sort_values(by=['date'])"
      ]
    },
    {
      "cell_type": "code",
      "execution_count": null,
      "id": "aafd7cd5",
      "metadata": {
        "id": "aafd7cd5"
      },
      "outputs": [],
      "source": [
        "air_quality=air_quality.reset_index()"
      ]
    },
    {
      "cell_type": "markdown",
      "id": "d9738a29",
      "metadata": {
        "id": "d9738a29"
      },
      "source": [
        "### 2.2 Weather"
      ]
    },
    {
      "cell_type": "markdown",
      "id": "47bf1439",
      "metadata": {
        "id": "47bf1439"
      },
      "source": [
        "The second dataset is about Boston's weather. There are a lot of attributes of weather data.The data range is between 01/01/2014 and 03/22/2022. The data was downloaded from [here](https://www.visualcrossing.com/weather/weather-data-services)."
      ]
    },
    {
      "cell_type": "code",
      "execution_count": null,
      "id": "82785485",
      "metadata": {
        "id": "82785485"
      },
      "outputs": [],
      "source": [
        "weather = pd.read_csv('weather.csv')"
      ]
    },
    {
      "cell_type": "code",
      "execution_count": null,
      "id": "d5e5e017",
      "metadata": {
        "id": "d5e5e017",
        "outputId": "66b0e480-d30c-41f7-d9cb-1f5b8e8a411f"
      },
      "outputs": [
        {
          "name": "stdout",
          "output_type": "stream",
          "text": [
            "<class 'pandas.core.frame.DataFrame'>\n",
            "RangeIndex: 3003 entries, 0 to 3002\n",
            "Data columns (total 34 columns):\n",
            " #   Column            Non-Null Count  Dtype  \n",
            "---  ------            --------------  -----  \n",
            " 0   index             3003 non-null   int64  \n",
            " 1   name              3003 non-null   object \n",
            " 2   datetime          3003 non-null   object \n",
            " 3   tempmax           3003 non-null   float64\n",
            " 4   tempmin           3003 non-null   float64\n",
            " 5   temp              3003 non-null   float64\n",
            " 6   feelslikemax      3003 non-null   float64\n",
            " 7   feelslikemin      3003 non-null   float64\n",
            " 8   feelslike         3003 non-null   float64\n",
            " 9   dew               3003 non-null   float64\n",
            " 10  humidity          3003 non-null   float64\n",
            " 11  precip            3003 non-null   float64\n",
            " 12  precipprob        72 non-null     float64\n",
            " 13  precipcover       2931 non-null   float64\n",
            " 14  preciptype        39 non-null     object \n",
            " 15  snow              2273 non-null   float64\n",
            " 16  snowdepth         2273 non-null   float64\n",
            " 17  windgust          2601 non-null   float64\n",
            " 18  windspeed         3003 non-null   float64\n",
            " 19  winddir           3003 non-null   float64\n",
            " 20  sealevelpressure  3003 non-null   float64\n",
            " 21  cloudcover        3003 non-null   float64\n",
            " 22  visibility        3003 non-null   float64\n",
            " 23  solarradiation    72 non-null     float64\n",
            " 24  solarenergy       72 non-null     float64\n",
            " 25  uvindex           3003 non-null   int64  \n",
            " 26  severerisk        72 non-null     float64\n",
            " 27  sunrise           3003 non-null   object \n",
            " 28  sunset            3003 non-null   object \n",
            " 29  moonphase         3003 non-null   float64\n",
            " 30  conditions        3003 non-null   object \n",
            " 31  description       3003 non-null   object \n",
            " 32  icon              3003 non-null   object \n",
            " 33  stations          2989 non-null   object \n",
            "dtypes: float64(23), int64(2), object(9)\n",
            "memory usage: 797.8+ KB\n"
          ]
        }
      ],
      "source": [
        "weather.info()"
      ]
    },
    {
      "cell_type": "markdown",
      "id": "b4064e43",
      "metadata": {
        "id": "b4064e43"
      },
      "source": [
        "## 2.3 Energy Consumption"
      ]
    },
    {
      "cell_type": "code",
      "execution_count": null,
      "id": "8a67244f",
      "metadata": {
        "id": "8a67244f",
        "outputId": "ee8cde28-b9ca-4e4b-9b4f-f8b33b16710c"
      },
      "outputs": [
        {
          "data": {
            "text/html": [
              "<div>\n",
              "<style scoped>\n",
              "    .dataframe tbody tr th:only-of-type {\n",
              "        vertical-align: middle;\n",
              "    }\n",
              "\n",
              "    .dataframe tbody tr th {\n",
              "        vertical-align: top;\n",
              "    }\n",
              "\n",
              "    .dataframe thead th {\n",
              "        text-align: right;\n",
              "    }\n",
              "</style>\n",
              "<table border=\"1\" class=\"dataframe\">\n",
              "  <thead>\n",
              "    <tr style=\"text-align: right;\">\n",
              "      <th></th>\n",
              "      <th>Date</th>\n",
              "      <th>Total</th>\n",
              "    </tr>\n",
              "  </thead>\n",
              "  <tbody>\n",
              "    <tr>\n",
              "      <th>0</th>\n",
              "      <td>Dec 2021</td>\n",
              "      <td>43172</td>\n",
              "    </tr>\n",
              "    <tr>\n",
              "      <th>1</th>\n",
              "      <td>Nov 2021</td>\n",
              "      <td>31786</td>\n",
              "    </tr>\n",
              "    <tr>\n",
              "      <th>2</th>\n",
              "      <td>Oct 2021</td>\n",
              "      <td>21723</td>\n",
              "    </tr>\n",
              "    <tr>\n",
              "      <th>3</th>\n",
              "      <td>Sep 2021</td>\n",
              "      <td>17929</td>\n",
              "    </tr>\n",
              "    <tr>\n",
              "      <th>4</th>\n",
              "      <td>Aug 2021</td>\n",
              "      <td>22065</td>\n",
              "    </tr>\n",
              "  </tbody>\n",
              "</table>\n",
              "</div>"
            ],
            "text/plain": [
              "       Date   Total\n",
              "0  Dec 2021   43172\n",
              "1  Nov 2021   31786\n",
              "2  Oct 2021   21723\n",
              "3  Sep 2021   17929\n",
              "4  Aug 2021   22065"
            ]
          },
          "execution_count": 72,
          "metadata": {},
          "output_type": "execute_result"
        }
      ],
      "source": [
        "# Natural Gas Delivered to Consumers in Massachusetts (Including Vehicle Fuel) (Million Cubic Feet).\n",
        "# Monthly Data\n",
        "# State Level\n",
        "natural_gas_consumption=pd.read_csv('Natural_Gas_Delivered_to_Consumers_in_Massachusetts_(Including_Vehicle_Fuel).csv')\n",
        "natural_gas_consumption.head()"
      ]
    },
    {
      "cell_type": "code",
      "execution_count": null,
      "id": "2d0d1758",
      "metadata": {
        "id": "2d0d1758",
        "outputId": "fc0fd415-65b1-4e3c-ffd2-c85d53874fbb"
      },
      "outputs": [
        {
          "data": {
            "text/html": [
              "<div>\n",
              "<style scoped>\n",
              "    .dataframe tbody tr th:only-of-type {\n",
              "        vertical-align: middle;\n",
              "    }\n",
              "\n",
              "    .dataframe tbody tr th {\n",
              "        vertical-align: top;\n",
              "    }\n",
              "\n",
              "    .dataframe thead th {\n",
              "        text-align: right;\n",
              "    }\n",
              "</style>\n",
              "<table border=\"1\" class=\"dataframe\">\n",
              "  <thead>\n",
              "    <tr style=\"text-align: right;\">\n",
              "      <th></th>\n",
              "      <th>Date</th>\n",
              "      <th>Total</th>\n",
              "    </tr>\n",
              "  </thead>\n",
              "  <tbody>\n",
              "    <tr>\n",
              "      <th>0</th>\n",
              "      <td>Dec 2021</td>\n",
              "      <td>5828.2</td>\n",
              "    </tr>\n",
              "    <tr>\n",
              "      <th>1</th>\n",
              "      <td>Nov 2021</td>\n",
              "      <td>5942.2</td>\n",
              "    </tr>\n",
              "    <tr>\n",
              "      <th>2</th>\n",
              "      <td>Oct 2021</td>\n",
              "      <td>6085.1</td>\n",
              "    </tr>\n",
              "    <tr>\n",
              "      <th>3</th>\n",
              "      <td>Sep 2021</td>\n",
              "      <td>6033.1</td>\n",
              "    </tr>\n",
              "    <tr>\n",
              "      <th>4</th>\n",
              "      <td>Aug 2021</td>\n",
              "      <td>6086.5</td>\n",
              "    </tr>\n",
              "  </tbody>\n",
              "</table>\n",
              "</div>"
            ],
            "text/plain": [
              "       Date   Total\n",
              "0  Dec 2021  5828.2\n",
              "1  Nov 2021  5942.2\n",
              "2  Oct 2021  6085.1\n",
              "3  Sep 2021  6033.1\n",
              "4  Aug 2021  6086.5"
            ]
          },
          "execution_count": 73,
          "metadata": {},
          "output_type": "execute_result"
        }
      ],
      "source": [
        "# Massachusetts Total Gasoline All Sales per Deliveries by Prime_Supplier\n",
        "# Monthly Data\n",
        "# State Level\n",
        "gasoline_sales=pd.read_csv('Massachusetts_Total_Gasoline_All_Sales_per_Deliveries_by_Prime_Supplier.csv')\n",
        "gasoline_sales.head()"
      ]
    },
    {
      "cell_type": "markdown",
      "id": "82657b63",
      "metadata": {
        "id": "82657b63"
      },
      "source": [
        "## 2.4 Yearly Data of Boston"
      ]
    },
    {
      "cell_type": "markdown",
      "id": "8e51bc94",
      "metadata": {
        "id": "8e51bc94"
      },
      "source": [
        "### 2.4.1 Average Travel Time\n",
        "\n",
        "Time range is between 2013-2019."
      ]
    },
    {
      "cell_type": "code",
      "execution_count": null,
      "id": "ee12e7c8",
      "metadata": {
        "id": "ee12e7c8",
        "outputId": "8d7017d5-a45c-420c-9946-0cb42d50da67"
      },
      "outputs": [
        {
          "data": {
            "text/html": [
              "<div>\n",
              "<style scoped>\n",
              "    .dataframe tbody tr th:only-of-type {\n",
              "        vertical-align: middle;\n",
              "    }\n",
              "\n",
              "    .dataframe tbody tr th {\n",
              "        vertical-align: top;\n",
              "    }\n",
              "\n",
              "    .dataframe thead th {\n",
              "        text-align: right;\n",
              "    }\n",
              "</style>\n",
              "<table border=\"1\" class=\"dataframe\">\n",
              "  <thead>\n",
              "    <tr style=\"text-align: right;\">\n",
              "      <th></th>\n",
              "      <th>ID Year</th>\n",
              "      <th>Year</th>\n",
              "      <th>Average Commute Time</th>\n",
              "      <th>Geography</th>\n",
              "      <th>ID Geography</th>\n",
              "      <th>Slug Geography</th>\n",
              "    </tr>\n",
              "  </thead>\n",
              "  <tbody>\n",
              "    <tr>\n",
              "      <th>3</th>\n",
              "      <td>2019</td>\n",
              "      <td>2019</td>\n",
              "      <td>29.857915</td>\n",
              "      <td>Boston, MA</td>\n",
              "      <td>16000US2507000</td>\n",
              "      <td>boston-ma</td>\n",
              "    </tr>\n",
              "    <tr>\n",
              "      <th>23</th>\n",
              "      <td>2018</td>\n",
              "      <td>2018</td>\n",
              "      <td>29.761570</td>\n",
              "      <td>Boston, MA</td>\n",
              "      <td>16000US2507000</td>\n",
              "      <td>boston-ma</td>\n",
              "    </tr>\n",
              "    <tr>\n",
              "      <th>43</th>\n",
              "      <td>2017</td>\n",
              "      <td>2017</td>\n",
              "      <td>29.444440</td>\n",
              "      <td>Boston, MA</td>\n",
              "      <td>16000US2507000</td>\n",
              "      <td>boston-ma</td>\n",
              "    </tr>\n",
              "    <tr>\n",
              "      <th>63</th>\n",
              "      <td>2016</td>\n",
              "      <td>2016</td>\n",
              "      <td>29.265221</td>\n",
              "      <td>Boston, MA</td>\n",
              "      <td>16000US2507000</td>\n",
              "      <td>boston-ma</td>\n",
              "    </tr>\n",
              "    <tr>\n",
              "      <th>83</th>\n",
              "      <td>2015</td>\n",
              "      <td>2015</td>\n",
              "      <td>28.975732</td>\n",
              "      <td>Boston, MA</td>\n",
              "      <td>16000US2507000</td>\n",
              "      <td>boston-ma</td>\n",
              "    </tr>\n",
              "    <tr>\n",
              "      <th>103</th>\n",
              "      <td>2014</td>\n",
              "      <td>2014</td>\n",
              "      <td>28.283146</td>\n",
              "      <td>Boston, MA</td>\n",
              "      <td>16000US2507000</td>\n",
              "      <td>boston-ma</td>\n",
              "    </tr>\n",
              "    <tr>\n",
              "      <th>123</th>\n",
              "      <td>2013</td>\n",
              "      <td>2013</td>\n",
              "      <td>27.786776</td>\n",
              "      <td>Boston, MA</td>\n",
              "      <td>16000US2507000</td>\n",
              "      <td>boston-ma</td>\n",
              "    </tr>\n",
              "  </tbody>\n",
              "</table>\n",
              "</div>"
            ],
            "text/plain": [
              "     ID Year  Year  Average Commute Time   Geography    ID Geography  \\\n",
              "3       2019  2019             29.857915  Boston, MA  16000US2507000   \n",
              "23      2018  2018             29.761570  Boston, MA  16000US2507000   \n",
              "43      2017  2017             29.444440  Boston, MA  16000US2507000   \n",
              "63      2016  2016             29.265221  Boston, MA  16000US2507000   \n",
              "83      2015  2015             28.975732  Boston, MA  16000US2507000   \n",
              "103     2014  2014             28.283146  Boston, MA  16000US2507000   \n",
              "123     2013  2013             27.786776  Boston, MA  16000US2507000   \n",
              "\n",
              "    Slug Geography  \n",
              "3        boston-ma  \n",
              "23       boston-ma  \n",
              "43       boston-ma  \n",
              "63       boston-ma  \n",
              "83       boston-ma  \n",
              "103      boston-ma  \n",
              "123      boston-ma  "
            ]
          },
          "execution_count": 44,
          "metadata": {},
          "output_type": "execute_result"
        }
      ],
      "source": [
        "commute_time=pd.read_csv('Commute Time.csv')\n",
        "commute_time_boston=commute_time[commute_time['Geography']=='Boston, MA']\n",
        "commute_time_boston"
      ]
    },
    {
      "cell_type": "markdown",
      "id": "09327e9d",
      "metadata": {
        "id": "09327e9d"
      },
      "source": [
        "### 2.4.2 Most Common Transportation Type\n",
        "\n",
        "Time range is between 2013 and 2019."
      ]
    },
    {
      "cell_type": "code",
      "execution_count": null,
      "id": "8e1cf3e1",
      "metadata": {
        "collapsed": true,
        "id": "8e1cf3e1",
        "outputId": "adb99df6-c55d-49dd-bcff-85a482549a83"
      },
      "outputs": [
        {
          "data": {
            "text/html": [
              "<div>\n",
              "<style scoped>\n",
              "    .dataframe tbody tr th:only-of-type {\n",
              "        vertical-align: middle;\n",
              "    }\n",
              "\n",
              "    .dataframe tbody tr th {\n",
              "        vertical-align: top;\n",
              "    }\n",
              "\n",
              "    .dataframe thead th {\n",
              "        text-align: right;\n",
              "    }\n",
              "</style>\n",
              "<table border=\"1\" class=\"dataframe\">\n",
              "  <thead>\n",
              "    <tr style=\"text-align: right;\">\n",
              "      <th></th>\n",
              "      <th>ID Group</th>\n",
              "      <th>Group</th>\n",
              "      <th>ID Year</th>\n",
              "      <th>Year</th>\n",
              "      <th>Commute Means</th>\n",
              "      <th>Commute Means Moe</th>\n",
              "      <th>Geography</th>\n",
              "      <th>ID Geography</th>\n",
              "      <th>Slug Geography</th>\n",
              "      <th>share</th>\n",
              "    </tr>\n",
              "  </thead>\n",
              "  <tbody>\n",
              "    <tr>\n",
              "      <th>0</th>\n",
              "      <td>0</td>\n",
              "      <td>Drove Alone</td>\n",
              "      <td>2019</td>\n",
              "      <td>2019</td>\n",
              "      <td>148128</td>\n",
              "      <td>6523.000000</td>\n",
              "      <td>Boston, MA</td>\n",
              "      <td>16000US2507000</td>\n",
              "      <td>boston-ma</td>\n",
              "      <td>0.369479</td>\n",
              "    </tr>\n",
              "    <tr>\n",
              "      <th>1</th>\n",
              "      <td>1</td>\n",
              "      <td>Carpooled</td>\n",
              "      <td>2019</td>\n",
              "      <td>2019</td>\n",
              "      <td>23284</td>\n",
              "      <td>3084.685721</td>\n",
              "      <td>Boston, MA</td>\n",
              "      <td>16000US2507000</td>\n",
              "      <td>boston-ma</td>\n",
              "      <td>0.058078</td>\n",
              "    </tr>\n",
              "    <tr>\n",
              "      <th>2</th>\n",
              "      <td>2</td>\n",
              "      <td>Public Transit</td>\n",
              "      <td>2019</td>\n",
              "      <td>2019</td>\n",
              "      <td>128238</td>\n",
              "      <td>6786.393298</td>\n",
              "      <td>Boston, MA</td>\n",
              "      <td>16000US2507000</td>\n",
              "      <td>boston-ma</td>\n",
              "      <td>0.319867</td>\n",
              "    </tr>\n",
              "    <tr>\n",
              "      <th>3</th>\n",
              "      <td>3</td>\n",
              "      <td>Taxi</td>\n",
              "      <td>2019</td>\n",
              "      <td>2019</td>\n",
              "      <td>2450</td>\n",
              "      <td>709.000000</td>\n",
              "      <td>Boston, MA</td>\n",
              "      <td>16000US2507000</td>\n",
              "      <td>boston-ma</td>\n",
              "      <td>0.006111</td>\n",
              "    </tr>\n",
              "    <tr>\n",
              "      <th>4</th>\n",
              "      <td>4</td>\n",
              "      <td>Motorcycle</td>\n",
              "      <td>2019</td>\n",
              "      <td>2019</td>\n",
              "      <td>281</td>\n",
              "      <td>236.000000</td>\n",
              "      <td>Boston, MA</td>\n",
              "      <td>16000US2507000</td>\n",
              "      <td>boston-ma</td>\n",
              "      <td>0.000701</td>\n",
              "    </tr>\n",
              "    <tr>\n",
              "      <th>...</th>\n",
              "      <td>...</td>\n",
              "      <td>...</td>\n",
              "      <td>...</td>\n",
              "      <td>...</td>\n",
              "      <td>...</td>\n",
              "      <td>...</td>\n",
              "      <td>...</td>\n",
              "      <td>...</td>\n",
              "      <td>...</td>\n",
              "      <td>...</td>\n",
              "    </tr>\n",
              "    <tr>\n",
              "      <th>58</th>\n",
              "      <td>4</td>\n",
              "      <td>Motorcycle</td>\n",
              "      <td>2013</td>\n",
              "      <td>2013</td>\n",
              "      <td>204</td>\n",
              "      <td>187.000000</td>\n",
              "      <td>Boston, MA</td>\n",
              "      <td>16000US2507000</td>\n",
              "      <td>boston-ma</td>\n",
              "      <td>0.000597</td>\n",
              "    </tr>\n",
              "    <tr>\n",
              "      <th>59</th>\n",
              "      <td>5</td>\n",
              "      <td>Bicycle</td>\n",
              "      <td>2013</td>\n",
              "      <td>2013</td>\n",
              "      <td>6662</td>\n",
              "      <td>1399.000000</td>\n",
              "      <td>Boston, MA</td>\n",
              "      <td>16000US2507000</td>\n",
              "      <td>boston-ma</td>\n",
              "      <td>0.019492</td>\n",
              "    </tr>\n",
              "    <tr>\n",
              "      <th>60</th>\n",
              "      <td>6</td>\n",
              "      <td>Walked</td>\n",
              "      <td>2013</td>\n",
              "      <td>2013</td>\n",
              "      <td>49558</td>\n",
              "      <td>3918.000000</td>\n",
              "      <td>Boston, MA</td>\n",
              "      <td>16000US2507000</td>\n",
              "      <td>boston-ma</td>\n",
              "      <td>0.145001</td>\n",
              "    </tr>\n",
              "    <tr>\n",
              "      <th>61</th>\n",
              "      <td>7</td>\n",
              "      <td>Other</td>\n",
              "      <td>2013</td>\n",
              "      <td>2013</td>\n",
              "      <td>2412</td>\n",
              "      <td>864.000000</td>\n",
              "      <td>Boston, MA</td>\n",
              "      <td>16000US2507000</td>\n",
              "      <td>boston-ma</td>\n",
              "      <td>0.007057</td>\n",
              "    </tr>\n",
              "    <tr>\n",
              "      <th>62</th>\n",
              "      <td>8</td>\n",
              "      <td>Worked At Home</td>\n",
              "      <td>2013</td>\n",
              "      <td>2013</td>\n",
              "      <td>11771</td>\n",
              "      <td>1645.000000</td>\n",
              "      <td>Boston, MA</td>\n",
              "      <td>16000US2507000</td>\n",
              "      <td>boston-ma</td>\n",
              "      <td>0.034441</td>\n",
              "    </tr>\n",
              "  </tbody>\n",
              "</table>\n",
              "<p>63 rows × 10 columns</p>\n",
              "</div>"
            ],
            "text/plain": [
              "    ID Group           Group  ID Year  Year  Commute Means  Commute Means Moe  \\\n",
              "0          0     Drove Alone     2019  2019         148128        6523.000000   \n",
              "1          1       Carpooled     2019  2019          23284        3084.685721   \n",
              "2          2  Public Transit     2019  2019         128238        6786.393298   \n",
              "3          3            Taxi     2019  2019           2450         709.000000   \n",
              "4          4      Motorcycle     2019  2019            281         236.000000   \n",
              "..       ...             ...      ...   ...            ...                ...   \n",
              "58         4      Motorcycle     2013  2013            204         187.000000   \n",
              "59         5         Bicycle     2013  2013           6662        1399.000000   \n",
              "60         6          Walked     2013  2013          49558        3918.000000   \n",
              "61         7           Other     2013  2013           2412         864.000000   \n",
              "62         8  Worked At Home     2013  2013          11771        1645.000000   \n",
              "\n",
              "     Geography    ID Geography Slug Geography     share  \n",
              "0   Boston, MA  16000US2507000      boston-ma  0.369479  \n",
              "1   Boston, MA  16000US2507000      boston-ma  0.058078  \n",
              "2   Boston, MA  16000US2507000      boston-ma  0.319867  \n",
              "3   Boston, MA  16000US2507000      boston-ma  0.006111  \n",
              "4   Boston, MA  16000US2507000      boston-ma  0.000701  \n",
              "..         ...             ...            ...       ...  \n",
              "58  Boston, MA  16000US2507000      boston-ma  0.000597  \n",
              "59  Boston, MA  16000US2507000      boston-ma  0.019492  \n",
              "60  Boston, MA  16000US2507000      boston-ma  0.145001  \n",
              "61  Boston, MA  16000US2507000      boston-ma  0.007057  \n",
              "62  Boston, MA  16000US2507000      boston-ma  0.034441  \n",
              "\n",
              "[63 rows x 10 columns]"
            ]
          },
          "execution_count": 45,
          "metadata": {},
          "output_type": "execute_result"
        }
      ],
      "source": [
        "com_transportation = pd.read_csv('Commuter Transportation.csv')\n",
        "com_transportation"
      ]
    },
    {
      "cell_type": "markdown",
      "id": "c5f91c94",
      "metadata": {
        "id": "c5f91c94"
      },
      "source": [
        "### 2.4.3 Population of Boston"
      ]
    },
    {
      "cell_type": "code",
      "execution_count": null,
      "id": "8f1046b2",
      "metadata": {
        "id": "8f1046b2",
        "outputId": "7f45aee3-f447-4aaf-88ab-4bb77cdf3d80"
      },
      "outputs": [
        {
          "data": {
            "text/html": [
              "<div>\n",
              "<style scoped>\n",
              "    .dataframe tbody tr th:only-of-type {\n",
              "        vertical-align: middle;\n",
              "    }\n",
              "\n",
              "    .dataframe tbody tr th {\n",
              "        vertical-align: top;\n",
              "    }\n",
              "\n",
              "    .dataframe thead th {\n",
              "        text-align: right;\n",
              "    }\n",
              "</style>\n",
              "<table border=\"1\" class=\"dataframe\">\n",
              "  <thead>\n",
              "    <tr style=\"text-align: right;\">\n",
              "      <th></th>\n",
              "      <th>Year</th>\n",
              "      <th>Population</th>\n",
              "      <th>Growth</th>\n",
              "      <th>GrowthRate</th>\n",
              "    </tr>\n",
              "  </thead>\n",
              "  <tbody>\n",
              "    <tr>\n",
              "      <th>0</th>\n",
              "      <td>2022</td>\n",
              "      <td>696959</td>\n",
              "      <td>1453</td>\n",
              "      <td>0.0021</td>\n",
              "    </tr>\n",
              "    <tr>\n",
              "      <th>1</th>\n",
              "      <td>2021</td>\n",
              "      <td>695506</td>\n",
              "      <td>1453</td>\n",
              "      <td>0.0021</td>\n",
              "    </tr>\n",
              "    <tr>\n",
              "      <th>2</th>\n",
              "      <td>2020</td>\n",
              "      <td>694053</td>\n",
              "      <td>1453</td>\n",
              "      <td>0.0021</td>\n",
              "    </tr>\n",
              "    <tr>\n",
              "      <th>3</th>\n",
              "      <td>2019</td>\n",
              "      <td>692600</td>\n",
              "      <td>1453</td>\n",
              "      <td>0.0021</td>\n",
              "    </tr>\n",
              "    <tr>\n",
              "      <th>4</th>\n",
              "      <td>2018</td>\n",
              "      <td>691147</td>\n",
              "      <td>3359</td>\n",
              "      <td>0.0049</td>\n",
              "    </tr>\n",
              "    <tr>\n",
              "      <th>5</th>\n",
              "      <td>2017</td>\n",
              "      <td>687788</td>\n",
              "      <td>7940</td>\n",
              "      <td>0.0117</td>\n",
              "    </tr>\n",
              "    <tr>\n",
              "      <th>6</th>\n",
              "      <td>2016</td>\n",
              "      <td>679848</td>\n",
              "      <td>9357</td>\n",
              "      <td>0.0140</td>\n",
              "    </tr>\n",
              "    <tr>\n",
              "      <th>7</th>\n",
              "      <td>2015</td>\n",
              "      <td>670491</td>\n",
              "      <td>7636</td>\n",
              "      <td>0.0115</td>\n",
              "    </tr>\n",
              "    <tr>\n",
              "      <th>8</th>\n",
              "      <td>2014</td>\n",
              "      <td>662855</td>\n",
              "      <td>9853</td>\n",
              "      <td>0.0151</td>\n",
              "    </tr>\n",
              "  </tbody>\n",
              "</table>\n",
              "</div>"
            ],
            "text/plain": [
              "   Year  Population  Growth  GrowthRate\n",
              "0  2022      696959    1453      0.0021\n",
              "1  2021      695506    1453      0.0021\n",
              "2  2020      694053    1453      0.0021\n",
              "3  2019      692600    1453      0.0021\n",
              "4  2018      691147    3359      0.0049\n",
              "5  2017      687788    7940      0.0117\n",
              "6  2016      679848    9357      0.0140\n",
              "7  2015      670491    7636      0.0115\n",
              "8  2014      662855    9853      0.0151"
            ]
          },
          "execution_count": 59,
          "metadata": {},
          "output_type": "execute_result"
        }
      ],
      "source": [
        "population = pd.read_csv('population of boston.csv')\n",
        "population=population[population['Year']>2013]\n",
        "population\n",
        "#Note: 2021 and 2022 data is projected. (https://worldpopulationreview.com/us-cities/boston-ma-population)"
      ]
    }
  ],
  "metadata": {
    "kernelspec": {
      "display_name": "Python 3 (ipykernel)",
      "language": "python",
      "name": "python3"
    },
    "language_info": {
      "codemirror_mode": {
        "name": "ipython",
        "version": 3
      },
      "file_extension": ".py",
      "mimetype": "text/x-python",
      "name": "python",
      "nbconvert_exporter": "python",
      "pygments_lexer": "ipython3",
      "version": "3.9.7"
    },
    "colab": {
      "name": "Capstone 2. Boston Air Quality.ipynb",
      "provenance": []
    }
  },
  "nbformat": 4,
  "nbformat_minor": 5
}