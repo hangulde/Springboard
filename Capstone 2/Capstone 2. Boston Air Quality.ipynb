{
  "cells": [
    {
      "cell_type": "markdown",
      "source": [
        "# **2. Data Wrangling**"
      ],
      "metadata": {
        "id": "jyq3FA6OsMHX"
      },
      "id": "jyq3FA6OsMHX"
    },
    {
      "cell_type": "markdown",
      "source": [
        "As a reminder, this project aims to forecast the air quality of Boston in 2022 and 2023. This notebook focuses on explaning, cleaning, and organizing of datasets of the project. I start with importing the necessary libraries. "
      ],
      "metadata": {
        "id": "73ywZ8eksUGl"
      },
      "id": "73ywZ8eksUGl"
    },
    {
      "cell_type": "code",
      "execution_count": 120,
      "id": "678f6b3a",
      "metadata": {
        "id": "678f6b3a"
      },
      "outputs": [],
      "source": [
        "import pandas as pd\n",
        "import numpy as np\n",
        "import datetime\n",
        "import matplotlib.pyplot as plt"
      ]
    },
    {
      "cell_type": "markdown",
      "source": [
        "## **2.1 Datasets**"
      ],
      "metadata": {
        "id": "iRiwGUl6uwVA"
      },
      "id": "iRiwGUl6uwVA"
    },
    {
      "cell_type": "markdown",
      "source": [
        "In the project, there are several data related with the air quality. These are weather, population, different types of energy consumption, flight number datasets. "
      ],
      "metadata": {
        "id": "nJKckJKvu1zm"
      },
      "id": "nJKckJKvu1zm"
    },
    {
      "cell_type": "markdown",
      "id": "501e51a9",
      "metadata": {
        "id": "501e51a9"
      },
      "source": [
        "### **2.1 Air Quality**\n",
        "\n",
        "The first data is about air quality of Boston. The data was downloaded from [here](https://aqicn.org/data-platform/register/). There are five parameters: PM25, O3, NO2, SO2, CO. According to World Health Organization ([2022](https://https://www.who.int/news-room/fact-sheets/detail/ambient-(outdoor)-air-quality-and-health)), the details of parameters are explained below."
      ]
    },
    {
      "cell_type": "markdown",
      "id": "8f824a33",
      "metadata": {
        "id": "8f824a33"
      },
      "source": [
        "**Particulate matter/particles(PM):** PM, the common proxy indicator for air pollution, affects human health more than other pollutants. \n",
        "Atmospheric particulate matter, or fine particles, are tiny particles of solid or liquid suspended in a gas. \n",
        "\n",
        "**Ground level ozone (O3):** Ozone at ground level is one of the major constituents of photochemical smog. Extreme ozone in the air can cause effects on human health as breathing problems, trigger asthma. \n",
        "\n",
        "**Nitrogen dioxide (NO2):** NO2 is the main source of nitrate aerosols, which form an important fraction of PM2.5 and, in the presence of ultraviolet light, of ozone. Researches have shown that long-term exposure to NO2 can cause bronchitis in asthmatic children.\n",
        "\n",
        "**Sulphur dioxide (SO2):** SO2, a colourless gas with a sharp odour, is produced from the burning of fossil fuels (coal and oil). SO2 can affect the humans' respiratory system and the lungs function.\n",
        "\n",
        "**Carbon monoxide (CO):** CO is a colorless, odorless, toxic gas. It is a product of combustion of fuel such as natural gas, coal or wood. "
      ]
    },
    {
      "cell_type": "code",
      "execution_count": 121,
      "id": "ff96d756",
      "metadata": {
        "id": "ff96d756"
      },
      "outputs": [],
      "source": [
        "# Load the data\n",
        "url = 'https://github.com/hangulde/Springboard/raw/main/Capstone%202/boston-air-quality.csv'\n",
        "air_quality = pd.read_csv(url)"
      ]
    },
    {
      "cell_type": "code",
      "execution_count": 122,
      "id": "2de18895",
      "metadata": {
        "colab": {
          "base_uri": "https://localhost:8080/",
          "height": 206
        },
        "id": "2de18895",
        "outputId": "86529d6e-27d3-4432-f42e-88d2dd1c9fae"
      },
      "outputs": [
        {
          "output_type": "execute_result",
          "data": {
            "text/plain": [
              "       date  pm25   o3  no2  so2  co\n",
              "0  2022/3/2    43   31   17    1   3\n",
              "1  2022/3/3    43   28   13    1   3\n",
              "2  2022/3/4    33   28   13        2\n",
              "3  2022/3/5    24   33   12    1   2\n",
              "4  2022/3/6    35   24   16        2"
            ],
            "text/html": [
              "\n",
              "  <div id=\"df-0436a24e-9e15-4a61-984f-1bd2be79ff54\">\n",
              "    <div class=\"colab-df-container\">\n",
              "      <div>\n",
              "<style scoped>\n",
              "    .dataframe tbody tr th:only-of-type {\n",
              "        vertical-align: middle;\n",
              "    }\n",
              "\n",
              "    .dataframe tbody tr th {\n",
              "        vertical-align: top;\n",
              "    }\n",
              "\n",
              "    .dataframe thead th {\n",
              "        text-align: right;\n",
              "    }\n",
              "</style>\n",
              "<table border=\"1\" class=\"dataframe\">\n",
              "  <thead>\n",
              "    <tr style=\"text-align: right;\">\n",
              "      <th></th>\n",
              "      <th>date</th>\n",
              "      <th>pm25</th>\n",
              "      <th>o3</th>\n",
              "      <th>no2</th>\n",
              "      <th>so2</th>\n",
              "      <th>co</th>\n",
              "    </tr>\n",
              "  </thead>\n",
              "  <tbody>\n",
              "    <tr>\n",
              "      <th>0</th>\n",
              "      <td>2022/3/2</td>\n",
              "      <td>43</td>\n",
              "      <td>31</td>\n",
              "      <td>17</td>\n",
              "      <td>1</td>\n",
              "      <td>3</td>\n",
              "    </tr>\n",
              "    <tr>\n",
              "      <th>1</th>\n",
              "      <td>2022/3/3</td>\n",
              "      <td>43</td>\n",
              "      <td>28</td>\n",
              "      <td>13</td>\n",
              "      <td>1</td>\n",
              "      <td>3</td>\n",
              "    </tr>\n",
              "    <tr>\n",
              "      <th>2</th>\n",
              "      <td>2022/3/4</td>\n",
              "      <td>33</td>\n",
              "      <td>28</td>\n",
              "      <td>13</td>\n",
              "      <td></td>\n",
              "      <td>2</td>\n",
              "    </tr>\n",
              "    <tr>\n",
              "      <th>3</th>\n",
              "      <td>2022/3/5</td>\n",
              "      <td>24</td>\n",
              "      <td>33</td>\n",
              "      <td>12</td>\n",
              "      <td>1</td>\n",
              "      <td>2</td>\n",
              "    </tr>\n",
              "    <tr>\n",
              "      <th>4</th>\n",
              "      <td>2022/3/6</td>\n",
              "      <td>35</td>\n",
              "      <td>24</td>\n",
              "      <td>16</td>\n",
              "      <td></td>\n",
              "      <td>2</td>\n",
              "    </tr>\n",
              "  </tbody>\n",
              "</table>\n",
              "</div>\n",
              "      <button class=\"colab-df-convert\" onclick=\"convertToInteractive('df-0436a24e-9e15-4a61-984f-1bd2be79ff54')\"\n",
              "              title=\"Convert this dataframe to an interactive table.\"\n",
              "              style=\"display:none;\">\n",
              "        \n",
              "  <svg xmlns=\"http://www.w3.org/2000/svg\" height=\"24px\"viewBox=\"0 0 24 24\"\n",
              "       width=\"24px\">\n",
              "    <path d=\"M0 0h24v24H0V0z\" fill=\"none\"/>\n",
              "    <path d=\"M18.56 5.44l.94 2.06.94-2.06 2.06-.94-2.06-.94-.94-2.06-.94 2.06-2.06.94zm-11 1L8.5 8.5l.94-2.06 2.06-.94-2.06-.94L8.5 2.5l-.94 2.06-2.06.94zm10 10l.94 2.06.94-2.06 2.06-.94-2.06-.94-.94-2.06-.94 2.06-2.06.94z\"/><path d=\"M17.41 7.96l-1.37-1.37c-.4-.4-.92-.59-1.43-.59-.52 0-1.04.2-1.43.59L10.3 9.45l-7.72 7.72c-.78.78-.78 2.05 0 2.83L4 21.41c.39.39.9.59 1.41.59.51 0 1.02-.2 1.41-.59l7.78-7.78 2.81-2.81c.8-.78.8-2.07 0-2.86zM5.41 20L4 18.59l7.72-7.72 1.47 1.35L5.41 20z\"/>\n",
              "  </svg>\n",
              "      </button>\n",
              "      \n",
              "  <style>\n",
              "    .colab-df-container {\n",
              "      display:flex;\n",
              "      flex-wrap:wrap;\n",
              "      gap: 12px;\n",
              "    }\n",
              "\n",
              "    .colab-df-convert {\n",
              "      background-color: #E8F0FE;\n",
              "      border: none;\n",
              "      border-radius: 50%;\n",
              "      cursor: pointer;\n",
              "      display: none;\n",
              "      fill: #1967D2;\n",
              "      height: 32px;\n",
              "      padding: 0 0 0 0;\n",
              "      width: 32px;\n",
              "    }\n",
              "\n",
              "    .colab-df-convert:hover {\n",
              "      background-color: #E2EBFA;\n",
              "      box-shadow: 0px 1px 2px rgba(60, 64, 67, 0.3), 0px 1px 3px 1px rgba(60, 64, 67, 0.15);\n",
              "      fill: #174EA6;\n",
              "    }\n",
              "\n",
              "    [theme=dark] .colab-df-convert {\n",
              "      background-color: #3B4455;\n",
              "      fill: #D2E3FC;\n",
              "    }\n",
              "\n",
              "    [theme=dark] .colab-df-convert:hover {\n",
              "      background-color: #434B5C;\n",
              "      box-shadow: 0px 1px 3px 1px rgba(0, 0, 0, 0.15);\n",
              "      filter: drop-shadow(0px 1px 2px rgba(0, 0, 0, 0.3));\n",
              "      fill: #FFFFFF;\n",
              "    }\n",
              "  </style>\n",
              "\n",
              "      <script>\n",
              "        const buttonEl =\n",
              "          document.querySelector('#df-0436a24e-9e15-4a61-984f-1bd2be79ff54 button.colab-df-convert');\n",
              "        buttonEl.style.display =\n",
              "          google.colab.kernel.accessAllowed ? 'block' : 'none';\n",
              "\n",
              "        async function convertToInteractive(key) {\n",
              "          const element = document.querySelector('#df-0436a24e-9e15-4a61-984f-1bd2be79ff54');\n",
              "          const dataTable =\n",
              "            await google.colab.kernel.invokeFunction('convertToInteractive',\n",
              "                                                     [key], {});\n",
              "          if (!dataTable) return;\n",
              "\n",
              "          const docLinkHtml = 'Like what you see? Visit the ' +\n",
              "            '<a target=\"_blank\" href=https://colab.research.google.com/notebooks/data_table.ipynb>data table notebook</a>'\n",
              "            + ' to learn more about interactive tables.';\n",
              "          element.innerHTML = '';\n",
              "          dataTable['output_type'] = 'display_data';\n",
              "          await google.colab.output.renderOutput(dataTable, element);\n",
              "          const docLink = document.createElement('div');\n",
              "          docLink.innerHTML = docLinkHtml;\n",
              "          element.appendChild(docLink);\n",
              "        }\n",
              "      </script>\n",
              "    </div>\n",
              "  </div>\n",
              "  "
            ]
          },
          "metadata": {},
          "execution_count": 122
        }
      ],
      "source": [
        "air_quality.head() #I have 5 parameters."
      ]
    },
    {
      "cell_type": "code",
      "source": [
        "# Check the column names.\n",
        "air_quality.columns #The first character of column names is space. Delete them."
      ],
      "metadata": {
        "id": "5bxrBVhysIgF",
        "outputId": "4d3cbead-59bf-4ff2-a173-3a1c2aaf5e59",
        "colab": {
          "base_uri": "https://localhost:8080/"
        }
      },
      "id": "5bxrBVhysIgF",
      "execution_count": 123,
      "outputs": [
        {
          "output_type": "execute_result",
          "data": {
            "text/plain": [
              "Index(['date', ' pm25', ' o3', ' no2', ' so2', ' co'], dtype='object')"
            ]
          },
          "metadata": {},
          "execution_count": 123
        }
      ]
    },
    {
      "cell_type": "code",
      "source": [
        "# Edit column names\n",
        "air_quality.columns= air_quality.columns.str[1:] #delete the first space. There is problem with 'date' column.\n",
        "air_quality.columns"
      ],
      "metadata": {
        "id": "7lks8hTYsbh3",
        "outputId": "6ab90f24-f675-4375-9f9d-ef15fb3621e4",
        "colab": {
          "base_uri": "https://localhost:8080/"
        }
      },
      "id": "7lks8hTYsbh3",
      "execution_count": 124,
      "outputs": [
        {
          "output_type": "execute_result",
          "data": {
            "text/plain": [
              "Index(['ate', 'pm25', 'o3', 'no2', 'so2', 'co'], dtype='object')"
            ]
          },
          "metadata": {},
          "execution_count": 124
        }
      ]
    },
    {
      "cell_type": "code",
      "source": [
        "# Rename column names\n",
        "air_quality = air_quality.rename({'ate':'date'}, axis=1) # correct the column name\n",
        "air_quality.columns"
      ],
      "metadata": {
        "id": "b0Q_0KRNt99S",
        "outputId": "de435776-0b98-4bb8-9cc6-b951e32dc80e",
        "colab": {
          "base_uri": "https://localhost:8080/"
        }
      },
      "id": "b0Q_0KRNt99S",
      "execution_count": 125,
      "outputs": [
        {
          "output_type": "execute_result",
          "data": {
            "text/plain": [
              "Index(['date', 'pm25', 'o3', 'no2', 'so2', 'co'], dtype='object')"
            ]
          },
          "metadata": {},
          "execution_count": 125
        }
      ]
    },
    {
      "cell_type": "code",
      "execution_count": 126,
      "id": "f1a9e5c2",
      "metadata": {
        "colab": {
          "base_uri": "https://localhost:8080/"
        },
        "id": "f1a9e5c2",
        "outputId": "a3152c65-06c7-401e-f185-1ca109124fb5"
      },
      "outputs": [
        {
          "output_type": "stream",
          "name": "stdout",
          "text": [
            "<class 'pandas.core.frame.DataFrame'>\n",
            "RangeIndex: 2970 entries, 0 to 2969\n",
            "Data columns (total 6 columns):\n",
            " #   Column  Non-Null Count  Dtype \n",
            "---  ------  --------------  ----- \n",
            " 0   date    2970 non-null   object\n",
            " 1   pm25    2970 non-null   object\n",
            " 2   o3      2970 non-null   object\n",
            " 3   no2     2970 non-null   object\n",
            " 4   so2     2970 non-null   object\n",
            " 5   co      2970 non-null   object\n",
            "dtypes: object(6)\n",
            "memory usage: 139.3+ KB\n"
          ]
        }
      ],
      "source": [
        "# Check the types of features.\n",
        "air_quality.info()"
      ]
    },
    {
      "cell_type": "code",
      "source": [
        "# Convert the date column to datetime\n",
        "air_quality['date'] = pd.to_datetime(air_quality['date'], format=\"%Y-%m-%d\")\n",
        "air_quality.info() \n",
        "#pd.to_numeric() doesn't work. I convert to float on forward cells."
      ],
      "metadata": {
        "id": "mLMhMcaBp-lS",
        "outputId": "fdb5e565-6d43-4365-e197-e831680a2f0f",
        "colab": {
          "base_uri": "https://localhost:8080/"
        }
      },
      "id": "mLMhMcaBp-lS",
      "execution_count": 127,
      "outputs": [
        {
          "output_type": "stream",
          "name": "stdout",
          "text": [
            "<class 'pandas.core.frame.DataFrame'>\n",
            "RangeIndex: 2970 entries, 0 to 2969\n",
            "Data columns (total 6 columns):\n",
            " #   Column  Non-Null Count  Dtype         \n",
            "---  ------  --------------  -----         \n",
            " 0   date    2970 non-null   datetime64[ns]\n",
            " 1   pm25    2970 non-null   object        \n",
            " 2   o3      2970 non-null   object        \n",
            " 3   no2     2970 non-null   object        \n",
            " 4   so2     2970 non-null   object        \n",
            " 5   co      2970 non-null   object        \n",
            "dtypes: datetime64[ns](1), object(5)\n",
            "memory usage: 139.3+ KB\n"
          ]
        }
      ]
    },
    {
      "cell_type": "code",
      "source": [
        "# I realised that some dates are missing. I can see these dates are gray on website. These days are not included on csv. \n",
        "# For example there is no data for March 31th.\n",
        "air_quality[air_quality.date == '2020-03-31']"
      ],
      "metadata": {
        "id": "N3fXtF5mpVNq",
        "outputId": "debdc212-2c03-4430-ec33-95fafc41c32b",
        "colab": {
          "base_uri": "https://localhost:8080/",
          "height": 50
        }
      },
      "id": "N3fXtF5mpVNq",
      "execution_count": 128,
      "outputs": [
        {
          "output_type": "execute_result",
          "data": {
            "text/plain": [
              "Empty DataFrame\n",
              "Columns: [date, pm25, o3, no2, so2, co]\n",
              "Index: []"
            ],
            "text/html": [
              "\n",
              "  <div id=\"df-e9163d63-03f9-4558-b59f-ba9a31523f7e\">\n",
              "    <div class=\"colab-df-container\">\n",
              "      <div>\n",
              "<style scoped>\n",
              "    .dataframe tbody tr th:only-of-type {\n",
              "        vertical-align: middle;\n",
              "    }\n",
              "\n",
              "    .dataframe tbody tr th {\n",
              "        vertical-align: top;\n",
              "    }\n",
              "\n",
              "    .dataframe thead th {\n",
              "        text-align: right;\n",
              "    }\n",
              "</style>\n",
              "<table border=\"1\" class=\"dataframe\">\n",
              "  <thead>\n",
              "    <tr style=\"text-align: right;\">\n",
              "      <th></th>\n",
              "      <th>date</th>\n",
              "      <th>pm25</th>\n",
              "      <th>o3</th>\n",
              "      <th>no2</th>\n",
              "      <th>so2</th>\n",
              "      <th>co</th>\n",
              "    </tr>\n",
              "  </thead>\n",
              "  <tbody>\n",
              "  </tbody>\n",
              "</table>\n",
              "</div>\n",
              "      <button class=\"colab-df-convert\" onclick=\"convertToInteractive('df-e9163d63-03f9-4558-b59f-ba9a31523f7e')\"\n",
              "              title=\"Convert this dataframe to an interactive table.\"\n",
              "              style=\"display:none;\">\n",
              "        \n",
              "  <svg xmlns=\"http://www.w3.org/2000/svg\" height=\"24px\"viewBox=\"0 0 24 24\"\n",
              "       width=\"24px\">\n",
              "    <path d=\"M0 0h24v24H0V0z\" fill=\"none\"/>\n",
              "    <path d=\"M18.56 5.44l.94 2.06.94-2.06 2.06-.94-2.06-.94-.94-2.06-.94 2.06-2.06.94zm-11 1L8.5 8.5l.94-2.06 2.06-.94-2.06-.94L8.5 2.5l-.94 2.06-2.06.94zm10 10l.94 2.06.94-2.06 2.06-.94-2.06-.94-.94-2.06-.94 2.06-2.06.94z\"/><path d=\"M17.41 7.96l-1.37-1.37c-.4-.4-.92-.59-1.43-.59-.52 0-1.04.2-1.43.59L10.3 9.45l-7.72 7.72c-.78.78-.78 2.05 0 2.83L4 21.41c.39.39.9.59 1.41.59.51 0 1.02-.2 1.41-.59l7.78-7.78 2.81-2.81c.8-.78.8-2.07 0-2.86zM5.41 20L4 18.59l7.72-7.72 1.47 1.35L5.41 20z\"/>\n",
              "  </svg>\n",
              "      </button>\n",
              "      \n",
              "  <style>\n",
              "    .colab-df-container {\n",
              "      display:flex;\n",
              "      flex-wrap:wrap;\n",
              "      gap: 12px;\n",
              "    }\n",
              "\n",
              "    .colab-df-convert {\n",
              "      background-color: #E8F0FE;\n",
              "      border: none;\n",
              "      border-radius: 50%;\n",
              "      cursor: pointer;\n",
              "      display: none;\n",
              "      fill: #1967D2;\n",
              "      height: 32px;\n",
              "      padding: 0 0 0 0;\n",
              "      width: 32px;\n",
              "    }\n",
              "\n",
              "    .colab-df-convert:hover {\n",
              "      background-color: #E2EBFA;\n",
              "      box-shadow: 0px 1px 2px rgba(60, 64, 67, 0.3), 0px 1px 3px 1px rgba(60, 64, 67, 0.15);\n",
              "      fill: #174EA6;\n",
              "    }\n",
              "\n",
              "    [theme=dark] .colab-df-convert {\n",
              "      background-color: #3B4455;\n",
              "      fill: #D2E3FC;\n",
              "    }\n",
              "\n",
              "    [theme=dark] .colab-df-convert:hover {\n",
              "      background-color: #434B5C;\n",
              "      box-shadow: 0px 1px 3px 1px rgba(0, 0, 0, 0.15);\n",
              "      filter: drop-shadow(0px 1px 2px rgba(0, 0, 0, 0.3));\n",
              "      fill: #FFFFFF;\n",
              "    }\n",
              "  </style>\n",
              "\n",
              "      <script>\n",
              "        const buttonEl =\n",
              "          document.querySelector('#df-e9163d63-03f9-4558-b59f-ba9a31523f7e button.colab-df-convert');\n",
              "        buttonEl.style.display =\n",
              "          google.colab.kernel.accessAllowed ? 'block' : 'none';\n",
              "\n",
              "        async function convertToInteractive(key) {\n",
              "          const element = document.querySelector('#df-e9163d63-03f9-4558-b59f-ba9a31523f7e');\n",
              "          const dataTable =\n",
              "            await google.colab.kernel.invokeFunction('convertToInteractive',\n",
              "                                                     [key], {});\n",
              "          if (!dataTable) return;\n",
              "\n",
              "          const docLinkHtml = 'Like what you see? Visit the ' +\n",
              "            '<a target=\"_blank\" href=https://colab.research.google.com/notebooks/data_table.ipynb>data table notebook</a>'\n",
              "            + ' to learn more about interactive tables.';\n",
              "          element.innerHTML = '';\n",
              "          dataTable['output_type'] = 'display_data';\n",
              "          await google.colab.output.renderOutput(dataTable, element);\n",
              "          const docLink = document.createElement('div');\n",
              "          docLink.innerHTML = docLinkHtml;\n",
              "          element.appendChild(docLink);\n",
              "        }\n",
              "      </script>\n",
              "    </div>\n",
              "  </div>\n",
              "  "
            ]
          },
          "metadata": {},
          "execution_count": 128
        }
      ]
    },
    {
      "cell_type": "code",
      "source": [
        "#I decided to create a df for all dates from 2014-01-01 to 2022-02-28\n",
        "start = datetime.datetime.strptime(\"2014-01-01\", \"%Y-%m-%d\")\n",
        "end = datetime.datetime.strptime(\"2022-03-01\", \"%Y-%m-%d\")\n",
        "date_df = pd.DataFrame({'date':[start + datetime.timedelta(days=x) for x in range(0, (end-start).days)]})\n",
        "date_df"
      ],
      "metadata": {
        "id": "cZH86K8cmcvj",
        "outputId": "7ba08e5b-ecba-44f4-b584-a15f087f331b",
        "colab": {
          "base_uri": "https://localhost:8080/",
          "height": 423
        }
      },
      "id": "cZH86K8cmcvj",
      "execution_count": 129,
      "outputs": [
        {
          "output_type": "execute_result",
          "data": {
            "text/plain": [
              "           date\n",
              "0    2014-01-01\n",
              "1    2014-01-02\n",
              "2    2014-01-03\n",
              "3    2014-01-04\n",
              "4    2014-01-05\n",
              "...         ...\n",
              "2976 2022-02-24\n",
              "2977 2022-02-25\n",
              "2978 2022-02-26\n",
              "2979 2022-02-27\n",
              "2980 2022-02-28\n",
              "\n",
              "[2981 rows x 1 columns]"
            ],
            "text/html": [
              "\n",
              "  <div id=\"df-d25cf69d-54e3-4712-99e5-56050586bac8\">\n",
              "    <div class=\"colab-df-container\">\n",
              "      <div>\n",
              "<style scoped>\n",
              "    .dataframe tbody tr th:only-of-type {\n",
              "        vertical-align: middle;\n",
              "    }\n",
              "\n",
              "    .dataframe tbody tr th {\n",
              "        vertical-align: top;\n",
              "    }\n",
              "\n",
              "    .dataframe thead th {\n",
              "        text-align: right;\n",
              "    }\n",
              "</style>\n",
              "<table border=\"1\" class=\"dataframe\">\n",
              "  <thead>\n",
              "    <tr style=\"text-align: right;\">\n",
              "      <th></th>\n",
              "      <th>date</th>\n",
              "    </tr>\n",
              "  </thead>\n",
              "  <tbody>\n",
              "    <tr>\n",
              "      <th>0</th>\n",
              "      <td>2014-01-01</td>\n",
              "    </tr>\n",
              "    <tr>\n",
              "      <th>1</th>\n",
              "      <td>2014-01-02</td>\n",
              "    </tr>\n",
              "    <tr>\n",
              "      <th>2</th>\n",
              "      <td>2014-01-03</td>\n",
              "    </tr>\n",
              "    <tr>\n",
              "      <th>3</th>\n",
              "      <td>2014-01-04</td>\n",
              "    </tr>\n",
              "    <tr>\n",
              "      <th>4</th>\n",
              "      <td>2014-01-05</td>\n",
              "    </tr>\n",
              "    <tr>\n",
              "      <th>...</th>\n",
              "      <td>...</td>\n",
              "    </tr>\n",
              "    <tr>\n",
              "      <th>2976</th>\n",
              "      <td>2022-02-24</td>\n",
              "    </tr>\n",
              "    <tr>\n",
              "      <th>2977</th>\n",
              "      <td>2022-02-25</td>\n",
              "    </tr>\n",
              "    <tr>\n",
              "      <th>2978</th>\n",
              "      <td>2022-02-26</td>\n",
              "    </tr>\n",
              "    <tr>\n",
              "      <th>2979</th>\n",
              "      <td>2022-02-27</td>\n",
              "    </tr>\n",
              "    <tr>\n",
              "      <th>2980</th>\n",
              "      <td>2022-02-28</td>\n",
              "    </tr>\n",
              "  </tbody>\n",
              "</table>\n",
              "<p>2981 rows × 1 columns</p>\n",
              "</div>\n",
              "      <button class=\"colab-df-convert\" onclick=\"convertToInteractive('df-d25cf69d-54e3-4712-99e5-56050586bac8')\"\n",
              "              title=\"Convert this dataframe to an interactive table.\"\n",
              "              style=\"display:none;\">\n",
              "        \n",
              "  <svg xmlns=\"http://www.w3.org/2000/svg\" height=\"24px\"viewBox=\"0 0 24 24\"\n",
              "       width=\"24px\">\n",
              "    <path d=\"M0 0h24v24H0V0z\" fill=\"none\"/>\n",
              "    <path d=\"M18.56 5.44l.94 2.06.94-2.06 2.06-.94-2.06-.94-.94-2.06-.94 2.06-2.06.94zm-11 1L8.5 8.5l.94-2.06 2.06-.94-2.06-.94L8.5 2.5l-.94 2.06-2.06.94zm10 10l.94 2.06.94-2.06 2.06-.94-2.06-.94-.94-2.06-.94 2.06-2.06.94z\"/><path d=\"M17.41 7.96l-1.37-1.37c-.4-.4-.92-.59-1.43-.59-.52 0-1.04.2-1.43.59L10.3 9.45l-7.72 7.72c-.78.78-.78 2.05 0 2.83L4 21.41c.39.39.9.59 1.41.59.51 0 1.02-.2 1.41-.59l7.78-7.78 2.81-2.81c.8-.78.8-2.07 0-2.86zM5.41 20L4 18.59l7.72-7.72 1.47 1.35L5.41 20z\"/>\n",
              "  </svg>\n",
              "      </button>\n",
              "      \n",
              "  <style>\n",
              "    .colab-df-container {\n",
              "      display:flex;\n",
              "      flex-wrap:wrap;\n",
              "      gap: 12px;\n",
              "    }\n",
              "\n",
              "    .colab-df-convert {\n",
              "      background-color: #E8F0FE;\n",
              "      border: none;\n",
              "      border-radius: 50%;\n",
              "      cursor: pointer;\n",
              "      display: none;\n",
              "      fill: #1967D2;\n",
              "      height: 32px;\n",
              "      padding: 0 0 0 0;\n",
              "      width: 32px;\n",
              "    }\n",
              "\n",
              "    .colab-df-convert:hover {\n",
              "      background-color: #E2EBFA;\n",
              "      box-shadow: 0px 1px 2px rgba(60, 64, 67, 0.3), 0px 1px 3px 1px rgba(60, 64, 67, 0.15);\n",
              "      fill: #174EA6;\n",
              "    }\n",
              "\n",
              "    [theme=dark] .colab-df-convert {\n",
              "      background-color: #3B4455;\n",
              "      fill: #D2E3FC;\n",
              "    }\n",
              "\n",
              "    [theme=dark] .colab-df-convert:hover {\n",
              "      background-color: #434B5C;\n",
              "      box-shadow: 0px 1px 3px 1px rgba(0, 0, 0, 0.15);\n",
              "      filter: drop-shadow(0px 1px 2px rgba(0, 0, 0, 0.3));\n",
              "      fill: #FFFFFF;\n",
              "    }\n",
              "  </style>\n",
              "\n",
              "      <script>\n",
              "        const buttonEl =\n",
              "          document.querySelector('#df-d25cf69d-54e3-4712-99e5-56050586bac8 button.colab-df-convert');\n",
              "        buttonEl.style.display =\n",
              "          google.colab.kernel.accessAllowed ? 'block' : 'none';\n",
              "\n",
              "        async function convertToInteractive(key) {\n",
              "          const element = document.querySelector('#df-d25cf69d-54e3-4712-99e5-56050586bac8');\n",
              "          const dataTable =\n",
              "            await google.colab.kernel.invokeFunction('convertToInteractive',\n",
              "                                                     [key], {});\n",
              "          if (!dataTable) return;\n",
              "\n",
              "          const docLinkHtml = 'Like what you see? Visit the ' +\n",
              "            '<a target=\"_blank\" href=https://colab.research.google.com/notebooks/data_table.ipynb>data table notebook</a>'\n",
              "            + ' to learn more about interactive tables.';\n",
              "          element.innerHTML = '';\n",
              "          dataTable['output_type'] = 'display_data';\n",
              "          await google.colab.output.renderOutput(dataTable, element);\n",
              "          const docLink = document.createElement('div');\n",
              "          docLink.innerHTML = docLinkHtml;\n",
              "          element.appendChild(docLink);\n",
              "        }\n",
              "      </script>\n",
              "    </div>\n",
              "  </div>\n",
              "  "
            ]
          },
          "metadata": {},
          "execution_count": 129
        }
      ]
    },
    {
      "cell_type": "code",
      "source": [
        "#I merge two dfs.\n",
        "air_quality_2 = pd.merge(date_df, air_quality, how='left', on='date')\n",
        "#check the same date. It is on df now and values are NaN\n",
        "air_quality_2[air_quality_2.date == '2020-03-31']"
      ],
      "metadata": {
        "id": "UW4DNYKTnf1J",
        "outputId": "94534f6b-75e3-42de-d8a7-2ae525d4a980",
        "colab": {
          "base_uri": "https://localhost:8080/",
          "height": 81
        }
      },
      "id": "UW4DNYKTnf1J",
      "execution_count": 130,
      "outputs": [
        {
          "output_type": "execute_result",
          "data": {
            "text/plain": [
              "           date pm25   o3  no2  so2   co\n",
              "2281 2020-03-31  NaN  NaN  NaN  NaN  NaN"
            ],
            "text/html": [
              "\n",
              "  <div id=\"df-1cd26e42-704a-4ee5-a171-a0bd8f154db9\">\n",
              "    <div class=\"colab-df-container\">\n",
              "      <div>\n",
              "<style scoped>\n",
              "    .dataframe tbody tr th:only-of-type {\n",
              "        vertical-align: middle;\n",
              "    }\n",
              "\n",
              "    .dataframe tbody tr th {\n",
              "        vertical-align: top;\n",
              "    }\n",
              "\n",
              "    .dataframe thead th {\n",
              "        text-align: right;\n",
              "    }\n",
              "</style>\n",
              "<table border=\"1\" class=\"dataframe\">\n",
              "  <thead>\n",
              "    <tr style=\"text-align: right;\">\n",
              "      <th></th>\n",
              "      <th>date</th>\n",
              "      <th>pm25</th>\n",
              "      <th>o3</th>\n",
              "      <th>no2</th>\n",
              "      <th>so2</th>\n",
              "      <th>co</th>\n",
              "    </tr>\n",
              "  </thead>\n",
              "  <tbody>\n",
              "    <tr>\n",
              "      <th>2281</th>\n",
              "      <td>2020-03-31</td>\n",
              "      <td>NaN</td>\n",
              "      <td>NaN</td>\n",
              "      <td>NaN</td>\n",
              "      <td>NaN</td>\n",
              "      <td>NaN</td>\n",
              "    </tr>\n",
              "  </tbody>\n",
              "</table>\n",
              "</div>\n",
              "      <button class=\"colab-df-convert\" onclick=\"convertToInteractive('df-1cd26e42-704a-4ee5-a171-a0bd8f154db9')\"\n",
              "              title=\"Convert this dataframe to an interactive table.\"\n",
              "              style=\"display:none;\">\n",
              "        \n",
              "  <svg xmlns=\"http://www.w3.org/2000/svg\" height=\"24px\"viewBox=\"0 0 24 24\"\n",
              "       width=\"24px\">\n",
              "    <path d=\"M0 0h24v24H0V0z\" fill=\"none\"/>\n",
              "    <path d=\"M18.56 5.44l.94 2.06.94-2.06 2.06-.94-2.06-.94-.94-2.06-.94 2.06-2.06.94zm-11 1L8.5 8.5l.94-2.06 2.06-.94-2.06-.94L8.5 2.5l-.94 2.06-2.06.94zm10 10l.94 2.06.94-2.06 2.06-.94-2.06-.94-.94-2.06-.94 2.06-2.06.94z\"/><path d=\"M17.41 7.96l-1.37-1.37c-.4-.4-.92-.59-1.43-.59-.52 0-1.04.2-1.43.59L10.3 9.45l-7.72 7.72c-.78.78-.78 2.05 0 2.83L4 21.41c.39.39.9.59 1.41.59.51 0 1.02-.2 1.41-.59l7.78-7.78 2.81-2.81c.8-.78.8-2.07 0-2.86zM5.41 20L4 18.59l7.72-7.72 1.47 1.35L5.41 20z\"/>\n",
              "  </svg>\n",
              "      </button>\n",
              "      \n",
              "  <style>\n",
              "    .colab-df-container {\n",
              "      display:flex;\n",
              "      flex-wrap:wrap;\n",
              "      gap: 12px;\n",
              "    }\n",
              "\n",
              "    .colab-df-convert {\n",
              "      background-color: #E8F0FE;\n",
              "      border: none;\n",
              "      border-radius: 50%;\n",
              "      cursor: pointer;\n",
              "      display: none;\n",
              "      fill: #1967D2;\n",
              "      height: 32px;\n",
              "      padding: 0 0 0 0;\n",
              "      width: 32px;\n",
              "    }\n",
              "\n",
              "    .colab-df-convert:hover {\n",
              "      background-color: #E2EBFA;\n",
              "      box-shadow: 0px 1px 2px rgba(60, 64, 67, 0.3), 0px 1px 3px 1px rgba(60, 64, 67, 0.15);\n",
              "      fill: #174EA6;\n",
              "    }\n",
              "\n",
              "    [theme=dark] .colab-df-convert {\n",
              "      background-color: #3B4455;\n",
              "      fill: #D2E3FC;\n",
              "    }\n",
              "\n",
              "    [theme=dark] .colab-df-convert:hover {\n",
              "      background-color: #434B5C;\n",
              "      box-shadow: 0px 1px 3px 1px rgba(0, 0, 0, 0.15);\n",
              "      filter: drop-shadow(0px 1px 2px rgba(0, 0, 0, 0.3));\n",
              "      fill: #FFFFFF;\n",
              "    }\n",
              "  </style>\n",
              "\n",
              "      <script>\n",
              "        const buttonEl =\n",
              "          document.querySelector('#df-1cd26e42-704a-4ee5-a171-a0bd8f154db9 button.colab-df-convert');\n",
              "        buttonEl.style.display =\n",
              "          google.colab.kernel.accessAllowed ? 'block' : 'none';\n",
              "\n",
              "        async function convertToInteractive(key) {\n",
              "          const element = document.querySelector('#df-1cd26e42-704a-4ee5-a171-a0bd8f154db9');\n",
              "          const dataTable =\n",
              "            await google.colab.kernel.invokeFunction('convertToInteractive',\n",
              "                                                     [key], {});\n",
              "          if (!dataTable) return;\n",
              "\n",
              "          const docLinkHtml = 'Like what you see? Visit the ' +\n",
              "            '<a target=\"_blank\" href=https://colab.research.google.com/notebooks/data_table.ipynb>data table notebook</a>'\n",
              "            + ' to learn more about interactive tables.';\n",
              "          element.innerHTML = '';\n",
              "          dataTable['output_type'] = 'display_data';\n",
              "          await google.colab.output.renderOutput(dataTable, element);\n",
              "          const docLink = document.createElement('div');\n",
              "          docLink.innerHTML = docLinkHtml;\n",
              "          element.appendChild(docLink);\n",
              "        }\n",
              "      </script>\n",
              "    </div>\n",
              "  </div>\n",
              "  "
            ]
          },
          "metadata": {},
          "execution_count": 130
        }
      ]
    },
    {
      "cell_type": "code",
      "source": [
        "# Check the df again.\n",
        "air_quality_2.head() \n",
        "#there are some space cells. "
      ],
      "metadata": {
        "id": "RIw4rYKneC1n",
        "outputId": "73587a4e-12ce-4461-9181-bcd0732194e9",
        "colab": {
          "base_uri": "https://localhost:8080/",
          "height": 206
        }
      },
      "id": "RIw4rYKneC1n",
      "execution_count": 131,
      "outputs": [
        {
          "output_type": "execute_result",
          "data": {
            "text/plain": [
              "        date pm25   o3 no2 so2 co\n",
              "0 2014-01-01        23           \n",
              "1 2014-01-02   47   14           \n",
              "2 2014-01-03   45   21           \n",
              "3 2014-01-04   38   23           \n",
              "4 2014-01-05   54   12           "
            ],
            "text/html": [
              "\n",
              "  <div id=\"df-a032a097-600f-4e67-927d-8eb9a616d831\">\n",
              "    <div class=\"colab-df-container\">\n",
              "      <div>\n",
              "<style scoped>\n",
              "    .dataframe tbody tr th:only-of-type {\n",
              "        vertical-align: middle;\n",
              "    }\n",
              "\n",
              "    .dataframe tbody tr th {\n",
              "        vertical-align: top;\n",
              "    }\n",
              "\n",
              "    .dataframe thead th {\n",
              "        text-align: right;\n",
              "    }\n",
              "</style>\n",
              "<table border=\"1\" class=\"dataframe\">\n",
              "  <thead>\n",
              "    <tr style=\"text-align: right;\">\n",
              "      <th></th>\n",
              "      <th>date</th>\n",
              "      <th>pm25</th>\n",
              "      <th>o3</th>\n",
              "      <th>no2</th>\n",
              "      <th>so2</th>\n",
              "      <th>co</th>\n",
              "    </tr>\n",
              "  </thead>\n",
              "  <tbody>\n",
              "    <tr>\n",
              "      <th>0</th>\n",
              "      <td>2014-01-01</td>\n",
              "      <td></td>\n",
              "      <td>23</td>\n",
              "      <td></td>\n",
              "      <td></td>\n",
              "      <td></td>\n",
              "    </tr>\n",
              "    <tr>\n",
              "      <th>1</th>\n",
              "      <td>2014-01-02</td>\n",
              "      <td>47</td>\n",
              "      <td>14</td>\n",
              "      <td></td>\n",
              "      <td></td>\n",
              "      <td></td>\n",
              "    </tr>\n",
              "    <tr>\n",
              "      <th>2</th>\n",
              "      <td>2014-01-03</td>\n",
              "      <td>45</td>\n",
              "      <td>21</td>\n",
              "      <td></td>\n",
              "      <td></td>\n",
              "      <td></td>\n",
              "    </tr>\n",
              "    <tr>\n",
              "      <th>3</th>\n",
              "      <td>2014-01-04</td>\n",
              "      <td>38</td>\n",
              "      <td>23</td>\n",
              "      <td></td>\n",
              "      <td></td>\n",
              "      <td></td>\n",
              "    </tr>\n",
              "    <tr>\n",
              "      <th>4</th>\n",
              "      <td>2014-01-05</td>\n",
              "      <td>54</td>\n",
              "      <td>12</td>\n",
              "      <td></td>\n",
              "      <td></td>\n",
              "      <td></td>\n",
              "    </tr>\n",
              "  </tbody>\n",
              "</table>\n",
              "</div>\n",
              "      <button class=\"colab-df-convert\" onclick=\"convertToInteractive('df-a032a097-600f-4e67-927d-8eb9a616d831')\"\n",
              "              title=\"Convert this dataframe to an interactive table.\"\n",
              "              style=\"display:none;\">\n",
              "        \n",
              "  <svg xmlns=\"http://www.w3.org/2000/svg\" height=\"24px\"viewBox=\"0 0 24 24\"\n",
              "       width=\"24px\">\n",
              "    <path d=\"M0 0h24v24H0V0z\" fill=\"none\"/>\n",
              "    <path d=\"M18.56 5.44l.94 2.06.94-2.06 2.06-.94-2.06-.94-.94-2.06-.94 2.06-2.06.94zm-11 1L8.5 8.5l.94-2.06 2.06-.94-2.06-.94L8.5 2.5l-.94 2.06-2.06.94zm10 10l.94 2.06.94-2.06 2.06-.94-2.06-.94-.94-2.06-.94 2.06-2.06.94z\"/><path d=\"M17.41 7.96l-1.37-1.37c-.4-.4-.92-.59-1.43-.59-.52 0-1.04.2-1.43.59L10.3 9.45l-7.72 7.72c-.78.78-.78 2.05 0 2.83L4 21.41c.39.39.9.59 1.41.59.51 0 1.02-.2 1.41-.59l7.78-7.78 2.81-2.81c.8-.78.8-2.07 0-2.86zM5.41 20L4 18.59l7.72-7.72 1.47 1.35L5.41 20z\"/>\n",
              "  </svg>\n",
              "      </button>\n",
              "      \n",
              "  <style>\n",
              "    .colab-df-container {\n",
              "      display:flex;\n",
              "      flex-wrap:wrap;\n",
              "      gap: 12px;\n",
              "    }\n",
              "\n",
              "    .colab-df-convert {\n",
              "      background-color: #E8F0FE;\n",
              "      border: none;\n",
              "      border-radius: 50%;\n",
              "      cursor: pointer;\n",
              "      display: none;\n",
              "      fill: #1967D2;\n",
              "      height: 32px;\n",
              "      padding: 0 0 0 0;\n",
              "      width: 32px;\n",
              "    }\n",
              "\n",
              "    .colab-df-convert:hover {\n",
              "      background-color: #E2EBFA;\n",
              "      box-shadow: 0px 1px 2px rgba(60, 64, 67, 0.3), 0px 1px 3px 1px rgba(60, 64, 67, 0.15);\n",
              "      fill: #174EA6;\n",
              "    }\n",
              "\n",
              "    [theme=dark] .colab-df-convert {\n",
              "      background-color: #3B4455;\n",
              "      fill: #D2E3FC;\n",
              "    }\n",
              "\n",
              "    [theme=dark] .colab-df-convert:hover {\n",
              "      background-color: #434B5C;\n",
              "      box-shadow: 0px 1px 3px 1px rgba(0, 0, 0, 0.15);\n",
              "      filter: drop-shadow(0px 1px 2px rgba(0, 0, 0, 0.3));\n",
              "      fill: #FFFFFF;\n",
              "    }\n",
              "  </style>\n",
              "\n",
              "      <script>\n",
              "        const buttonEl =\n",
              "          document.querySelector('#df-a032a097-600f-4e67-927d-8eb9a616d831 button.colab-df-convert');\n",
              "        buttonEl.style.display =\n",
              "          google.colab.kernel.accessAllowed ? 'block' : 'none';\n",
              "\n",
              "        async function convertToInteractive(key) {\n",
              "          const element = document.querySelector('#df-a032a097-600f-4e67-927d-8eb9a616d831');\n",
              "          const dataTable =\n",
              "            await google.colab.kernel.invokeFunction('convertToInteractive',\n",
              "                                                     [key], {});\n",
              "          if (!dataTable) return;\n",
              "\n",
              "          const docLinkHtml = 'Like what you see? Visit the ' +\n",
              "            '<a target=\"_blank\" href=https://colab.research.google.com/notebooks/data_table.ipynb>data table notebook</a>'\n",
              "            + ' to learn more about interactive tables.';\n",
              "          element.innerHTML = '';\n",
              "          dataTable['output_type'] = 'display_data';\n",
              "          await google.colab.output.renderOutput(dataTable, element);\n",
              "          const docLink = document.createElement('div');\n",
              "          docLink.innerHTML = docLinkHtml;\n",
              "          element.appendChild(docLink);\n",
              "        }\n",
              "      </script>\n",
              "    </div>\n",
              "  </div>\n",
              "  "
            ]
          },
          "metadata": {},
          "execution_count": 131
        }
      ]
    },
    {
      "cell_type": "code",
      "source": [
        "# Replace spaces to NaNs\n",
        "air_quality_2 = air_quality_2.replace(r'^\\s+$', np.nan, regex=True)\n",
        "air_quality_2.head()"
      ],
      "metadata": {
        "id": "4SrDeWp_zp8s",
        "outputId": "d4f8f1ba-9aef-4eab-b6be-d0b5b3ce0363",
        "colab": {
          "base_uri": "https://localhost:8080/",
          "height": 206
        }
      },
      "id": "4SrDeWp_zp8s",
      "execution_count": 132,
      "outputs": [
        {
          "output_type": "execute_result",
          "data": {
            "text/plain": [
              "        date pm25   o3  no2  so2   co\n",
              "0 2014-01-01  NaN   23  NaN  NaN  NaN\n",
              "1 2014-01-02   47   14  NaN  NaN  NaN\n",
              "2 2014-01-03   45   21  NaN  NaN  NaN\n",
              "3 2014-01-04   38   23  NaN  NaN  NaN\n",
              "4 2014-01-05   54   12  NaN  NaN  NaN"
            ],
            "text/html": [
              "\n",
              "  <div id=\"df-230d7598-b4fa-49fd-aadd-51e6ba67a71f\">\n",
              "    <div class=\"colab-df-container\">\n",
              "      <div>\n",
              "<style scoped>\n",
              "    .dataframe tbody tr th:only-of-type {\n",
              "        vertical-align: middle;\n",
              "    }\n",
              "\n",
              "    .dataframe tbody tr th {\n",
              "        vertical-align: top;\n",
              "    }\n",
              "\n",
              "    .dataframe thead th {\n",
              "        text-align: right;\n",
              "    }\n",
              "</style>\n",
              "<table border=\"1\" class=\"dataframe\">\n",
              "  <thead>\n",
              "    <tr style=\"text-align: right;\">\n",
              "      <th></th>\n",
              "      <th>date</th>\n",
              "      <th>pm25</th>\n",
              "      <th>o3</th>\n",
              "      <th>no2</th>\n",
              "      <th>so2</th>\n",
              "      <th>co</th>\n",
              "    </tr>\n",
              "  </thead>\n",
              "  <tbody>\n",
              "    <tr>\n",
              "      <th>0</th>\n",
              "      <td>2014-01-01</td>\n",
              "      <td>NaN</td>\n",
              "      <td>23</td>\n",
              "      <td>NaN</td>\n",
              "      <td>NaN</td>\n",
              "      <td>NaN</td>\n",
              "    </tr>\n",
              "    <tr>\n",
              "      <th>1</th>\n",
              "      <td>2014-01-02</td>\n",
              "      <td>47</td>\n",
              "      <td>14</td>\n",
              "      <td>NaN</td>\n",
              "      <td>NaN</td>\n",
              "      <td>NaN</td>\n",
              "    </tr>\n",
              "    <tr>\n",
              "      <th>2</th>\n",
              "      <td>2014-01-03</td>\n",
              "      <td>45</td>\n",
              "      <td>21</td>\n",
              "      <td>NaN</td>\n",
              "      <td>NaN</td>\n",
              "      <td>NaN</td>\n",
              "    </tr>\n",
              "    <tr>\n",
              "      <th>3</th>\n",
              "      <td>2014-01-04</td>\n",
              "      <td>38</td>\n",
              "      <td>23</td>\n",
              "      <td>NaN</td>\n",
              "      <td>NaN</td>\n",
              "      <td>NaN</td>\n",
              "    </tr>\n",
              "    <tr>\n",
              "      <th>4</th>\n",
              "      <td>2014-01-05</td>\n",
              "      <td>54</td>\n",
              "      <td>12</td>\n",
              "      <td>NaN</td>\n",
              "      <td>NaN</td>\n",
              "      <td>NaN</td>\n",
              "    </tr>\n",
              "  </tbody>\n",
              "</table>\n",
              "</div>\n",
              "      <button class=\"colab-df-convert\" onclick=\"convertToInteractive('df-230d7598-b4fa-49fd-aadd-51e6ba67a71f')\"\n",
              "              title=\"Convert this dataframe to an interactive table.\"\n",
              "              style=\"display:none;\">\n",
              "        \n",
              "  <svg xmlns=\"http://www.w3.org/2000/svg\" height=\"24px\"viewBox=\"0 0 24 24\"\n",
              "       width=\"24px\">\n",
              "    <path d=\"M0 0h24v24H0V0z\" fill=\"none\"/>\n",
              "    <path d=\"M18.56 5.44l.94 2.06.94-2.06 2.06-.94-2.06-.94-.94-2.06-.94 2.06-2.06.94zm-11 1L8.5 8.5l.94-2.06 2.06-.94-2.06-.94L8.5 2.5l-.94 2.06-2.06.94zm10 10l.94 2.06.94-2.06 2.06-.94-2.06-.94-.94-2.06-.94 2.06-2.06.94z\"/><path d=\"M17.41 7.96l-1.37-1.37c-.4-.4-.92-.59-1.43-.59-.52 0-1.04.2-1.43.59L10.3 9.45l-7.72 7.72c-.78.78-.78 2.05 0 2.83L4 21.41c.39.39.9.59 1.41.59.51 0 1.02-.2 1.41-.59l7.78-7.78 2.81-2.81c.8-.78.8-2.07 0-2.86zM5.41 20L4 18.59l7.72-7.72 1.47 1.35L5.41 20z\"/>\n",
              "  </svg>\n",
              "      </button>\n",
              "      \n",
              "  <style>\n",
              "    .colab-df-container {\n",
              "      display:flex;\n",
              "      flex-wrap:wrap;\n",
              "      gap: 12px;\n",
              "    }\n",
              "\n",
              "    .colab-df-convert {\n",
              "      background-color: #E8F0FE;\n",
              "      border: none;\n",
              "      border-radius: 50%;\n",
              "      cursor: pointer;\n",
              "      display: none;\n",
              "      fill: #1967D2;\n",
              "      height: 32px;\n",
              "      padding: 0 0 0 0;\n",
              "      width: 32px;\n",
              "    }\n",
              "\n",
              "    .colab-df-convert:hover {\n",
              "      background-color: #E2EBFA;\n",
              "      box-shadow: 0px 1px 2px rgba(60, 64, 67, 0.3), 0px 1px 3px 1px rgba(60, 64, 67, 0.15);\n",
              "      fill: #174EA6;\n",
              "    }\n",
              "\n",
              "    [theme=dark] .colab-df-convert {\n",
              "      background-color: #3B4455;\n",
              "      fill: #D2E3FC;\n",
              "    }\n",
              "\n",
              "    [theme=dark] .colab-df-convert:hover {\n",
              "      background-color: #434B5C;\n",
              "      box-shadow: 0px 1px 3px 1px rgba(0, 0, 0, 0.15);\n",
              "      filter: drop-shadow(0px 1px 2px rgba(0, 0, 0, 0.3));\n",
              "      fill: #FFFFFF;\n",
              "    }\n",
              "  </style>\n",
              "\n",
              "      <script>\n",
              "        const buttonEl =\n",
              "          document.querySelector('#df-230d7598-b4fa-49fd-aadd-51e6ba67a71f button.colab-df-convert');\n",
              "        buttonEl.style.display =\n",
              "          google.colab.kernel.accessAllowed ? 'block' : 'none';\n",
              "\n",
              "        async function convertToInteractive(key) {\n",
              "          const element = document.querySelector('#df-230d7598-b4fa-49fd-aadd-51e6ba67a71f');\n",
              "          const dataTable =\n",
              "            await google.colab.kernel.invokeFunction('convertToInteractive',\n",
              "                                                     [key], {});\n",
              "          if (!dataTable) return;\n",
              "\n",
              "          const docLinkHtml = 'Like what you see? Visit the ' +\n",
              "            '<a target=\"_blank\" href=https://colab.research.google.com/notebooks/data_table.ipynb>data table notebook</a>'\n",
              "            + ' to learn more about interactive tables.';\n",
              "          element.innerHTML = '';\n",
              "          dataTable['output_type'] = 'display_data';\n",
              "          await google.colab.output.renderOutput(dataTable, element);\n",
              "          const docLink = document.createElement('div');\n",
              "          docLink.innerHTML = docLinkHtml;\n",
              "          element.appendChild(docLink);\n",
              "        }\n",
              "      </script>\n",
              "    </div>\n",
              "  </div>\n",
              "  "
            ]
          },
          "metadata": {},
          "execution_count": 132
        }
      ]
    },
    {
      "cell_type": "code",
      "execution_count": 133,
      "id": "9ce637ca",
      "metadata": {
        "id": "9ce637ca"
      },
      "outputs": [],
      "source": [
        "# Sort the date\n",
        "air_quality_2 = air_quality_2.sort_values(by=['date'], ascending=False)"
      ]
    },
    {
      "cell_type": "code",
      "execution_count": 134,
      "id": "aafd7cd5",
      "metadata": {
        "id": "aafd7cd5"
      },
      "outputs": [],
      "source": [
        "air_quality_2=air_quality_2.reset_index(drop=True)"
      ]
    },
    {
      "cell_type": "code",
      "source": [
        "#Set index as date column. It will better while creating time series plots.\n",
        "air_quality_2 = air_quality_2.set_index('date')"
      ],
      "metadata": {
        "id": "fNCxeN3F2I4v"
      },
      "id": "fNCxeN3F2I4v",
      "execution_count": 135,
      "outputs": []
    },
    {
      "cell_type": "code",
      "source": [
        "air_quality_2 = air_quality_2.astype(str).astype(float)\n"
      ],
      "metadata": {
        "id": "pTgSlq7Uzsnr"
      },
      "id": "pTgSlq7Uzsnr",
      "execution_count": 136,
      "outputs": []
    },
    {
      "cell_type": "code",
      "source": [
        "# The NaNs in the data set.\n",
        "air_quality_2.isna().sum()\n"
      ],
      "metadata": {
        "id": "DH9zA3E-dTSH",
        "outputId": "5fa43f76-c787-4af0-f7fa-de1d3d827f5f",
        "colab": {
          "base_uri": "https://localhost:8080/"
        }
      },
      "id": "DH9zA3E-dTSH",
      "execution_count": 95,
      "outputs": [
        {
          "output_type": "execute_result",
          "data": {
            "text/plain": [
              "pm25      41\n",
              "o3        43\n",
              "no2      406\n",
              "so2     1845\n",
              "co       423\n",
              "dtype: int64"
            ]
          },
          "metadata": {},
          "execution_count": 95
        }
      ]
    },
    {
      "cell_type": "code",
      "source": [
        "# Fill NaN with interpolate method.\n",
        "air_quality_2.interpolate(method='linear', inplace=True) "
      ],
      "metadata": {
        "id": "nOQLGWpw25yA"
      },
      "id": "nOQLGWpw25yA",
      "execution_count": 137,
      "outputs": []
    },
    {
      "cell_type": "code",
      "source": [
        "air_quality_2.head()"
      ],
      "metadata": {
        "id": "cF80lZ4o3LLA",
        "outputId": "e086559d-457d-4106-9a45-1f550b32ed07",
        "colab": {
          "base_uri": "https://localhost:8080/",
          "height": 238
        }
      },
      "id": "cF80lZ4o3LLA",
      "execution_count": 138,
      "outputs": [
        {
          "output_type": "execute_result",
          "data": {
            "text/plain": [
              "            pm25    o3   no2  so2   co\n",
              "date                                  \n",
              "2022-02-28  45.0  28.0  14.0  1.0  2.0\n",
              "2022-02-27  39.0  34.0  12.0  1.0  3.0\n",
              "2022-02-26  27.0  29.0  18.0  1.0  4.0\n",
              "2022-02-25  21.0  22.0  13.0  1.0  2.0\n",
              "2022-02-24  31.0  23.0  14.0  1.0  2.0"
            ],
            "text/html": [
              "\n",
              "  <div id=\"df-64d14f2f-4b26-4e16-89e3-388d317c94b8\">\n",
              "    <div class=\"colab-df-container\">\n",
              "      <div>\n",
              "<style scoped>\n",
              "    .dataframe tbody tr th:only-of-type {\n",
              "        vertical-align: middle;\n",
              "    }\n",
              "\n",
              "    .dataframe tbody tr th {\n",
              "        vertical-align: top;\n",
              "    }\n",
              "\n",
              "    .dataframe thead th {\n",
              "        text-align: right;\n",
              "    }\n",
              "</style>\n",
              "<table border=\"1\" class=\"dataframe\">\n",
              "  <thead>\n",
              "    <tr style=\"text-align: right;\">\n",
              "      <th></th>\n",
              "      <th>pm25</th>\n",
              "      <th>o3</th>\n",
              "      <th>no2</th>\n",
              "      <th>so2</th>\n",
              "      <th>co</th>\n",
              "    </tr>\n",
              "    <tr>\n",
              "      <th>date</th>\n",
              "      <th></th>\n",
              "      <th></th>\n",
              "      <th></th>\n",
              "      <th></th>\n",
              "      <th></th>\n",
              "    </tr>\n",
              "  </thead>\n",
              "  <tbody>\n",
              "    <tr>\n",
              "      <th>2022-02-28</th>\n",
              "      <td>45.0</td>\n",
              "      <td>28.0</td>\n",
              "      <td>14.0</td>\n",
              "      <td>1.0</td>\n",
              "      <td>2.0</td>\n",
              "    </tr>\n",
              "    <tr>\n",
              "      <th>2022-02-27</th>\n",
              "      <td>39.0</td>\n",
              "      <td>34.0</td>\n",
              "      <td>12.0</td>\n",
              "      <td>1.0</td>\n",
              "      <td>3.0</td>\n",
              "    </tr>\n",
              "    <tr>\n",
              "      <th>2022-02-26</th>\n",
              "      <td>27.0</td>\n",
              "      <td>29.0</td>\n",
              "      <td>18.0</td>\n",
              "      <td>1.0</td>\n",
              "      <td>4.0</td>\n",
              "    </tr>\n",
              "    <tr>\n",
              "      <th>2022-02-25</th>\n",
              "      <td>21.0</td>\n",
              "      <td>22.0</td>\n",
              "      <td>13.0</td>\n",
              "      <td>1.0</td>\n",
              "      <td>2.0</td>\n",
              "    </tr>\n",
              "    <tr>\n",
              "      <th>2022-02-24</th>\n",
              "      <td>31.0</td>\n",
              "      <td>23.0</td>\n",
              "      <td>14.0</td>\n",
              "      <td>1.0</td>\n",
              "      <td>2.0</td>\n",
              "    </tr>\n",
              "  </tbody>\n",
              "</table>\n",
              "</div>\n",
              "      <button class=\"colab-df-convert\" onclick=\"convertToInteractive('df-64d14f2f-4b26-4e16-89e3-388d317c94b8')\"\n",
              "              title=\"Convert this dataframe to an interactive table.\"\n",
              "              style=\"display:none;\">\n",
              "        \n",
              "  <svg xmlns=\"http://www.w3.org/2000/svg\" height=\"24px\"viewBox=\"0 0 24 24\"\n",
              "       width=\"24px\">\n",
              "    <path d=\"M0 0h24v24H0V0z\" fill=\"none\"/>\n",
              "    <path d=\"M18.56 5.44l.94 2.06.94-2.06 2.06-.94-2.06-.94-.94-2.06-.94 2.06-2.06.94zm-11 1L8.5 8.5l.94-2.06 2.06-.94-2.06-.94L8.5 2.5l-.94 2.06-2.06.94zm10 10l.94 2.06.94-2.06 2.06-.94-2.06-.94-.94-2.06-.94 2.06-2.06.94z\"/><path d=\"M17.41 7.96l-1.37-1.37c-.4-.4-.92-.59-1.43-.59-.52 0-1.04.2-1.43.59L10.3 9.45l-7.72 7.72c-.78.78-.78 2.05 0 2.83L4 21.41c.39.39.9.59 1.41.59.51 0 1.02-.2 1.41-.59l7.78-7.78 2.81-2.81c.8-.78.8-2.07 0-2.86zM5.41 20L4 18.59l7.72-7.72 1.47 1.35L5.41 20z\"/>\n",
              "  </svg>\n",
              "      </button>\n",
              "      \n",
              "  <style>\n",
              "    .colab-df-container {\n",
              "      display:flex;\n",
              "      flex-wrap:wrap;\n",
              "      gap: 12px;\n",
              "    }\n",
              "\n",
              "    .colab-df-convert {\n",
              "      background-color: #E8F0FE;\n",
              "      border: none;\n",
              "      border-radius: 50%;\n",
              "      cursor: pointer;\n",
              "      display: none;\n",
              "      fill: #1967D2;\n",
              "      height: 32px;\n",
              "      padding: 0 0 0 0;\n",
              "      width: 32px;\n",
              "    }\n",
              "\n",
              "    .colab-df-convert:hover {\n",
              "      background-color: #E2EBFA;\n",
              "      box-shadow: 0px 1px 2px rgba(60, 64, 67, 0.3), 0px 1px 3px 1px rgba(60, 64, 67, 0.15);\n",
              "      fill: #174EA6;\n",
              "    }\n",
              "\n",
              "    [theme=dark] .colab-df-convert {\n",
              "      background-color: #3B4455;\n",
              "      fill: #D2E3FC;\n",
              "    }\n",
              "\n",
              "    [theme=dark] .colab-df-convert:hover {\n",
              "      background-color: #434B5C;\n",
              "      box-shadow: 0px 1px 3px 1px rgba(0, 0, 0, 0.15);\n",
              "      filter: drop-shadow(0px 1px 2px rgba(0, 0, 0, 0.3));\n",
              "      fill: #FFFFFF;\n",
              "    }\n",
              "  </style>\n",
              "\n",
              "      <script>\n",
              "        const buttonEl =\n",
              "          document.querySelector('#df-64d14f2f-4b26-4e16-89e3-388d317c94b8 button.colab-df-convert');\n",
              "        buttonEl.style.display =\n",
              "          google.colab.kernel.accessAllowed ? 'block' : 'none';\n",
              "\n",
              "        async function convertToInteractive(key) {\n",
              "          const element = document.querySelector('#df-64d14f2f-4b26-4e16-89e3-388d317c94b8');\n",
              "          const dataTable =\n",
              "            await google.colab.kernel.invokeFunction('convertToInteractive',\n",
              "                                                     [key], {});\n",
              "          if (!dataTable) return;\n",
              "\n",
              "          const docLinkHtml = 'Like what you see? Visit the ' +\n",
              "            '<a target=\"_blank\" href=https://colab.research.google.com/notebooks/data_table.ipynb>data table notebook</a>'\n",
              "            + ' to learn more about interactive tables.';\n",
              "          element.innerHTML = '';\n",
              "          dataTable['output_type'] = 'display_data';\n",
              "          await google.colab.output.renderOutput(dataTable, element);\n",
              "          const docLink = document.createElement('div');\n",
              "          docLink.innerHTML = docLinkHtml;\n",
              "          element.appendChild(docLink);\n",
              "        }\n",
              "      </script>\n",
              "    </div>\n",
              "  </div>\n",
              "  "
            ]
          },
          "metadata": {},
          "execution_count": 138
        }
      ]
    },
    {
      "cell_type": "code",
      "source": [
        "#Check outliers. I can see there are a lot of outliers. I don't drop them. \"Identifying outliers in time series forecasting is important because outliers influence the forecast model that is used to \n",
        "#forecast future values. I will examine the outliers in EDA.\n",
        "air_quality_2.boxplot() "
      ],
      "metadata": {
        "id": "LqUsxlPF6xvT",
        "outputId": "724382f4-a097-4c29-fe3b-86f7040e3c23",
        "colab": {
          "base_uri": "https://localhost:8080/",
          "height": 282
        }
      },
      "id": "LqUsxlPF6xvT",
      "execution_count": 140,
      "outputs": [
        {
          "output_type": "execute_result",
          "data": {
            "text/plain": [
              "<matplotlib.axes._subplots.AxesSubplot at 0x7f01789d90d0>"
            ]
          },
          "metadata": {},
          "execution_count": 140
        },
        {
          "output_type": "display_data",
          "data": {
            "text/plain": [
              "<Figure size 432x288 with 1 Axes>"
            ],
            "image/png": "[encoded data removed]"
          },
          "metadata": {
            "needs_background": "light"
          }
        }
      ]
    },
    {
      "cell_type": "code",
      "source": [
        "# I realised that my yearly datasets' date range ends in 2021. I don't have 2022 data. So I dediced to drop two months of 2022. \n",
        "air_quality_2 = air_quality_2.loc[:'2021-12-31']"
      ],
      "metadata": {
        "id": "x8Y-iveS65Mg"
      },
      "id": "x8Y-iveS65Mg",
      "execution_count": 145,
      "outputs": []
    },
    {
      "cell_type": "code",
      "source": [
        "#Save the clean version of air_quality\n",
        "air_quality_2.to_csv(r\"C:\\Users\\dede\\OneDrive\\Desktop\\Springboard\\Capstone 2\\dataset_ready_for_EDA\")"
      ],
      "metadata": {
        "id": "SRatetKo9yNr"
      },
      "id": "SRatetKo9yNr",
      "execution_count": 149,
      "outputs": []
    },
    {
      "cell_type": "markdown",
      "id": "d9738a29",
      "metadata": {
        "id": "d9738a29"
      },
      "source": [
        "### 2.2 Weather"
      ]
    },
    {
      "cell_type": "markdown",
      "id": "47bf1439",
      "metadata": {
        "id": "47bf1439"
      },
      "source": [
        "The second dataset is about Boston's weather. There are a lot of attributes of weather data.The data range is between 01/01/2014 and 03/22/2022. The data was downloaded from [here](https://www.visualcrossing.com/weather/weather-data-services)."
      ]
    },
    {
      "cell_type": "code",
      "execution_count": null,
      "id": "82785485",
      "metadata": {
        "id": "82785485"
      },
      "outputs": [],
      "source": [
        "url_w = 'https://github.com/hangulde/Springboard/raw/main/Capstone%202/weather.csv'\n",
        "weather = pd.read_csv(url_w)"
      ]
    },
    {
      "cell_type": "code",
      "source": [
        "weather.head()"
      ],
      "metadata": {
        "id": "jpNrHXxk2ClM",
        "outputId": "4093c69d-e9e0-465c-f7bb-95dcf0e6fb95",
        "colab": {
          "base_uri": "https://localhost:8080/",
          "height": 542
        }
      },
      "id": "jpNrHXxk2ClM",
      "execution_count": null,
      "outputs": [
        {
          "output_type": "execute_result",
          "data": {
            "text/plain": [
              "   index    name    datetime  tempmax  tempmin  temp  feelslikemax  \\\n",
              "0      0  boston  2014-01-01     -2.1     -7.0  -4.7          -6.6   \n",
              "1      1  boston  2014-01-02     -3.3    -16.1  -8.4          -9.6   \n",
              "2      2  boston  2014-01-03    -10.0    -17.0 -14.4         -18.0   \n",
              "3      3  boston  2014-01-04     -3.0    -17.2  -9.7          -9.3   \n",
              "4      4  boston  2014-01-05      3.0     -4.4  -0.7           2.0   \n",
              "\n",
              "   feelslikemin  feelslike   dew  ...  solarenergy  uvindex  severerisk  \\\n",
              "0         -13.3      -10.0 -15.1  ...          NaN        0         NaN   \n",
              "1         -28.2      -16.6 -11.3  ...          NaN        0         NaN   \n",
              "2         -29.8      -24.9 -20.0  ...          NaN        0         NaN   \n",
              "3         -25.4      -16.5 -17.5  ...          NaN        0         NaN   \n",
              "4         -10.5       -4.7  -5.9  ...          NaN        0         NaN   \n",
              "\n",
              "               sunrise               sunset  moonphase  \\\n",
              "0  2014-01-01T07:13:34  2014-01-01T16:22:19       0.00   \n",
              "1  2014-01-02T07:13:38  2014-01-02T16:23:12       0.01   \n",
              "2  2014-01-03T07:13:39  2014-01-03T16:24:07       0.03   \n",
              "3  2014-01-04T07:13:38  2014-01-04T16:25:03       0.07   \n",
              "4  2014-01-05T07:13:35  2014-01-05T16:26:00       0.11   \n",
              "\n",
              "               conditions                                        description  \\\n",
              "0        Partially cloudy                  Becoming cloudy in the afternoon.   \n",
              "1          Snow, Overcast  Cloudy skies throughout the day with a chance ...   \n",
              "2  Snow, Partially cloudy  Partly cloudy throughout the day with rain cle...   \n",
              "3  Snow, Partially cloudy  Partly cloudy throughout the day with morning ...   \n",
              "4  Snow, Partially cloudy  Partly cloudy throughout the day with late aft...   \n",
              "\n",
              "                icon                                           stations  \n",
              "0  partly-cloudy-day  KOWD,72509854704,KMQE,KBOS,72509014739,7250591...  \n",
              "1               snow  KOWD,72509854704,KMQE,KBOS,72509014739,7250591...  \n",
              "2               snow  KOWD,72509854704,KMQE,KBOS,72509014739,7250591...  \n",
              "3               snow  KOWD,72509854704,KMQE,KBOS,72509014739,7250591...  \n",
              "4               snow  KOWD,72509854704,KMQE,KBOS,72509014739,7250591...  \n",
              "\n",
              "[5 rows x 34 columns]"
            ],
            "text/html": [
              "\n",
              "  <div id=\"df-dae6df44-bfce-4e00-8859-8241c74542a1\">\n",
              "    <div class=\"colab-df-container\">\n",
              "      <div>\n",
              "<style scoped>\n",
              "    .dataframe tbody tr th:only-of-type {\n",
              "        vertical-align: middle;\n",
              "    }\n",
              "\n",
              "    .dataframe tbody tr th {\n",
              "        vertical-align: top;\n",
              "    }\n",
              "\n",
              "    .dataframe thead th {\n",
              "        text-align: right;\n",
              "    }\n",
              "</style>\n",
              "<table border=\"1\" class=\"dataframe\">\n",
              "  <thead>\n",
              "    <tr style=\"text-align: right;\">\n",
              "      <th></th>\n",
              "      <th>index</th>\n",
              "      <th>name</th>\n",
              "      <th>datetime</th>\n",
              "      <th>tempmax</th>\n",
              "      <th>tempmin</th>\n",
              "      <th>temp</th>\n",
              "      <th>feelslikemax</th>\n",
              "      <th>feelslikemin</th>\n",
              "      <th>feelslike</th>\n",
              "      <th>dew</th>\n",
              "      <th>...</th>\n",
              "      <th>solarenergy</th>\n",
              "      <th>uvindex</th>\n",
              "      <th>severerisk</th>\n",
              "      <th>sunrise</th>\n",
              "      <th>sunset</th>\n",
              "      <th>moonphase</th>\n",
              "      <th>conditions</th>\n",
              "      <th>description</th>\n",
              "      <th>icon</th>\n",
              "      <th>stations</th>\n",
              "    </tr>\n",
              "  </thead>\n",
              "  <tbody>\n",
              "    <tr>\n",
              "      <th>0</th>\n",
              "      <td>0</td>\n",
              "      <td>boston</td>\n",
              "      <td>2014-01-01</td>\n",
              "      <td>-2.1</td>\n",
              "      <td>-7.0</td>\n",
              "      <td>-4.7</td>\n",
              "      <td>-6.6</td>\n",
              "      <td>-13.3</td>\n",
              "      <td>-10.0</td>\n",
              "      <td>-15.1</td>\n",
              "      <td>...</td>\n",
              "      <td>NaN</td>\n",
              "      <td>0</td>\n",
              "      <td>NaN</td>\n",
              "      <td>2014-01-01T07:13:34</td>\n",
              "      <td>2014-01-01T16:22:19</td>\n",
              "      <td>0.00</td>\n",
              "      <td>Partially cloudy</td>\n",
              "      <td>Becoming cloudy in the afternoon.</td>\n",
              "      <td>partly-cloudy-day</td>\n",
              "      <td>KOWD,72509854704,KMQE,KBOS,72509014739,7250591...</td>\n",
              "    </tr>\n",
              "    <tr>\n",
              "      <th>1</th>\n",
              "      <td>1</td>\n",
              "      <td>boston</td>\n",
              "      <td>2014-01-02</td>\n",
              "      <td>-3.3</td>\n",
              "      <td>-16.1</td>\n",
              "      <td>-8.4</td>\n",
              "      <td>-9.6</td>\n",
              "      <td>-28.2</td>\n",
              "      <td>-16.6</td>\n",
              "      <td>-11.3</td>\n",
              "      <td>...</td>\n",
              "      <td>NaN</td>\n",
              "      <td>0</td>\n",
              "      <td>NaN</td>\n",
              "      <td>2014-01-02T07:13:38</td>\n",
              "      <td>2014-01-02T16:23:12</td>\n",
              "      <td>0.01</td>\n",
              "      <td>Snow, Overcast</td>\n",
              "      <td>Cloudy skies throughout the day with a chance ...</td>\n",
              "      <td>snow</td>\n",
              "      <td>KOWD,72509854704,KMQE,KBOS,72509014739,7250591...</td>\n",
              "    </tr>\n",
              "    <tr>\n",
              "      <th>2</th>\n",
              "      <td>2</td>\n",
              "      <td>boston</td>\n",
              "      <td>2014-01-03</td>\n",
              "      <td>-10.0</td>\n",
              "      <td>-17.0</td>\n",
              "      <td>-14.4</td>\n",
              "      <td>-18.0</td>\n",
              "      <td>-29.8</td>\n",
              "      <td>-24.9</td>\n",
              "      <td>-20.0</td>\n",
              "      <td>...</td>\n",
              "      <td>NaN</td>\n",
              "      <td>0</td>\n",
              "      <td>NaN</td>\n",
              "      <td>2014-01-03T07:13:39</td>\n",
              "      <td>2014-01-03T16:24:07</td>\n",
              "      <td>0.03</td>\n",
              "      <td>Snow, Partially cloudy</td>\n",
              "      <td>Partly cloudy throughout the day with rain cle...</td>\n",
              "      <td>snow</td>\n",
              "      <td>KOWD,72509854704,KMQE,KBOS,72509014739,7250591...</td>\n",
              "    </tr>\n",
              "    <tr>\n",
              "      <th>3</th>\n",
              "      <td>3</td>\n",
              "      <td>boston</td>\n",
              "      <td>2014-01-04</td>\n",
              "      <td>-3.0</td>\n",
              "      <td>-17.2</td>\n",
              "      <td>-9.7</td>\n",
              "      <td>-9.3</td>\n",
              "      <td>-25.4</td>\n",
              "      <td>-16.5</td>\n",
              "      <td>-17.5</td>\n",
              "      <td>...</td>\n",
              "      <td>NaN</td>\n",
              "      <td>0</td>\n",
              "      <td>NaN</td>\n",
              "      <td>2014-01-04T07:13:38</td>\n",
              "      <td>2014-01-04T16:25:03</td>\n",
              "      <td>0.07</td>\n",
              "      <td>Snow, Partially cloudy</td>\n",
              "      <td>Partly cloudy throughout the day with morning ...</td>\n",
              "      <td>snow</td>\n",
              "      <td>KOWD,72509854704,KMQE,KBOS,72509014739,7250591...</td>\n",
              "    </tr>\n",
              "    <tr>\n",
              "      <th>4</th>\n",
              "      <td>4</td>\n",
              "      <td>boston</td>\n",
              "      <td>2014-01-05</td>\n",
              "      <td>3.0</td>\n",
              "      <td>-4.4</td>\n",
              "      <td>-0.7</td>\n",
              "      <td>2.0</td>\n",
              "      <td>-10.5</td>\n",
              "      <td>-4.7</td>\n",
              "      <td>-5.9</td>\n",
              "      <td>...</td>\n",
              "      <td>NaN</td>\n",
              "      <td>0</td>\n",
              "      <td>NaN</td>\n",
              "      <td>2014-01-05T07:13:35</td>\n",
              "      <td>2014-01-05T16:26:00</td>\n",
              "      <td>0.11</td>\n",
              "      <td>Snow, Partially cloudy</td>\n",
              "      <td>Partly cloudy throughout the day with late aft...</td>\n",
              "      <td>snow</td>\n",
              "      <td>KOWD,72509854704,KMQE,KBOS,72509014739,7250591...</td>\n",
              "    </tr>\n",
              "  </tbody>\n",
              "</table>\n",
              "<p>5 rows × 34 columns</p>\n",
              "</div>\n",
              "      <button class=\"colab-df-convert\" onclick=\"convertToInteractive('df-dae6df44-bfce-4e00-8859-8241c74542a1')\"\n",
              "              title=\"Convert this dataframe to an interactive table.\"\n",
              "              style=\"display:none;\">\n",
              "        \n",
              "  <svg xmlns=\"http://www.w3.org/2000/svg\" height=\"24px\"viewBox=\"0 0 24 24\"\n",
              "       width=\"24px\">\n",
              "    <path d=\"M0 0h24v24H0V0z\" fill=\"none\"/>\n",
              "    <path d=\"M18.56 5.44l.94 2.06.94-2.06 2.06-.94-2.06-.94-.94-2.06-.94 2.06-2.06.94zm-11 1L8.5 8.5l.94-2.06 2.06-.94-2.06-.94L8.5 2.5l-.94 2.06-2.06.94zm10 10l.94 2.06.94-2.06 2.06-.94-2.06-.94-.94-2.06-.94 2.06-2.06.94z\"/><path d=\"M17.41 7.96l-1.37-1.37c-.4-.4-.92-.59-1.43-.59-.52 0-1.04.2-1.43.59L10.3 9.45l-7.72 7.72c-.78.78-.78 2.05 0 2.83L4 21.41c.39.39.9.59 1.41.59.51 0 1.02-.2 1.41-.59l7.78-7.78 2.81-2.81c.8-.78.8-2.07 0-2.86zM5.41 20L4 18.59l7.72-7.72 1.47 1.35L5.41 20z\"/>\n",
              "  </svg>\n",
              "      </button>\n",
              "      \n",
              "  <style>\n",
              "    .colab-df-container {\n",
              "      display:flex;\n",
              "      flex-wrap:wrap;\n",
              "      gap: 12px;\n",
              "    }\n",
              "\n",
              "    .colab-df-convert {\n",
              "      background-color: #E8F0FE;\n",
              "      border: none;\n",
              "      border-radius: 50%;\n",
              "      cursor: pointer;\n",
              "      display: none;\n",
              "      fill: #1967D2;\n",
              "      height: 32px;\n",
              "      padding: 0 0 0 0;\n",
              "      width: 32px;\n",
              "    }\n",
              "\n",
              "    .colab-df-convert:hover {\n",
              "      background-color: #E2EBFA;\n",
              "      box-shadow: 0px 1px 2px rgba(60, 64, 67, 0.3), 0px 1px 3px 1px rgba(60, 64, 67, 0.15);\n",
              "      fill: #174EA6;\n",
              "    }\n",
              "\n",
              "    [theme=dark] .colab-df-convert {\n",
              "      background-color: #3B4455;\n",
              "      fill: #D2E3FC;\n",
              "    }\n",
              "\n",
              "    [theme=dark] .colab-df-convert:hover {\n",
              "      background-color: #434B5C;\n",
              "      box-shadow: 0px 1px 3px 1px rgba(0, 0, 0, 0.15);\n",
              "      filter: drop-shadow(0px 1px 2px rgba(0, 0, 0, 0.3));\n",
              "      fill: #FFFFFF;\n",
              "    }\n",
              "  </style>\n",
              "\n",
              "      <script>\n",
              "        const buttonEl =\n",
              "          document.querySelector('#df-dae6df44-bfce-4e00-8859-8241c74542a1 button.colab-df-convert');\n",
              "        buttonEl.style.display =\n",
              "          google.colab.kernel.accessAllowed ? 'block' : 'none';\n",
              "\n",
              "        async function convertToInteractive(key) {\n",
              "          const element = document.querySelector('#df-dae6df44-bfce-4e00-8859-8241c74542a1');\n",
              "          const dataTable =\n",
              "            await google.colab.kernel.invokeFunction('convertToInteractive',\n",
              "                                                     [key], {});\n",
              "          if (!dataTable) return;\n",
              "\n",
              "          const docLinkHtml = 'Like what you see? Visit the ' +\n",
              "            '<a target=\"_blank\" href=https://colab.research.google.com/notebooks/data_table.ipynb>data table notebook</a>'\n",
              "            + ' to learn more about interactive tables.';\n",
              "          element.innerHTML = '';\n",
              "          dataTable['output_type'] = 'display_data';\n",
              "          await google.colab.output.renderOutput(dataTable, element);\n",
              "          const docLink = document.createElement('div');\n",
              "          docLink.innerHTML = docLinkHtml;\n",
              "          element.appendChild(docLink);\n",
              "        }\n",
              "      </script>\n",
              "    </div>\n",
              "  </div>\n",
              "  "
            ]
          },
          "metadata": {},
          "execution_count": 24
        }
      ]
    },
    {
      "cell_type": "code",
      "source": [
        "weather.shape"
      ],
      "metadata": {
        "colab": {
          "base_uri": "https://localhost:8080/"
        },
        "id": "uH3eHBcnF-z3",
        "outputId": "b8b542a3-00d7-4104-d79c-18195146e615"
      },
      "id": "uH3eHBcnF-z3",
      "execution_count": null,
      "outputs": [
        {
          "output_type": "execute_result",
          "data": {
            "text/plain": [
              "(3003, 34)"
            ]
          },
          "metadata": {},
          "execution_count": 25
        }
      ]
    },
    {
      "cell_type": "markdown",
      "source": [
        "There are 34 columns. I want to see in detail. The explanations of columns [here](https://www.visualcrossing.com/resources/documentation/weather-data/weather-data-documentation/). I drop some of columns which are useless."
      ],
      "metadata": {
        "id": "XBA8IuG2_hh9"
      },
      "id": "XBA8IuG2_hh9"
    },
    {
      "cell_type": "code",
      "source": [
        "weather.columns"
      ],
      "metadata": {
        "id": "IoVGSjRj2T9X",
        "outputId": "89b2d1bf-fbac-41f0-eea2-672ac1b11230",
        "colab": {
          "base_uri": "https://localhost:8080/"
        }
      },
      "id": "IoVGSjRj2T9X",
      "execution_count": null,
      "outputs": [
        {
          "output_type": "execute_result",
          "data": {
            "text/plain": [
              "Index(['index', 'name', 'datetime', 'tempmax', 'tempmin', 'temp',\n",
              "       'feelslikemax', 'feelslikemin', 'feelslike', 'dew', 'humidity',\n",
              "       'precip', 'precipprob', 'precipcover', 'preciptype', 'snow',\n",
              "       'snowdepth', 'windgust', 'windspeed', 'winddir', 'sealevelpressure',\n",
              "       'cloudcover', 'visibility', 'solarradiation', 'solarenergy', 'uvindex',\n",
              "       'severerisk', 'sunrise', 'sunset', 'moonphase', 'conditions',\n",
              "       'description', 'icon', 'stations'],\n",
              "      dtype='object')"
            ]
          },
          "metadata": {},
          "execution_count": 26
        }
      ]
    },
    {
      "cell_type": "markdown",
      "source": [
        "**What do effect air quality?**\n",
        "The weather can have a significant impact on air quality since different aspects of the weather affect the amounts of ozone and particulates that are present in a specific area.  Sunshine, rain, higher temperatures, wind speed, air turbulence, and mixing depths all affect pollutant concentrations."
      ],
      "metadata": {
        "id": "SIxfeeLuAryW"
      },
      "id": "SIxfeeLuAryW"
    },
    {
      "cell_type": "code",
      "source": [
        "#Drop the useless columns.\n",
        "drop_col = ['index' #I set index as date]\n",
        "            ,'name' #all of them Boston\n",
        "            ,'sunrise',\t'sunset' #I don't use daytime\n",
        "            ,'moonphase' #I think it is irrelevant\n",
        "            , 'conditions' # I use icon column instead of conditions. Less categorr\n",
        "            , 'stations' #the id of locations.\n",
        "            , 'severerisk' #more than 2900 NaNs\n",
        "            , 'uvindex' #more than 2900 NaNs\n",
        "            , 'solarenergy' #more than 2900 NaNs\n",
        "            , 'solarradiation' #more than 2900 NaNs\n",
        "            , 'description' #63 category. I use icon\n",
        "            , 'preciptype' # 39 non-null  \n",
        "            , 'precipprob' # 72 non-null\n",
        "            ]"
      ],
      "metadata": {
        "id": "00uuzLDs_9q8"
      },
      "id": "00uuzLDs_9q8",
      "execution_count": null,
      "outputs": []
    },
    {
      "cell_type": "code",
      "source": [
        "weather = weather.drop(drop_col, axis=1)\n",
        "weather.columns"
      ],
      "metadata": {
        "colab": {
          "base_uri": "https://localhost:8080/"
        },
        "id": "QGymoFucFv49",
        "outputId": "edf08320-efca-4224-df8c-606b0d28e4da"
      },
      "id": "QGymoFucFv49",
      "execution_count": null,
      "outputs": [
        {
          "output_type": "execute_result",
          "data": {
            "text/plain": [
              "Index(['datetime', 'tempmax', 'tempmin', 'temp', 'feelslikemax',\n",
              "       'feelslikemin', 'feelslike', 'dew', 'humidity', 'precip', 'precipcover',\n",
              "       'snow', 'snowdepth', 'windgust', 'windspeed', 'winddir',\n",
              "       'sealevelpressure', 'cloudcover', 'visibility', 'icon'],\n",
              "      dtype='object')"
            ]
          },
          "metadata": {},
          "execution_count": 28
        }
      ]
    },
    {
      "cell_type": "code",
      "execution_count": null,
      "id": "d5e5e017",
      "metadata": {
        "colab": {
          "base_uri": "https://localhost:8080/"
        },
        "id": "d5e5e017",
        "outputId": "2bc05263-8640-42cf-b044-1aaedd77d370"
      },
      "outputs": [
        {
          "output_type": "stream",
          "name": "stdout",
          "text": [
            "<class 'pandas.core.frame.DataFrame'>\n",
            "RangeIndex: 3003 entries, 0 to 3002\n",
            "Data columns (total 20 columns):\n",
            " #   Column            Non-Null Count  Dtype  \n",
            "---  ------            --------------  -----  \n",
            " 0   datetime          3003 non-null   object \n",
            " 1   tempmax           3003 non-null   float64\n",
            " 2   tempmin           3003 non-null   float64\n",
            " 3   temp              3003 non-null   float64\n",
            " 4   feelslikemax      3003 non-null   float64\n",
            " 5   feelslikemin      3003 non-null   float64\n",
            " 6   feelslike         3003 non-null   float64\n",
            " 7   dew               3003 non-null   float64\n",
            " 8   humidity          3003 non-null   float64\n",
            " 9   precip            3003 non-null   float64\n",
            " 10  precipcover       2931 non-null   float64\n",
            " 11  snow              2273 non-null   float64\n",
            " 12  snowdepth         2273 non-null   float64\n",
            " 13  windgust          2601 non-null   float64\n",
            " 14  windspeed         3003 non-null   float64\n",
            " 15  winddir           3003 non-null   float64\n",
            " 16  sealevelpressure  3003 non-null   float64\n",
            " 17  cloudcover        3003 non-null   float64\n",
            " 18  visibility        3003 non-null   float64\n",
            " 19  icon              3003 non-null   object \n",
            "dtypes: float64(18), object(2)\n",
            "memory usage: 469.3+ KB\n"
          ]
        }
      ],
      "source": [
        "weather.info()\n",
        "#Change the name and type of date column type\n",
        "#Change the type of icon column type. "
      ]
    },
    {
      "cell_type": "code",
      "source": [
        "# change datetime column to datetype\n",
        "weather = weather.rename(columns={\"datetime\":\"date\"})"
      ],
      "metadata": {
        "id": "Dl-n3-49GeQc"
      },
      "id": "Dl-n3-49GeQc",
      "execution_count": null,
      "outputs": []
    },
    {
      "cell_type": "code",
      "source": [
        "#Make date format similar to air quality.\n",
        "weather.date = pd.to_datetime(weather['date'], format=\"%Y-%m-%d\")"
      ],
      "metadata": {
        "id": "QLGs7Ff2KYib"
      },
      "id": "QLGs7Ff2KYib",
      "execution_count": null,
      "outputs": []
    },
    {
      "cell_type": "code",
      "source": [
        "weather = weather.sort_values(by=['date'], ascending=False)"
      ],
      "metadata": {
        "id": "CfAgTsgiLFFE"
      },
      "id": "CfAgTsgiLFFE",
      "execution_count": null,
      "outputs": []
    },
    {
      "cell_type": "code",
      "source": [
        "# Date is index for dataframe\n",
        "weather = weather.set_index('date')"
      ],
      "metadata": {
        "id": "7-1q_f6oLJ7w"
      },
      "id": "7-1q_f6oLJ7w",
      "execution_count": null,
      "outputs": []
    },
    {
      "cell_type": "code",
      "source": [
        "weather.icon = weather.icon.astype('category')"
      ],
      "metadata": {
        "id": "stkXD2IEHT-J"
      },
      "id": "stkXD2IEHT-J",
      "execution_count": null,
      "outputs": []
    },
    {
      "cell_type": "code",
      "source": [
        "weather.head()"
      ],
      "metadata": {
        "colab": {
          "base_uri": "https://localhost:8080/",
          "height": 423
        },
        "id": "fLlBQpYJMnaI",
        "outputId": "2b825ff0-2ba3-44e9-e1d0-3ea893200abd"
      },
      "id": "fLlBQpYJMnaI",
      "execution_count": null,
      "outputs": [
        {
          "output_type": "execute_result",
          "data": {
            "text/plain": [
              "            tempmax  tempmin  temp  feelslikemax  feelslikemin  feelslike  \\\n",
              "date                                                                        \n",
              "2022-03-22      7.3     -1.5   2.0           6.5          -5.6       -0.6   \n",
              "2022-03-21      2.8     -0.1   1.0          -1.8          -4.3       -3.4   \n",
              "2022-03-20     16.3      0.4   6.0          16.3          -4.0        2.9   \n",
              "2022-03-19     21.9      8.2  16.2          21.9           6.9       16.1   \n",
              "2022-03-18     15.4      7.0   9.6          15.4           5.2        8.9   \n",
              "\n",
              "             dew  humidity  precip  precipcover  snow  snowdepth  windgust  \\\n",
              "date                                                                         \n",
              "2022-03-22  -5.2      60.7     0.0          NaN   0.0        0.1      27.0   \n",
              "2022-03-21  -4.1      68.9     0.5          NaN   0.0        0.2      35.0   \n",
              "2022-03-20   3.8      86.1    12.9          NaN   0.4        0.1      52.0   \n",
              "2022-03-19  10.8      71.5     0.0          NaN   0.0        0.0      58.7   \n",
              "2022-03-18   6.0      79.0     0.0          NaN   0.0        0.0      19.1   \n",
              "\n",
              "            windspeed  winddir  sealevelpressure  cloudcover  visibility  \\\n",
              "date                                                                       \n",
              "2022-03-22       11.9     60.3            1027.0        21.6        24.1   \n",
              "2022-03-21       20.2     51.7            1030.6        96.9        21.2   \n",
              "2022-03-20       25.2     92.7            1020.0       100.0        16.7   \n",
              "2022-03-19       19.8    215.6            1015.8       100.0        24.1   \n",
              "2022-03-18       14.4    125.2            1021.1        74.2        24.1   \n",
              "\n",
              "                         icon  \n",
              "date                           \n",
              "2022-03-22  partly-cloudy-day  \n",
              "2022-03-21             cloudy  \n",
              "2022-03-20               snow  \n",
              "2022-03-19               rain  \n",
              "2022-03-18  partly-cloudy-day  "
            ],
            "text/html": [
              "\n",
              "  <div id=\"df-4cf0aead-0a64-4167-aa43-aac46bc52aa5\">\n",
              "    <div class=\"colab-df-container\">\n",
              "      <div>\n",
              "<style scoped>\n",
              "    .dataframe tbody tr th:only-of-type {\n",
              "        vertical-align: middle;\n",
              "    }\n",
              "\n",
              "    .dataframe tbody tr th {\n",
              "        vertical-align: top;\n",
              "    }\n",
              "\n",
              "    .dataframe thead th {\n",
              "        text-align: right;\n",
              "    }\n",
              "</style>\n",
              "<table border=\"1\" class=\"dataframe\">\n",
              "  <thead>\n",
              "    <tr style=\"text-align: right;\">\n",
              "      <th></th>\n",
              "      <th>tempmax</th>\n",
              "      <th>tempmin</th>\n",
              "      <th>temp</th>\n",
              "      <th>feelslikemax</th>\n",
              "      <th>feelslikemin</th>\n",
              "      <th>feelslike</th>\n",
              "      <th>dew</th>\n",
              "      <th>humidity</th>\n",
              "      <th>precip</th>\n",
              "      <th>precipcover</th>\n",
              "      <th>snow</th>\n",
              "      <th>snowdepth</th>\n",
              "      <th>windgust</th>\n",
              "      <th>windspeed</th>\n",
              "      <th>winddir</th>\n",
              "      <th>sealevelpressure</th>\n",
              "      <th>cloudcover</th>\n",
              "      <th>visibility</th>\n",
              "      <th>icon</th>\n",
              "    </tr>\n",
              "    <tr>\n",
              "      <th>date</th>\n",
              "      <th></th>\n",
              "      <th></th>\n",
              "      <th></th>\n",
              "      <th></th>\n",
              "      <th></th>\n",
              "      <th></th>\n",
              "      <th></th>\n",
              "      <th></th>\n",
              "      <th></th>\n",
              "      <th></th>\n",
              "      <th></th>\n",
              "      <th></th>\n",
              "      <th></th>\n",
              "      <th></th>\n",
              "      <th></th>\n",
              "      <th></th>\n",
              "      <th></th>\n",
              "      <th></th>\n",
              "      <th></th>\n",
              "    </tr>\n",
              "  </thead>\n",
              "  <tbody>\n",
              "    <tr>\n",
              "      <th>2022-03-22</th>\n",
              "      <td>7.3</td>\n",
              "      <td>-1.5</td>\n",
              "      <td>2.0</td>\n",
              "      <td>6.5</td>\n",
              "      <td>-5.6</td>\n",
              "      <td>-0.6</td>\n",
              "      <td>-5.2</td>\n",
              "      <td>60.7</td>\n",
              "      <td>0.0</td>\n",
              "      <td>NaN</td>\n",
              "      <td>0.0</td>\n",
              "      <td>0.1</td>\n",
              "      <td>27.0</td>\n",
              "      <td>11.9</td>\n",
              "      <td>60.3</td>\n",
              "      <td>1027.0</td>\n",
              "      <td>21.6</td>\n",
              "      <td>24.1</td>\n",
              "      <td>partly-cloudy-day</td>\n",
              "    </tr>\n",
              "    <tr>\n",
              "      <th>2022-03-21</th>\n",
              "      <td>2.8</td>\n",
              "      <td>-0.1</td>\n",
              "      <td>1.0</td>\n",
              "      <td>-1.8</td>\n",
              "      <td>-4.3</td>\n",
              "      <td>-3.4</td>\n",
              "      <td>-4.1</td>\n",
              "      <td>68.9</td>\n",
              "      <td>0.5</td>\n",
              "      <td>NaN</td>\n",
              "      <td>0.0</td>\n",
              "      <td>0.2</td>\n",
              "      <td>35.0</td>\n",
              "      <td>20.2</td>\n",
              "      <td>51.7</td>\n",
              "      <td>1030.6</td>\n",
              "      <td>96.9</td>\n",
              "      <td>21.2</td>\n",
              "      <td>cloudy</td>\n",
              "    </tr>\n",
              "    <tr>\n",
              "      <th>2022-03-20</th>\n",
              "      <td>16.3</td>\n",
              "      <td>0.4</td>\n",
              "      <td>6.0</td>\n",
              "      <td>16.3</td>\n",
              "      <td>-4.0</td>\n",
              "      <td>2.9</td>\n",
              "      <td>3.8</td>\n",
              "      <td>86.1</td>\n",
              "      <td>12.9</td>\n",
              "      <td>NaN</td>\n",
              "      <td>0.4</td>\n",
              "      <td>0.1</td>\n",
              "      <td>52.0</td>\n",
              "      <td>25.2</td>\n",
              "      <td>92.7</td>\n",
              "      <td>1020.0</td>\n",
              "      <td>100.0</td>\n",
              "      <td>16.7</td>\n",
              "      <td>snow</td>\n",
              "    </tr>\n",
              "    <tr>\n",
              "      <th>2022-03-19</th>\n",
              "      <td>21.9</td>\n",
              "      <td>8.2</td>\n",
              "      <td>16.2</td>\n",
              "      <td>21.9</td>\n",
              "      <td>6.9</td>\n",
              "      <td>16.1</td>\n",
              "      <td>10.8</td>\n",
              "      <td>71.5</td>\n",
              "      <td>0.0</td>\n",
              "      <td>NaN</td>\n",
              "      <td>0.0</td>\n",
              "      <td>0.0</td>\n",
              "      <td>58.7</td>\n",
              "      <td>19.8</td>\n",
              "      <td>215.6</td>\n",
              "      <td>1015.8</td>\n",
              "      <td>100.0</td>\n",
              "      <td>24.1</td>\n",
              "      <td>rain</td>\n",
              "    </tr>\n",
              "    <tr>\n",
              "      <th>2022-03-18</th>\n",
              "      <td>15.4</td>\n",
              "      <td>7.0</td>\n",
              "      <td>9.6</td>\n",
              "      <td>15.4</td>\n",
              "      <td>5.2</td>\n",
              "      <td>8.9</td>\n",
              "      <td>6.0</td>\n",
              "      <td>79.0</td>\n",
              "      <td>0.0</td>\n",
              "      <td>NaN</td>\n",
              "      <td>0.0</td>\n",
              "      <td>0.0</td>\n",
              "      <td>19.1</td>\n",
              "      <td>14.4</td>\n",
              "      <td>125.2</td>\n",
              "      <td>1021.1</td>\n",
              "      <td>74.2</td>\n",
              "      <td>24.1</td>\n",
              "      <td>partly-cloudy-day</td>\n",
              "    </tr>\n",
              "  </tbody>\n",
              "</table>\n",
              "</div>\n",
              "      <button class=\"colab-df-convert\" onclick=\"convertToInteractive('df-4cf0aead-0a64-4167-aa43-aac46bc52aa5')\"\n",
              "              title=\"Convert this dataframe to an interactive table.\"\n",
              "              style=\"display:none;\">\n",
              "        \n",
              "  <svg xmlns=\"http://www.w3.org/2000/svg\" height=\"24px\"viewBox=\"0 0 24 24\"\n",
              "       width=\"24px\">\n",
              "    <path d=\"M0 0h24v24H0V0z\" fill=\"none\"/>\n",
              "    <path d=\"M18.56 5.44l.94 2.06.94-2.06 2.06-.94-2.06-.94-.94-2.06-.94 2.06-2.06.94zm-11 1L8.5 8.5l.94-2.06 2.06-.94-2.06-.94L8.5 2.5l-.94 2.06-2.06.94zm10 10l.94 2.06.94-2.06 2.06-.94-2.06-.94-.94-2.06-.94 2.06-2.06.94z\"/><path d=\"M17.41 7.96l-1.37-1.37c-.4-.4-.92-.59-1.43-.59-.52 0-1.04.2-1.43.59L10.3 9.45l-7.72 7.72c-.78.78-.78 2.05 0 2.83L4 21.41c.39.39.9.59 1.41.59.51 0 1.02-.2 1.41-.59l7.78-7.78 2.81-2.81c.8-.78.8-2.07 0-2.86zM5.41 20L4 18.59l7.72-7.72 1.47 1.35L5.41 20z\"/>\n",
              "  </svg>\n",
              "      </button>\n",
              "      \n",
              "  <style>\n",
              "    .colab-df-container {\n",
              "      display:flex;\n",
              "      flex-wrap:wrap;\n",
              "      gap: 12px;\n",
              "    }\n",
              "\n",
              "    .colab-df-convert {\n",
              "      background-color: #E8F0FE;\n",
              "      border: none;\n",
              "      border-radius: 50%;\n",
              "      cursor: pointer;\n",
              "      display: none;\n",
              "      fill: #1967D2;\n",
              "      height: 32px;\n",
              "      padding: 0 0 0 0;\n",
              "      width: 32px;\n",
              "    }\n",
              "\n",
              "    .colab-df-convert:hover {\n",
              "      background-color: #E2EBFA;\n",
              "      box-shadow: 0px 1px 2px rgba(60, 64, 67, 0.3), 0px 1px 3px 1px rgba(60, 64, 67, 0.15);\n",
              "      fill: #174EA6;\n",
              "    }\n",
              "\n",
              "    [theme=dark] .colab-df-convert {\n",
              "      background-color: #3B4455;\n",
              "      fill: #D2E3FC;\n",
              "    }\n",
              "\n",
              "    [theme=dark] .colab-df-convert:hover {\n",
              "      background-color: #434B5C;\n",
              "      box-shadow: 0px 1px 3px 1px rgba(0, 0, 0, 0.15);\n",
              "      filter: drop-shadow(0px 1px 2px rgba(0, 0, 0, 0.3));\n",
              "      fill: #FFFFFF;\n",
              "    }\n",
              "  </style>\n",
              "\n",
              "      <script>\n",
              "        const buttonEl =\n",
              "          document.querySelector('#df-4cf0aead-0a64-4167-aa43-aac46bc52aa5 button.colab-df-convert');\n",
              "        buttonEl.style.display =\n",
              "          google.colab.kernel.accessAllowed ? 'block' : 'none';\n",
              "\n",
              "        async function convertToInteractive(key) {\n",
              "          const element = document.querySelector('#df-4cf0aead-0a64-4167-aa43-aac46bc52aa5');\n",
              "          const dataTable =\n",
              "            await google.colab.kernel.invokeFunction('convertToInteractive',\n",
              "                                                     [key], {});\n",
              "          if (!dataTable) return;\n",
              "\n",
              "          const docLinkHtml = 'Like what you see? Visit the ' +\n",
              "            '<a target=\"_blank\" href=https://colab.research.google.com/notebooks/data_table.ipynb>data table notebook</a>'\n",
              "            + ' to learn more about interactive tables.';\n",
              "          element.innerHTML = '';\n",
              "          dataTable['output_type'] = 'display_data';\n",
              "          await google.colab.output.renderOutput(dataTable, element);\n",
              "          const docLink = document.createElement('div');\n",
              "          docLink.innerHTML = docLinkHtml;\n",
              "          element.appendChild(docLink);\n",
              "        }\n",
              "      </script>\n",
              "    </div>\n",
              "  </div>\n",
              "  "
            ]
          },
          "metadata": {},
          "execution_count": 35
        }
      ]
    },
    {
      "cell_type": "code",
      "source": [
        "#make a list of the days that should be deleted\n",
        "from datetime import date, datetime, timedelta\n",
        "\n",
        "def perdelta(start, end, delta):\n",
        "    curr = start\n",
        "    while curr < end:\n",
        "        yield curr\n",
        "        curr += delta\n",
        "delete_day = []\n",
        "for result in perdelta(date(2022, 3, 1), date(2022, 3, 23), timedelta(days=1)):\n",
        "  delete_day.append(result)"
      ],
      "metadata": {
        "id": "-JI3-TwcOOlK"
      },
      "id": "-JI3-TwcOOlK",
      "execution_count": null,
      "outputs": []
    },
    {
      "cell_type": "code",
      "source": [
        "#delete the rows\n",
        "weather = weather.drop(delete_day)"
      ],
      "metadata": {
        "id": "RTPEXyh8PNCx"
      },
      "id": "RTPEXyh8PNCx",
      "execution_count": null,
      "outputs": []
    },
    {
      "cell_type": "code",
      "source": [
        "#check date range is similar for two data sets\n",
        "print('Air quality index length:', len(air_quality_2))\n",
        "print('Weather index length:', len(weather))\n",
        "print('')\n",
        "#Check duplicates\n",
        "print('# of duplicates:', pd.Index(weather).duplicated().sum())\n",
        "# pd.Index(air_quality_2).duplicated().sum() ## DOESN'T WORK\n",
        "print('')\n",
        "#Check max and min\n",
        "print('Air quality max and min:' , air_quality_2.index.max(), air_quality_2.index.min())\n",
        "print('Weather max and min:' , weather.index.max(), weather.index.min())"
      ],
      "metadata": {
        "colab": {
          "base_uri": "https://localhost:8080/"
        },
        "id": "b1JwfjtePzbM",
        "outputId": "4dda81ff-d37e-4641-83d7-a5745483da62"
      },
      "id": "b1JwfjtePzbM",
      "execution_count": null,
      "outputs": [
        {
          "output_type": "stream",
          "name": "stdout",
          "text": [
            "Air quality index length: 2981\n",
            "Weather index length: 2981\n",
            "\n",
            "# of duplicates: 0\n",
            "\n",
            "Air quality max and min: 2022-02-28 00:00:00 2014-01-01 00:00:00\n",
            "Weather max and min: 2022-02-28 00:00:00 2014-01-01 00:00:00\n"
          ]
        }
      ]
    },
    {
      "cell_type": "code",
      "source": [
        "#Check NaNs\n",
        "weather.isna().sum()"
      ],
      "metadata": {
        "colab": {
          "base_uri": "https://localhost:8080/"
        },
        "id": "sg6rv6U4UmlN",
        "outputId": "d111c315-375e-4397-cf2c-bdfd9a04273a"
      },
      "id": "sg6rv6U4UmlN",
      "execution_count": null,
      "outputs": [
        {
          "output_type": "execute_result",
          "data": {
            "text/plain": [
              "tempmax               0\n",
              "tempmin               0\n",
              "temp                  0\n",
              "feelslikemax          0\n",
              "feelslikemin          0\n",
              "feelslike             0\n",
              "dew                   0\n",
              "humidity              0\n",
              "precip                0\n",
              "precipcover          50\n",
              "snow                730\n",
              "snowdepth           730\n",
              "windgust            402\n",
              "windspeed             0\n",
              "winddir               0\n",
              "sealevelpressure      0\n",
              "cloudcover            0\n",
              "visibility            0\n",
              "icon                  0\n",
              "dtype: int64"
            ]
          },
          "metadata": {},
          "execution_count": 39
        }
      ]
    },
    {
      "cell_type": "code",
      "source": [
        "#Fill NaNs\n",
        "#QUESTION> Can use same method for this df?\n",
        "#weather = weather.interpolate(method='linear', inplace=True) # or polynomial method???"
      ],
      "metadata": {
        "id": "CEiKmp79U0l8"
      },
      "id": "CEiKmp79U0l8",
      "execution_count": null,
      "outputs": []
    },
    {
      "cell_type": "markdown",
      "id": "b4064e43",
      "metadata": {
        "id": "b4064e43"
      },
      "source": [
        "# 2.3 Energy Consumption"
      ]
    },
    {
      "cell_type": "markdown",
      "source": [
        "There are two monthly and state level consumption data. \n",
        "1. The Natural Gas Delivered to Consumers in Massachusetts (Including Vehicle Fuel) (Million Cubic Feet)\n",
        "2. Massachusetts Total Gasoline All Sales per Deliveries by Prime_Supplier"
      ],
      "metadata": {
        "id": "V1QKb5UbX-YX"
      },
      "id": "V1QKb5UbX-YX"
    },
    {
      "cell_type": "code",
      "execution_count": null,
      "id": "8a67244f",
      "metadata": {
        "id": "8a67244f"
      },
      "outputs": [],
      "source": [
        "# Upload datasets. \n",
        "url_3= 'https://github.com/hangulde/Springboard/raw/main/Capstone%202/Natural_Gas_Delivered_to_Consumers_in_Massachusetts_(Including_Vehicle_Fuel).csv'\n",
        "nat_gas_cons=pd.read_csv(url_3)\n",
        "url_4 = 'https://github.com/hangulde/Springboard/raw/main/Capstone%202/Massachusetts_Total_Gasoline_All_Sales_per_Deliveries_by_Prime_Supplier.csv'\n",
        "gas_sales=pd.read_csv(url_4)"
      ]
    },
    {
      "cell_type": "code",
      "source": [
        "nat_gas_cons.info()\n",
        "# Change the type of date column"
      ],
      "metadata": {
        "colab": {
          "base_uri": "https://localhost:8080/"
        },
        "id": "8qdTD7VhXIU_",
        "outputId": "901c1542-abc9-4be7-9cca-d1dd217372d4"
      },
      "id": "8qdTD7VhXIU_",
      "execution_count": null,
      "outputs": [
        {
          "output_type": "stream",
          "name": "stdout",
          "text": [
            "<class 'pandas.core.frame.DataFrame'>\n",
            "RangeIndex: 252 entries, 0 to 251\n",
            "Data columns (total 2 columns):\n",
            " #   Column  Non-Null Count  Dtype \n",
            "---  ------  --------------  ----- \n",
            " 0   Date    252 non-null    object\n",
            " 1    Total  252 non-null    int64 \n",
            "dtypes: int64(1), object(1)\n",
            "memory usage: 4.1+ KB\n"
          ]
        }
      ]
    },
    {
      "cell_type": "code",
      "execution_count": null,
      "id": "2d0d1758",
      "metadata": {
        "id": "2d0d1758",
        "outputId": "e4cbd167-e9c9-46d9-86cc-95789882d922",
        "colab": {
          "base_uri": "https://localhost:8080/"
        }
      },
      "outputs": [
        {
          "output_type": "stream",
          "name": "stdout",
          "text": [
            "<class 'pandas.core.frame.DataFrame'>\n",
            "RangeIndex: 468 entries, 0 to 467\n",
            "Data columns (total 2 columns):\n",
            " #   Column  Non-Null Count  Dtype  \n",
            "---  ------  --------------  -----  \n",
            " 0   Date    468 non-null    object \n",
            " 1    Total  468 non-null    float64\n",
            "dtypes: float64(1), object(1)\n",
            "memory usage: 7.4+ KB\n"
          ]
        }
      ],
      "source": [
        "gas_sales.info()\n",
        "#There are more rows in gas_sales.Delete rows."
      ]
    },
    {
      "cell_type": "code",
      "source": [
        "#choose the date after January 2014\n",
        "gas_sales = gas_sales[:96]\n",
        "gas_sales.tail()"
      ],
      "metadata": {
        "colab": {
          "base_uri": "https://localhost:8080/",
          "height": 206
        },
        "id": "flMLwzSyY-Ml",
        "outputId": "44d1e05e-a7c1-4e04-f1eb-999cb36a6a2f"
      },
      "id": "flMLwzSyY-Ml",
      "execution_count": null,
      "outputs": [
        {
          "output_type": "execute_result",
          "data": {
            "text/plain": [
              "        Date   Total\n",
              "91  May 2014  6306.7\n",
              "92  Apr 2014  6054.7\n",
              "93  Mar 2014  5842.3\n",
              "94  Feb 2014  5837.5\n",
              "95  Jan 2014  5561.6"
            ],
            "text/html": [
              "\n",
              "  <div id=\"df-077a483d-aa1a-48ba-940d-af1ca4b2bab1\">\n",
              "    <div class=\"colab-df-container\">\n",
              "      <div>\n",
              "<style scoped>\n",
              "    .dataframe tbody tr th:only-of-type {\n",
              "        vertical-align: middle;\n",
              "    }\n",
              "\n",
              "    .dataframe tbody tr th {\n",
              "        vertical-align: top;\n",
              "    }\n",
              "\n",
              "    .dataframe thead th {\n",
              "        text-align: right;\n",
              "    }\n",
              "</style>\n",
              "<table border=\"1\" class=\"dataframe\">\n",
              "  <thead>\n",
              "    <tr style=\"text-align: right;\">\n",
              "      <th></th>\n",
              "      <th>Date</th>\n",
              "      <th>Total</th>\n",
              "    </tr>\n",
              "  </thead>\n",
              "  <tbody>\n",
              "    <tr>\n",
              "      <th>91</th>\n",
              "      <td>May 2014</td>\n",
              "      <td>6306.7</td>\n",
              "    </tr>\n",
              "    <tr>\n",
              "      <th>92</th>\n",
              "      <td>Apr 2014</td>\n",
              "      <td>6054.7</td>\n",
              "    </tr>\n",
              "    <tr>\n",
              "      <th>93</th>\n",
              "      <td>Mar 2014</td>\n",
              "      <td>5842.3</td>\n",
              "    </tr>\n",
              "    <tr>\n",
              "      <th>94</th>\n",
              "      <td>Feb 2014</td>\n",
              "      <td>5837.5</td>\n",
              "    </tr>\n",
              "    <tr>\n",
              "      <th>95</th>\n",
              "      <td>Jan 2014</td>\n",
              "      <td>5561.6</td>\n",
              "    </tr>\n",
              "  </tbody>\n",
              "</table>\n",
              "</div>\n",
              "      <button class=\"colab-df-convert\" onclick=\"convertToInteractive('df-077a483d-aa1a-48ba-940d-af1ca4b2bab1')\"\n",
              "              title=\"Convert this dataframe to an interactive table.\"\n",
              "              style=\"display:none;\">\n",
              "        \n",
              "  <svg xmlns=\"http://www.w3.org/2000/svg\" height=\"24px\"viewBox=\"0 0 24 24\"\n",
              "       width=\"24px\">\n",
              "    <path d=\"M0 0h24v24H0V0z\" fill=\"none\"/>\n",
              "    <path d=\"M18.56 5.44l.94 2.06.94-2.06 2.06-.94-2.06-.94-.94-2.06-.94 2.06-2.06.94zm-11 1L8.5 8.5l.94-2.06 2.06-.94-2.06-.94L8.5 2.5l-.94 2.06-2.06.94zm10 10l.94 2.06.94-2.06 2.06-.94-2.06-.94-.94-2.06-.94 2.06-2.06.94z\"/><path d=\"M17.41 7.96l-1.37-1.37c-.4-.4-.92-.59-1.43-.59-.52 0-1.04.2-1.43.59L10.3 9.45l-7.72 7.72c-.78.78-.78 2.05 0 2.83L4 21.41c.39.39.9.59 1.41.59.51 0 1.02-.2 1.41-.59l7.78-7.78 2.81-2.81c.8-.78.8-2.07 0-2.86zM5.41 20L4 18.59l7.72-7.72 1.47 1.35L5.41 20z\"/>\n",
              "  </svg>\n",
              "      </button>\n",
              "      \n",
              "  <style>\n",
              "    .colab-df-container {\n",
              "      display:flex;\n",
              "      flex-wrap:wrap;\n",
              "      gap: 12px;\n",
              "    }\n",
              "\n",
              "    .colab-df-convert {\n",
              "      background-color: #E8F0FE;\n",
              "      border: none;\n",
              "      border-radius: 50%;\n",
              "      cursor: pointer;\n",
              "      display: none;\n",
              "      fill: #1967D2;\n",
              "      height: 32px;\n",
              "      padding: 0 0 0 0;\n",
              "      width: 32px;\n",
              "    }\n",
              "\n",
              "    .colab-df-convert:hover {\n",
              "      background-color: #E2EBFA;\n",
              "      box-shadow: 0px 1px 2px rgba(60, 64, 67, 0.3), 0px 1px 3px 1px rgba(60, 64, 67, 0.15);\n",
              "      fill: #174EA6;\n",
              "    }\n",
              "\n",
              "    [theme=dark] .colab-df-convert {\n",
              "      background-color: #3B4455;\n",
              "      fill: #D2E3FC;\n",
              "    }\n",
              "\n",
              "    [theme=dark] .colab-df-convert:hover {\n",
              "      background-color: #434B5C;\n",
              "      box-shadow: 0px 1px 3px 1px rgba(0, 0, 0, 0.15);\n",
              "      filter: drop-shadow(0px 1px 2px rgba(0, 0, 0, 0.3));\n",
              "      fill: #FFFFFF;\n",
              "    }\n",
              "  </style>\n",
              "\n",
              "      <script>\n",
              "        const buttonEl =\n",
              "          document.querySelector('#df-077a483d-aa1a-48ba-940d-af1ca4b2bab1 button.colab-df-convert');\n",
              "        buttonEl.style.display =\n",
              "          google.colab.kernel.accessAllowed ? 'block' : 'none';\n",
              "\n",
              "        async function convertToInteractive(key) {\n",
              "          const element = document.querySelector('#df-077a483d-aa1a-48ba-940d-af1ca4b2bab1');\n",
              "          const dataTable =\n",
              "            await google.colab.kernel.invokeFunction('convertToInteractive',\n",
              "                                                     [key], {});\n",
              "          if (!dataTable) return;\n",
              "\n",
              "          const docLinkHtml = 'Like what you see? Visit the ' +\n",
              "            '<a target=\"_blank\" href=https://colab.research.google.com/notebooks/data_table.ipynb>data table notebook</a>'\n",
              "            + ' to learn more about interactive tables.';\n",
              "          element.innerHTML = '';\n",
              "          dataTable['output_type'] = 'display_data';\n",
              "          await google.colab.output.renderOutput(dataTable, element);\n",
              "          const docLink = document.createElement('div');\n",
              "          docLink.innerHTML = docLinkHtml;\n",
              "          element.appendChild(docLink);\n",
              "        }\n",
              "      </script>\n",
              "    </div>\n",
              "  </div>\n",
              "  "
            ]
          },
          "metadata": {},
          "execution_count": 44
        }
      ]
    },
    {
      "cell_type": "code",
      "source": [
        "# choose the date after January 2014\n",
        "nat_gas_cons = nat_gas_cons[:96]\n",
        "nat_gas_cons.tail()"
      ],
      "metadata": {
        "colab": {
          "base_uri": "https://localhost:8080/",
          "height": 206
        },
        "id": "HhP5Z40PY7Rj",
        "outputId": "636ddb38-787a-4a26-f8d0-50019d54a6f5"
      },
      "id": "HhP5Z40PY7Rj",
      "execution_count": null,
      "outputs": [
        {
          "output_type": "execute_result",
          "data": {
            "text/plain": [
              "        Date   Total\n",
              "91  May 2014   27292\n",
              "92  Apr 2014   38084\n",
              "93  Mar 2014   44694\n",
              "94  Feb 2014   47769\n",
              "95  Jan 2014   53771"
            ],
            "text/html": [
              "\n",
              "  <div id=\"df-7eec7aba-5dc3-411a-9f48-f8dd0a20728c\">\n",
              "    <div class=\"colab-df-container\">\n",
              "      <div>\n",
              "<style scoped>\n",
              "    .dataframe tbody tr th:only-of-type {\n",
              "        vertical-align: middle;\n",
              "    }\n",
              "\n",
              "    .dataframe tbody tr th {\n",
              "        vertical-align: top;\n",
              "    }\n",
              "\n",
              "    .dataframe thead th {\n",
              "        text-align: right;\n",
              "    }\n",
              "</style>\n",
              "<table border=\"1\" class=\"dataframe\">\n",
              "  <thead>\n",
              "    <tr style=\"text-align: right;\">\n",
              "      <th></th>\n",
              "      <th>Date</th>\n",
              "      <th>Total</th>\n",
              "    </tr>\n",
              "  </thead>\n",
              "  <tbody>\n",
              "    <tr>\n",
              "      <th>91</th>\n",
              "      <td>May 2014</td>\n",
              "      <td>27292</td>\n",
              "    </tr>\n",
              "    <tr>\n",
              "      <th>92</th>\n",
              "      <td>Apr 2014</td>\n",
              "      <td>38084</td>\n",
              "    </tr>\n",
              "    <tr>\n",
              "      <th>93</th>\n",
              "      <td>Mar 2014</td>\n",
              "      <td>44694</td>\n",
              "    </tr>\n",
              "    <tr>\n",
              "      <th>94</th>\n",
              "      <td>Feb 2014</td>\n",
              "      <td>47769</td>\n",
              "    </tr>\n",
              "    <tr>\n",
              "      <th>95</th>\n",
              "      <td>Jan 2014</td>\n",
              "      <td>53771</td>\n",
              "    </tr>\n",
              "  </tbody>\n",
              "</table>\n",
              "</div>\n",
              "      <button class=\"colab-df-convert\" onclick=\"convertToInteractive('df-7eec7aba-5dc3-411a-9f48-f8dd0a20728c')\"\n",
              "              title=\"Convert this dataframe to an interactive table.\"\n",
              "              style=\"display:none;\">\n",
              "        \n",
              "  <svg xmlns=\"http://www.w3.org/2000/svg\" height=\"24px\"viewBox=\"0 0 24 24\"\n",
              "       width=\"24px\">\n",
              "    <path d=\"M0 0h24v24H0V0z\" fill=\"none\"/>\n",
              "    <path d=\"M18.56 5.44l.94 2.06.94-2.06 2.06-.94-2.06-.94-.94-2.06-.94 2.06-2.06.94zm-11 1L8.5 8.5l.94-2.06 2.06-.94-2.06-.94L8.5 2.5l-.94 2.06-2.06.94zm10 10l.94 2.06.94-2.06 2.06-.94-2.06-.94-.94-2.06-.94 2.06-2.06.94z\"/><path d=\"M17.41 7.96l-1.37-1.37c-.4-.4-.92-.59-1.43-.59-.52 0-1.04.2-1.43.59L10.3 9.45l-7.72 7.72c-.78.78-.78 2.05 0 2.83L4 21.41c.39.39.9.59 1.41.59.51 0 1.02-.2 1.41-.59l7.78-7.78 2.81-2.81c.8-.78.8-2.07 0-2.86zM5.41 20L4 18.59l7.72-7.72 1.47 1.35L5.41 20z\"/>\n",
              "  </svg>\n",
              "      </button>\n",
              "      \n",
              "  <style>\n",
              "    .colab-df-container {\n",
              "      display:flex;\n",
              "      flex-wrap:wrap;\n",
              "      gap: 12px;\n",
              "    }\n",
              "\n",
              "    .colab-df-convert {\n",
              "      background-color: #E8F0FE;\n",
              "      border: none;\n",
              "      border-radius: 50%;\n",
              "      cursor: pointer;\n",
              "      display: none;\n",
              "      fill: #1967D2;\n",
              "      height: 32px;\n",
              "      padding: 0 0 0 0;\n",
              "      width: 32px;\n",
              "    }\n",
              "\n",
              "    .colab-df-convert:hover {\n",
              "      background-color: #E2EBFA;\n",
              "      box-shadow: 0px 1px 2px rgba(60, 64, 67, 0.3), 0px 1px 3px 1px rgba(60, 64, 67, 0.15);\n",
              "      fill: #174EA6;\n",
              "    }\n",
              "\n",
              "    [theme=dark] .colab-df-convert {\n",
              "      background-color: #3B4455;\n",
              "      fill: #D2E3FC;\n",
              "    }\n",
              "\n",
              "    [theme=dark] .colab-df-convert:hover {\n",
              "      background-color: #434B5C;\n",
              "      box-shadow: 0px 1px 3px 1px rgba(0, 0, 0, 0.15);\n",
              "      filter: drop-shadow(0px 1px 2px rgba(0, 0, 0, 0.3));\n",
              "      fill: #FFFFFF;\n",
              "    }\n",
              "  </style>\n",
              "\n",
              "      <script>\n",
              "        const buttonEl =\n",
              "          document.querySelector('#df-7eec7aba-5dc3-411a-9f48-f8dd0a20728c button.colab-df-convert');\n",
              "        buttonEl.style.display =\n",
              "          google.colab.kernel.accessAllowed ? 'block' : 'none';\n",
              "\n",
              "        async function convertToInteractive(key) {\n",
              "          const element = document.querySelector('#df-7eec7aba-5dc3-411a-9f48-f8dd0a20728c');\n",
              "          const dataTable =\n",
              "            await google.colab.kernel.invokeFunction('convertToInteractive',\n",
              "                                                     [key], {});\n",
              "          if (!dataTable) return;\n",
              "\n",
              "          const docLinkHtml = 'Like what you see? Visit the ' +\n",
              "            '<a target=\"_blank\" href=https://colab.research.google.com/notebooks/data_table.ipynb>data table notebook</a>'\n",
              "            + ' to learn more about interactive tables.';\n",
              "          element.innerHTML = '';\n",
              "          dataTable['output_type'] = 'display_data';\n",
              "          await google.colab.output.renderOutput(dataTable, element);\n",
              "          const docLink = document.createElement('div');\n",
              "          docLink.innerHTML = docLinkHtml;\n",
              "          element.appendChild(docLink);\n",
              "        }\n",
              "      </script>\n",
              "    </div>\n",
              "  </div>\n",
              "  "
            ]
          },
          "metadata": {},
          "execution_count": 45
        }
      ]
    },
    {
      "cell_type": "code",
      "source": [
        "#Rename total columns for both\n",
        "nat_gas_cons = nat_gas_cons.rename(columns = {' Total':'natural_gas', 'Date':'date' })\n",
        "gas_sales = gas_sales.rename(columns = {' Total':'gasoline_sales', 'Date':'date' })"
      ],
      "metadata": {
        "id": "mjngx31SbJAS"
      },
      "id": "mjngx31SbJAS",
      "execution_count": null,
      "outputs": []
    },
    {
      "cell_type": "code",
      "source": [
        "#merge two datasets\n",
        "energy = nat_gas_cons.merge(gas_sales, on='date', how='inner')\n",
        "energy.head()"
      ],
      "metadata": {
        "colab": {
          "base_uri": "https://localhost:8080/",
          "height": 206
        },
        "id": "TyyzWnwPZ9mp",
        "outputId": "ef1873d6-a383-4d27-a678-4d90a0598939"
      },
      "id": "TyyzWnwPZ9mp",
      "execution_count": null,
      "outputs": [
        {
          "output_type": "execute_result",
          "data": {
            "text/plain": [
              "       date  natural_gas  gasoline_sales\n",
              "0  Dec 2021        43172          5828.2\n",
              "1  Nov 2021        31786          5942.2\n",
              "2  Oct 2021        21723          6085.1\n",
              "3  Sep 2021        17929          6033.1\n",
              "4  Aug 2021        22065          6086.5"
            ],
            "text/html": [
              "\n",
              "  <div id=\"df-a0d69c32-c40b-4fcc-afe2-f2d65680fe97\">\n",
              "    <div class=\"colab-df-container\">\n",
              "      <div>\n",
              "<style scoped>\n",
              "    .dataframe tbody tr th:only-of-type {\n",
              "        vertical-align: middle;\n",
              "    }\n",
              "\n",
              "    .dataframe tbody tr th {\n",
              "        vertical-align: top;\n",
              "    }\n",
              "\n",
              "    .dataframe thead th {\n",
              "        text-align: right;\n",
              "    }\n",
              "</style>\n",
              "<table border=\"1\" class=\"dataframe\">\n",
              "  <thead>\n",
              "    <tr style=\"text-align: right;\">\n",
              "      <th></th>\n",
              "      <th>date</th>\n",
              "      <th>natural_gas</th>\n",
              "      <th>gasoline_sales</th>\n",
              "    </tr>\n",
              "  </thead>\n",
              "  <tbody>\n",
              "    <tr>\n",
              "      <th>0</th>\n",
              "      <td>Dec 2021</td>\n",
              "      <td>43172</td>\n",
              "      <td>5828.2</td>\n",
              "    </tr>\n",
              "    <tr>\n",
              "      <th>1</th>\n",
              "      <td>Nov 2021</td>\n",
              "      <td>31786</td>\n",
              "      <td>5942.2</td>\n",
              "    </tr>\n",
              "    <tr>\n",
              "      <th>2</th>\n",
              "      <td>Oct 2021</td>\n",
              "      <td>21723</td>\n",
              "      <td>6085.1</td>\n",
              "    </tr>\n",
              "    <tr>\n",
              "      <th>3</th>\n",
              "      <td>Sep 2021</td>\n",
              "      <td>17929</td>\n",
              "      <td>6033.1</td>\n",
              "    </tr>\n",
              "    <tr>\n",
              "      <th>4</th>\n",
              "      <td>Aug 2021</td>\n",
              "      <td>22065</td>\n",
              "      <td>6086.5</td>\n",
              "    </tr>\n",
              "  </tbody>\n",
              "</table>\n",
              "</div>\n",
              "      <button class=\"colab-df-convert\" onclick=\"convertToInteractive('df-a0d69c32-c40b-4fcc-afe2-f2d65680fe97')\"\n",
              "              title=\"Convert this dataframe to an interactive table.\"\n",
              "              style=\"display:none;\">\n",
              "        \n",
              "  <svg xmlns=\"http://www.w3.org/2000/svg\" height=\"24px\"viewBox=\"0 0 24 24\"\n",
              "       width=\"24px\">\n",
              "    <path d=\"M0 0h24v24H0V0z\" fill=\"none\"/>\n",
              "    <path d=\"M18.56 5.44l.94 2.06.94-2.06 2.06-.94-2.06-.94-.94-2.06-.94 2.06-2.06.94zm-11 1L8.5 8.5l.94-2.06 2.06-.94-2.06-.94L8.5 2.5l-.94 2.06-2.06.94zm10 10l.94 2.06.94-2.06 2.06-.94-2.06-.94-.94-2.06-.94 2.06-2.06.94z\"/><path d=\"M17.41 7.96l-1.37-1.37c-.4-.4-.92-.59-1.43-.59-.52 0-1.04.2-1.43.59L10.3 9.45l-7.72 7.72c-.78.78-.78 2.05 0 2.83L4 21.41c.39.39.9.59 1.41.59.51 0 1.02-.2 1.41-.59l7.78-7.78 2.81-2.81c.8-.78.8-2.07 0-2.86zM5.41 20L4 18.59l7.72-7.72 1.47 1.35L5.41 20z\"/>\n",
              "  </svg>\n",
              "      </button>\n",
              "      \n",
              "  <style>\n",
              "    .colab-df-container {\n",
              "      display:flex;\n",
              "      flex-wrap:wrap;\n",
              "      gap: 12px;\n",
              "    }\n",
              "\n",
              "    .colab-df-convert {\n",
              "      background-color: #E8F0FE;\n",
              "      border: none;\n",
              "      border-radius: 50%;\n",
              "      cursor: pointer;\n",
              "      display: none;\n",
              "      fill: #1967D2;\n",
              "      height: 32px;\n",
              "      padding: 0 0 0 0;\n",
              "      width: 32px;\n",
              "    }\n",
              "\n",
              "    .colab-df-convert:hover {\n",
              "      background-color: #E2EBFA;\n",
              "      box-shadow: 0px 1px 2px rgba(60, 64, 67, 0.3), 0px 1px 3px 1px rgba(60, 64, 67, 0.15);\n",
              "      fill: #174EA6;\n",
              "    }\n",
              "\n",
              "    [theme=dark] .colab-df-convert {\n",
              "      background-color: #3B4455;\n",
              "      fill: #D2E3FC;\n",
              "    }\n",
              "\n",
              "    [theme=dark] .colab-df-convert:hover {\n",
              "      background-color: #434B5C;\n",
              "      box-shadow: 0px 1px 3px 1px rgba(0, 0, 0, 0.15);\n",
              "      filter: drop-shadow(0px 1px 2px rgba(0, 0, 0, 0.3));\n",
              "      fill: #FFFFFF;\n",
              "    }\n",
              "  </style>\n",
              "\n",
              "      <script>\n",
              "        const buttonEl =\n",
              "          document.querySelector('#df-a0d69c32-c40b-4fcc-afe2-f2d65680fe97 button.colab-df-convert');\n",
              "        buttonEl.style.display =\n",
              "          google.colab.kernel.accessAllowed ? 'block' : 'none';\n",
              "\n",
              "        async function convertToInteractive(key) {\n",
              "          const element = document.querySelector('#df-a0d69c32-c40b-4fcc-afe2-f2d65680fe97');\n",
              "          const dataTable =\n",
              "            await google.colab.kernel.invokeFunction('convertToInteractive',\n",
              "                                                     [key], {});\n",
              "          if (!dataTable) return;\n",
              "\n",
              "          const docLinkHtml = 'Like what you see? Visit the ' +\n",
              "            '<a target=\"_blank\" href=https://colab.research.google.com/notebooks/data_table.ipynb>data table notebook</a>'\n",
              "            + ' to learn more about interactive tables.';\n",
              "          element.innerHTML = '';\n",
              "          dataTable['output_type'] = 'display_data';\n",
              "          await google.colab.output.renderOutput(dataTable, element);\n",
              "          const docLink = document.createElement('div');\n",
              "          docLink.innerHTML = docLinkHtml;\n",
              "          element.appendChild(docLink);\n",
              "        }\n",
              "      </script>\n",
              "    </div>\n",
              "  </div>\n",
              "  "
            ]
          },
          "metadata": {},
          "execution_count": 47
        }
      ]
    },
    {
      "cell_type": "code",
      "source": [
        "#Split date column\n",
        "new = energy[\"date\"].str.split(\" \", n = 1, expand = True)\n",
        "  \n",
        "# making separate first name column from new data frame\n",
        "energy[\"month\"]= new[0]\n",
        "  \n",
        "# making separate last name column from new data frame\n",
        "energy[\"year\"]= new[1]\n",
        "  "
      ],
      "metadata": {
        "id": "hv5qDfdyeUzM"
      },
      "id": "hv5qDfdyeUzM",
      "execution_count": null,
      "outputs": []
    },
    {
      "cell_type": "code",
      "source": [
        "#drop old date columsn\n",
        "energy.drop(columns =[\"date\"], inplace = True)"
      ],
      "metadata": {
        "id": "I9zm41Cbgsgd"
      },
      "id": "I9zm41Cbgsgd",
      "execution_count": null,
      "outputs": []
    },
    {
      "cell_type": "code",
      "source": [
        "#change month column as number\n",
        "d = {'Jan':1, 'Feb':2, 'Mar':3, 'Apr':4, 'May': 5, 'Jun':6, 'Jul':7, 'Aug':8, 'Sep':9, 'Oct':10, 'Nov':11, 'Dec':12 }\n",
        "\n",
        "energy.month = energy.month.map(d)"
      ],
      "metadata": {
        "id": "1gqm2fatgy7k"
      },
      "id": "1gqm2fatgy7k",
      "execution_count": null,
      "outputs": []
    },
    {
      "cell_type": "code",
      "source": [
        "energy.month = energy.month.astype(str)\n",
        "# To add year (str) convert string"
      ],
      "metadata": {
        "id": "hXMyQRwkkvst"
      },
      "id": "hXMyQRwkkvst",
      "execution_count": null,
      "outputs": []
    },
    {
      "cell_type": "code",
      "source": [
        "#create date column\n",
        "energy['date'] = energy['year'] +' ' + energy['month']"
      ],
      "metadata": {
        "id": "7QRF4gpbjADn"
      },
      "id": "7QRF4gpbjADn",
      "execution_count": null,
      "outputs": []
    },
    {
      "cell_type": "code",
      "source": [
        "energy.date = pd.to_datetime(energy.date, format=\"%Y-%m\")\n",
        "#convert date column to datetime"
      ],
      "metadata": {
        "id": "jW4hnLYelaVZ"
      },
      "id": "jW4hnLYelaVZ",
      "execution_count": null,
      "outputs": []
    },
    {
      "cell_type": "code",
      "source": [
        "energy = energy.drop(['month', 'year'], axis=1)"
      ],
      "metadata": {
        "id": "g-Dt3gtBmIAU"
      },
      "id": "g-Dt3gtBmIAU",
      "execution_count": null,
      "outputs": []
    },
    {
      "cell_type": "code",
      "source": [
        "energy.info()\n",
        "#No NaNs"
      ],
      "metadata": {
        "colab": {
          "base_uri": "https://localhost:8080/"
        },
        "id": "7yWyD0DZl69K",
        "outputId": "5a2271b3-ae1a-4b9d-d82f-eafcc9081988"
      },
      "id": "7yWyD0DZl69K",
      "execution_count": null,
      "outputs": [
        {
          "output_type": "stream",
          "name": "stdout",
          "text": [
            "<class 'pandas.core.frame.DataFrame'>\n",
            "Int64Index: 96 entries, 0 to 95\n",
            "Data columns (total 3 columns):\n",
            " #   Column          Non-Null Count  Dtype         \n",
            "---  ------          --------------  -----         \n",
            " 0   natural_gas     96 non-null     int64         \n",
            " 1   gasoline_sales  96 non-null     float64       \n",
            " 2   date            96 non-null     datetime64[ns]\n",
            "dtypes: datetime64[ns](1), float64(1), int64(1)\n",
            "memory usage: 3.0 KB\n"
          ]
        }
      ]
    },
    {
      "cell_type": "markdown",
      "source": [
        "# 2.4 Flight number of Boston"
      ],
      "metadata": {
        "id": "pEYMszh6vXqJ"
      },
      "id": "pEYMszh6vXqJ"
    },
    {
      "cell_type": "markdown",
      "source": [
        "This dataset contains of Logan Airport's (Boston) number of  total airport flight operations. Monthly. The data is gathered from [here](https://www.massport.com/logan-airport/about-logan/airport-statistics/). "
      ],
      "metadata": {
        "id": "GO2JnwStw3H0"
      },
      "id": "GO2JnwStw3H0"
    },
    {
      "cell_type": "code",
      "source": [
        "url_f ='https://github.com/hangulde/Springboard/raw/main/Capstone%202/Boston%20Flights%20-%20Sheet1.csv'\n",
        "flight = pd.read_csv(url_f)"
      ],
      "metadata": {
        "id": "tSe8kL7nvcCZ"
      },
      "id": "tSe8kL7nvcCZ",
      "execution_count": null,
      "outputs": []
    },
    {
      "cell_type": "code",
      "source": [
        "flight.head()"
      ],
      "metadata": {
        "colab": {
          "base_uri": "https://localhost:8080/",
          "height": 206
        },
        "id": "Mx83F_USvlmG",
        "outputId": "7c289424-2567-4c0a-c95d-c5c311713464"
      },
      "id": "Mx83F_USvlmG",
      "execution_count": null,
      "outputs": [
        {
          "output_type": "execute_result",
          "data": {
            "text/plain": [
              "         date  Unnamed: 1\n",
              "0  02-01-2022         NaN\n",
              "1  01-01-2022     24095.0\n",
              "2  12-01-2021     27285.0\n",
              "3  11-01-2021     28315.0\n",
              "4  10-01-2021     28780.0"
            ],
            "text/html": [
              "\n",
              "  <div id=\"df-7f4569b8-4be3-4f51-ae4d-1bff2b623594\">\n",
              "    <div class=\"colab-df-container\">\n",
              "      <div>\n",
              "<style scoped>\n",
              "    .dataframe tbody tr th:only-of-type {\n",
              "        vertical-align: middle;\n",
              "    }\n",
              "\n",
              "    .dataframe tbody tr th {\n",
              "        vertical-align: top;\n",
              "    }\n",
              "\n",
              "    .dataframe thead th {\n",
              "        text-align: right;\n",
              "    }\n",
              "</style>\n",
              "<table border=\"1\" class=\"dataframe\">\n",
              "  <thead>\n",
              "    <tr style=\"text-align: right;\">\n",
              "      <th></th>\n",
              "      <th>date</th>\n",
              "      <th>Unnamed: 1</th>\n",
              "    </tr>\n",
              "  </thead>\n",
              "  <tbody>\n",
              "    <tr>\n",
              "      <th>0</th>\n",
              "      <td>02-01-2022</td>\n",
              "      <td>NaN</td>\n",
              "    </tr>\n",
              "    <tr>\n",
              "      <th>1</th>\n",
              "      <td>01-01-2022</td>\n",
              "      <td>24095.0</td>\n",
              "    </tr>\n",
              "    <tr>\n",
              "      <th>2</th>\n",
              "      <td>12-01-2021</td>\n",
              "      <td>27285.0</td>\n",
              "    </tr>\n",
              "    <tr>\n",
              "      <th>3</th>\n",
              "      <td>11-01-2021</td>\n",
              "      <td>28315.0</td>\n",
              "    </tr>\n",
              "    <tr>\n",
              "      <th>4</th>\n",
              "      <td>10-01-2021</td>\n",
              "      <td>28780.0</td>\n",
              "    </tr>\n",
              "  </tbody>\n",
              "</table>\n",
              "</div>\n",
              "      <button class=\"colab-df-convert\" onclick=\"convertToInteractive('df-7f4569b8-4be3-4f51-ae4d-1bff2b623594')\"\n",
              "              title=\"Convert this dataframe to an interactive table.\"\n",
              "              style=\"display:none;\">\n",
              "        \n",
              "  <svg xmlns=\"http://www.w3.org/2000/svg\" height=\"24px\"viewBox=\"0 0 24 24\"\n",
              "       width=\"24px\">\n",
              "    <path d=\"M0 0h24v24H0V0z\" fill=\"none\"/>\n",
              "    <path d=\"M18.56 5.44l.94 2.06.94-2.06 2.06-.94-2.06-.94-.94-2.06-.94 2.06-2.06.94zm-11 1L8.5 8.5l.94-2.06 2.06-.94-2.06-.94L8.5 2.5l-.94 2.06-2.06.94zm10 10l.94 2.06.94-2.06 2.06-.94-2.06-.94-.94-2.06-.94 2.06-2.06.94z\"/><path d=\"M17.41 7.96l-1.37-1.37c-.4-.4-.92-.59-1.43-.59-.52 0-1.04.2-1.43.59L10.3 9.45l-7.72 7.72c-.78.78-.78 2.05 0 2.83L4 21.41c.39.39.9.59 1.41.59.51 0 1.02-.2 1.41-.59l7.78-7.78 2.81-2.81c.8-.78.8-2.07 0-2.86zM5.41 20L4 18.59l7.72-7.72 1.47 1.35L5.41 20z\"/>\n",
              "  </svg>\n",
              "      </button>\n",
              "      \n",
              "  <style>\n",
              "    .colab-df-container {\n",
              "      display:flex;\n",
              "      flex-wrap:wrap;\n",
              "      gap: 12px;\n",
              "    }\n",
              "\n",
              "    .colab-df-convert {\n",
              "      background-color: #E8F0FE;\n",
              "      border: none;\n",
              "      border-radius: 50%;\n",
              "      cursor: pointer;\n",
              "      display: none;\n",
              "      fill: #1967D2;\n",
              "      height: 32px;\n",
              "      padding: 0 0 0 0;\n",
              "      width: 32px;\n",
              "    }\n",
              "\n",
              "    .colab-df-convert:hover {\n",
              "      background-color: #E2EBFA;\n",
              "      box-shadow: 0px 1px 2px rgba(60, 64, 67, 0.3), 0px 1px 3px 1px rgba(60, 64, 67, 0.15);\n",
              "      fill: #174EA6;\n",
              "    }\n",
              "\n",
              "    [theme=dark] .colab-df-convert {\n",
              "      background-color: #3B4455;\n",
              "      fill: #D2E3FC;\n",
              "    }\n",
              "\n",
              "    [theme=dark] .colab-df-convert:hover {\n",
              "      background-color: #434B5C;\n",
              "      box-shadow: 0px 1px 3px 1px rgba(0, 0, 0, 0.15);\n",
              "      filter: drop-shadow(0px 1px 2px rgba(0, 0, 0, 0.3));\n",
              "      fill: #FFFFFF;\n",
              "    }\n",
              "  </style>\n",
              "\n",
              "      <script>\n",
              "        const buttonEl =\n",
              "          document.querySelector('#df-7f4569b8-4be3-4f51-ae4d-1bff2b623594 button.colab-df-convert');\n",
              "        buttonEl.style.display =\n",
              "          google.colab.kernel.accessAllowed ? 'block' : 'none';\n",
              "\n",
              "        async function convertToInteractive(key) {\n",
              "          const element = document.querySelector('#df-7f4569b8-4be3-4f51-ae4d-1bff2b623594');\n",
              "          const dataTable =\n",
              "            await google.colab.kernel.invokeFunction('convertToInteractive',\n",
              "                                                     [key], {});\n",
              "          if (!dataTable) return;\n",
              "\n",
              "          const docLinkHtml = 'Like what you see? Visit the ' +\n",
              "            '<a target=\"_blank\" href=https://colab.research.google.com/notebooks/data_table.ipynb>data table notebook</a>'\n",
              "            + ' to learn more about interactive tables.';\n",
              "          element.innerHTML = '';\n",
              "          dataTable['output_type'] = 'display_data';\n",
              "          await google.colab.output.renderOutput(dataTable, element);\n",
              "          const docLink = document.createElement('div');\n",
              "          docLink.innerHTML = docLinkHtml;\n",
              "          element.appendChild(docLink);\n",
              "        }\n",
              "      </script>\n",
              "    </div>\n",
              "  </div>\n",
              "  "
            ]
          },
          "metadata": {},
          "execution_count": 57
        }
      ]
    },
    {
      "cell_type": "code",
      "source": [
        "flight.rename( columns={'Unnamed: 1':'flight_number'}, inplace=True )"
      ],
      "metadata": {
        "id": "_RPvfcRExsD1"
      },
      "id": "_RPvfcRExsD1",
      "execution_count": null,
      "outputs": []
    },
    {
      "cell_type": "code",
      "source": [
        "flight.info()"
      ],
      "metadata": {
        "colab": {
          "base_uri": "https://localhost:8080/"
        },
        "id": "V8H1TKMLx2Bl",
        "outputId": "2019a8ba-23fc-49e2-d277-2bf6a19bf9dd"
      },
      "id": "V8H1TKMLx2Bl",
      "execution_count": null,
      "outputs": [
        {
          "output_type": "stream",
          "name": "stdout",
          "text": [
            "<class 'pandas.core.frame.DataFrame'>\n",
            "RangeIndex: 98 entries, 0 to 97\n",
            "Data columns (total 2 columns):\n",
            " #   Column         Non-Null Count  Dtype  \n",
            "---  ------         --------------  -----  \n",
            " 0   date           98 non-null     object \n",
            " 1   flight_number  97 non-null     float64\n",
            "dtypes: float64(1), object(1)\n",
            "memory usage: 1.7+ KB\n"
          ]
        }
      ]
    },
    {
      "cell_type": "code",
      "source": [
        "flight = flight[1:]"
      ],
      "metadata": {
        "id": "E9QnSVPNyu90"
      },
      "id": "E9QnSVPNyu90",
      "execution_count": null,
      "outputs": []
    },
    {
      "cell_type": "code",
      "source": [
        "flight.date= pd.to_datetime(flight.date)"
      ],
      "metadata": {
        "id": "vilOZAOgySk3"
      },
      "id": "vilOZAOgySk3",
      "execution_count": null,
      "outputs": []
    },
    {
      "cell_type": "code",
      "source": [
        "flight.info()"
      ],
      "metadata": {
        "colab": {
          "base_uri": "https://localhost:8080/"
        },
        "id": "wPQOi4SKy5cm",
        "outputId": "62d1f9e8-44f2-44e0-aa9a-0174cb90a0c3"
      },
      "id": "wPQOi4SKy5cm",
      "execution_count": null,
      "outputs": [
        {
          "output_type": "stream",
          "name": "stdout",
          "text": [
            "<class 'pandas.core.frame.DataFrame'>\n",
            "RangeIndex: 97 entries, 1 to 97\n",
            "Data columns (total 2 columns):\n",
            " #   Column         Non-Null Count  Dtype         \n",
            "---  ------         --------------  -----         \n",
            " 0   date           97 non-null     datetime64[ns]\n",
            " 1   flight_number  97 non-null     float64       \n",
            "dtypes: datetime64[ns](1), float64(1)\n",
            "memory usage: 1.6 KB\n"
          ]
        }
      ]
    },
    {
      "cell_type": "code",
      "source": [
        "plt.boxplot(x=flight.flight_number)\n",
        "#these outliers from covid restrictions time"
      ],
      "metadata": {
        "colab": {
          "base_uri": "https://localhost:8080/",
          "height": 404
        },
        "id": "EWExDSymzJKW",
        "outputId": "079095b6-b014-4de2-c1d8-0cb43eaed0af"
      },
      "id": "EWExDSymzJKW",
      "execution_count": null,
      "outputs": [
        {
          "output_type": "execute_result",
          "data": {
            "text/plain": [
              "{'boxes': [<matplotlib.lines.Line2D at 0x7feec6ecc3d0>],\n",
              " 'caps': [<matplotlib.lines.Line2D at 0x7feec6ee2450>,\n",
              "  <matplotlib.lines.Line2D at 0x7feec6ee2990>],\n",
              " 'fliers': [<matplotlib.lines.Line2D at 0x7feec6ef7490>],\n",
              " 'means': [],\n",
              " 'medians': [<matplotlib.lines.Line2D at 0x7feec6ee2f10>],\n",
              " 'whiskers': [<matplotlib.lines.Line2D at 0x7feec6ecc990>,\n",
              "  <matplotlib.lines.Line2D at 0x7feec6ecced0>]}"
            ]
          },
          "metadata": {},
          "execution_count": 63
        },
        {
          "output_type": "display_data",
          "data": {
            "text/plain": [
              "<Figure size 432x288 with 1 Axes>"
            ],
            "image/png": "[encoded data removed]"
          },
          "metadata": {
            "needs_background": "light"
          }
        }
      ]
    },
    {
      "cell_type": "markdown",
      "id": "c5f91c94",
      "metadata": {
        "id": "c5f91c94"
      },
      "source": [
        "# 2.5 Population of Boston"
      ]
    },
    {
      "cell_type": "code",
      "execution_count": null,
      "id": "8f1046b2",
      "metadata": {
        "id": "8f1046b2",
        "outputId": "b4fc6c1b-8073-41a7-c6b1-5531495ea2f9",
        "colab": {
          "base_uri": "https://localhost:8080/",
          "height": 331
        }
      },
      "outputs": [
        {
          "output_type": "execute_result",
          "data": {
            "text/plain": [
              "   Year  Population  Growth  GrowthRate\n",
              "0  2022      696959    1453      0.0021\n",
              "1  2021      695506    1453      0.0021\n",
              "2  2020      694053    1453      0.0021\n",
              "3  2019      692600    1453      0.0021\n",
              "4  2018      691147    3359      0.0049\n",
              "5  2017      687788    7940      0.0117\n",
              "6  2016      679848    9357      0.0140\n",
              "7  2015      670491    7636      0.0115\n",
              "8  2014      662855    9853      0.0151"
            ],
            "text/html": [
              "\n",
              "  <div id=\"df-806aa382-b69a-4058-8b3c-7629960506da\">\n",
              "    <div class=\"colab-df-container\">\n",
              "      <div>\n",
              "<style scoped>\n",
              "    .dataframe tbody tr th:only-of-type {\n",
              "        vertical-align: middle;\n",
              "    }\n",
              "\n",
              "    .dataframe tbody tr th {\n",
              "        vertical-align: top;\n",
              "    }\n",
              "\n",
              "    .dataframe thead th {\n",
              "        text-align: right;\n",
              "    }\n",
              "</style>\n",
              "<table border=\"1\" class=\"dataframe\">\n",
              "  <thead>\n",
              "    <tr style=\"text-align: right;\">\n",
              "      <th></th>\n",
              "      <th>Year</th>\n",
              "      <th>Population</th>\n",
              "      <th>Growth</th>\n",
              "      <th>GrowthRate</th>\n",
              "    </tr>\n",
              "  </thead>\n",
              "  <tbody>\n",
              "    <tr>\n",
              "      <th>0</th>\n",
              "      <td>2022</td>\n",
              "      <td>696959</td>\n",
              "      <td>1453</td>\n",
              "      <td>0.0021</td>\n",
              "    </tr>\n",
              "    <tr>\n",
              "      <th>1</th>\n",
              "      <td>2021</td>\n",
              "      <td>695506</td>\n",
              "      <td>1453</td>\n",
              "      <td>0.0021</td>\n",
              "    </tr>\n",
              "    <tr>\n",
              "      <th>2</th>\n",
              "      <td>2020</td>\n",
              "      <td>694053</td>\n",
              "      <td>1453</td>\n",
              "      <td>0.0021</td>\n",
              "    </tr>\n",
              "    <tr>\n",
              "      <th>3</th>\n",
              "      <td>2019</td>\n",
              "      <td>692600</td>\n",
              "      <td>1453</td>\n",
              "      <td>0.0021</td>\n",
              "    </tr>\n",
              "    <tr>\n",
              "      <th>4</th>\n",
              "      <td>2018</td>\n",
              "      <td>691147</td>\n",
              "      <td>3359</td>\n",
              "      <td>0.0049</td>\n",
              "    </tr>\n",
              "    <tr>\n",
              "      <th>5</th>\n",
              "      <td>2017</td>\n",
              "      <td>687788</td>\n",
              "      <td>7940</td>\n",
              "      <td>0.0117</td>\n",
              "    </tr>\n",
              "    <tr>\n",
              "      <th>6</th>\n",
              "      <td>2016</td>\n",
              "      <td>679848</td>\n",
              "      <td>9357</td>\n",
              "      <td>0.0140</td>\n",
              "    </tr>\n",
              "    <tr>\n",
              "      <th>7</th>\n",
              "      <td>2015</td>\n",
              "      <td>670491</td>\n",
              "      <td>7636</td>\n",
              "      <td>0.0115</td>\n",
              "    </tr>\n",
              "    <tr>\n",
              "      <th>8</th>\n",
              "      <td>2014</td>\n",
              "      <td>662855</td>\n",
              "      <td>9853</td>\n",
              "      <td>0.0151</td>\n",
              "    </tr>\n",
              "  </tbody>\n",
              "</table>\n",
              "</div>\n",
              "      <button class=\"colab-df-convert\" onclick=\"convertToInteractive('df-806aa382-b69a-4058-8b3c-7629960506da')\"\n",
              "              title=\"Convert this dataframe to an interactive table.\"\n",
              "              style=\"display:none;\">\n",
              "        \n",
              "  <svg xmlns=\"http://www.w3.org/2000/svg\" height=\"24px\"viewBox=\"0 0 24 24\"\n",
              "       width=\"24px\">\n",
              "    <path d=\"M0 0h24v24H0V0z\" fill=\"none\"/>\n",
              "    <path d=\"M18.56 5.44l.94 2.06.94-2.06 2.06-.94-2.06-.94-.94-2.06-.94 2.06-2.06.94zm-11 1L8.5 8.5l.94-2.06 2.06-.94-2.06-.94L8.5 2.5l-.94 2.06-2.06.94zm10 10l.94 2.06.94-2.06 2.06-.94-2.06-.94-.94-2.06-.94 2.06-2.06.94z\"/><path d=\"M17.41 7.96l-1.37-1.37c-.4-.4-.92-.59-1.43-.59-.52 0-1.04.2-1.43.59L10.3 9.45l-7.72 7.72c-.78.78-.78 2.05 0 2.83L4 21.41c.39.39.9.59 1.41.59.51 0 1.02-.2 1.41-.59l7.78-7.78 2.81-2.81c.8-.78.8-2.07 0-2.86zM5.41 20L4 18.59l7.72-7.72 1.47 1.35L5.41 20z\"/>\n",
              "  </svg>\n",
              "      </button>\n",
              "      \n",
              "  <style>\n",
              "    .colab-df-container {\n",
              "      display:flex;\n",
              "      flex-wrap:wrap;\n",
              "      gap: 12px;\n",
              "    }\n",
              "\n",
              "    .colab-df-convert {\n",
              "      background-color: #E8F0FE;\n",
              "      border: none;\n",
              "      border-radius: 50%;\n",
              "      cursor: pointer;\n",
              "      display: none;\n",
              "      fill: #1967D2;\n",
              "      height: 32px;\n",
              "      padding: 0 0 0 0;\n",
              "      width: 32px;\n",
              "    }\n",
              "\n",
              "    .colab-df-convert:hover {\n",
              "      background-color: #E2EBFA;\n",
              "      box-shadow: 0px 1px 2px rgba(60, 64, 67, 0.3), 0px 1px 3px 1px rgba(60, 64, 67, 0.15);\n",
              "      fill: #174EA6;\n",
              "    }\n",
              "\n",
              "    [theme=dark] .colab-df-convert {\n",
              "      background-color: #3B4455;\n",
              "      fill: #D2E3FC;\n",
              "    }\n",
              "\n",
              "    [theme=dark] .colab-df-convert:hover {\n",
              "      background-color: #434B5C;\n",
              "      box-shadow: 0px 1px 3px 1px rgba(0, 0, 0, 0.15);\n",
              "      filter: drop-shadow(0px 1px 2px rgba(0, 0, 0, 0.3));\n",
              "      fill: #FFFFFF;\n",
              "    }\n",
              "  </style>\n",
              "\n",
              "      <script>\n",
              "        const buttonEl =\n",
              "          document.querySelector('#df-806aa382-b69a-4058-8b3c-7629960506da button.colab-df-convert');\n",
              "        buttonEl.style.display =\n",
              "          google.colab.kernel.accessAllowed ? 'block' : 'none';\n",
              "\n",
              "        async function convertToInteractive(key) {\n",
              "          const element = document.querySelector('#df-806aa382-b69a-4058-8b3c-7629960506da');\n",
              "          const dataTable =\n",
              "            await google.colab.kernel.invokeFunction('convertToInteractive',\n",
              "                                                     [key], {});\n",
              "          if (!dataTable) return;\n",
              "\n",
              "          const docLinkHtml = 'Like what you see? Visit the ' +\n",
              "            '<a target=\"_blank\" href=https://colab.research.google.com/notebooks/data_table.ipynb>data table notebook</a>'\n",
              "            + ' to learn more about interactive tables.';\n",
              "          element.innerHTML = '';\n",
              "          dataTable['output_type'] = 'display_data';\n",
              "          await google.colab.output.renderOutput(dataTable, element);\n",
              "          const docLink = document.createElement('div');\n",
              "          docLink.innerHTML = docLinkHtml;\n",
              "          element.appendChild(docLink);\n",
              "        }\n",
              "      </script>\n",
              "    </div>\n",
              "  </div>\n",
              "  "
            ]
          },
          "metadata": {},
          "execution_count": 65
        }
      ],
      "source": [
        "population = pd.read_csv('https://github.com/hangulde/Springboard/raw/main/Capstone%202/population%20of%20boston.csv')\n",
        "population=population[population['Year']>2013]\n",
        "population\n",
        "#Note: 2021 and 2022 data is projected. (https://worldpopulationreview.com/us-cities/boston-ma-population)"
      ]
    },
    {
      "cell_type": "code",
      "source": [
        "# Statistics from other source\n",
        "url_5 ='https://github.com/hangulde/Springboard/raw/main/Capstone%202/boston%20pop%202%20-%20Sheet1.csv'\n",
        "pop_2 = pd.read_csv(url_5).T\n",
        "pop_2[7:]\n"
      ],
      "metadata": {
        "id": "JaI1gYsNsoPM",
        "outputId": "624b8f92-4d47-4809-a9c7-b630ac7221b6",
        "colab": {
          "base_uri": "https://localhost:8080/",
          "height": 582
        }
      },
      "id": "JaI1gYsNsoPM",
      "execution_count": null,
      "outputs": [
        {
          "output_type": "execute_result",
          "data": {
            "text/plain": [
              "                               0\n",
              "FUNCSTAT                       A\n",
              "NAME                 Boston city\n",
              "STNAME             Massachusetts\n",
              "CENSUS2010POP             617594\n",
              "ESTIMATESBASE2010         617779\n",
              "POPESTIMATE2010           621053\n",
              "POPESTIMATE2011           630620\n",
              "POPESTIMATE2012           643180\n",
              "POPESTIMATE2013           653312\n",
              "POPESTIMATE2014           663260\n",
              "POPESTIMATE2015           670982\n",
              "POPESTIMATE2016           680218\n",
              "POPESTIMATE2017           688239\n",
              "POPESTIMATE2018           692048\n",
              "POPESTIMATE2019           694661\n",
              "POPESTIMATE042020         692800\n",
              "POPESTIMATE2020           691531"
            ],
            "text/html": [
              "\n",
              "  <div id=\"df-6e071750-2ed8-4674-8c52-71f2b048cd8a\">\n",
              "    <div class=\"colab-df-container\">\n",
              "      <div>\n",
              "<style scoped>\n",
              "    .dataframe tbody tr th:only-of-type {\n",
              "        vertical-align: middle;\n",
              "    }\n",
              "\n",
              "    .dataframe tbody tr th {\n",
              "        vertical-align: top;\n",
              "    }\n",
              "\n",
              "    .dataframe thead th {\n",
              "        text-align: right;\n",
              "    }\n",
              "</style>\n",
              "<table border=\"1\" class=\"dataframe\">\n",
              "  <thead>\n",
              "    <tr style=\"text-align: right;\">\n",
              "      <th></th>\n",
              "      <th>0</th>\n",
              "    </tr>\n",
              "  </thead>\n",
              "  <tbody>\n",
              "    <tr>\n",
              "      <th>FUNCSTAT</th>\n",
              "      <td>A</td>\n",
              "    </tr>\n",
              "    <tr>\n",
              "      <th>NAME</th>\n",
              "      <td>Boston city</td>\n",
              "    </tr>\n",
              "    <tr>\n",
              "      <th>STNAME</th>\n",
              "      <td>Massachusetts</td>\n",
              "    </tr>\n",
              "    <tr>\n",
              "      <th>CENSUS2010POP</th>\n",
              "      <td>617594</td>\n",
              "    </tr>\n",
              "    <tr>\n",
              "      <th>ESTIMATESBASE2010</th>\n",
              "      <td>617779</td>\n",
              "    </tr>\n",
              "    <tr>\n",
              "      <th>POPESTIMATE2010</th>\n",
              "      <td>621053</td>\n",
              "    </tr>\n",
              "    <tr>\n",
              "      <th>POPESTIMATE2011</th>\n",
              "      <td>630620</td>\n",
              "    </tr>\n",
              "    <tr>\n",
              "      <th>POPESTIMATE2012</th>\n",
              "      <td>643180</td>\n",
              "    </tr>\n",
              "    <tr>\n",
              "      <th>POPESTIMATE2013</th>\n",
              "      <td>653312</td>\n",
              "    </tr>\n",
              "    <tr>\n",
              "      <th>POPESTIMATE2014</th>\n",
              "      <td>663260</td>\n",
              "    </tr>\n",
              "    <tr>\n",
              "      <th>POPESTIMATE2015</th>\n",
              "      <td>670982</td>\n",
              "    </tr>\n",
              "    <tr>\n",
              "      <th>POPESTIMATE2016</th>\n",
              "      <td>680218</td>\n",
              "    </tr>\n",
              "    <tr>\n",
              "      <th>POPESTIMATE2017</th>\n",
              "      <td>688239</td>\n",
              "    </tr>\n",
              "    <tr>\n",
              "      <th>POPESTIMATE2018</th>\n",
              "      <td>692048</td>\n",
              "    </tr>\n",
              "    <tr>\n",
              "      <th>POPESTIMATE2019</th>\n",
              "      <td>694661</td>\n",
              "    </tr>\n",
              "    <tr>\n",
              "      <th>POPESTIMATE042020</th>\n",
              "      <td>692800</td>\n",
              "    </tr>\n",
              "    <tr>\n",
              "      <th>POPESTIMATE2020</th>\n",
              "      <td>691531</td>\n",
              "    </tr>\n",
              "  </tbody>\n",
              "</table>\n",
              "</div>\n",
              "      <button class=\"colab-df-convert\" onclick=\"convertToInteractive('df-6e071750-2ed8-4674-8c52-71f2b048cd8a')\"\n",
              "              title=\"Convert this dataframe to an interactive table.\"\n",
              "              style=\"display:none;\">\n",
              "        \n",
              "  <svg xmlns=\"http://www.w3.org/2000/svg\" height=\"24px\"viewBox=\"0 0 24 24\"\n",
              "       width=\"24px\">\n",
              "    <path d=\"M0 0h24v24H0V0z\" fill=\"none\"/>\n",
              "    <path d=\"M18.56 5.44l.94 2.06.94-2.06 2.06-.94-2.06-.94-.94-2.06-.94 2.06-2.06.94zm-11 1L8.5 8.5l.94-2.06 2.06-.94-2.06-.94L8.5 2.5l-.94 2.06-2.06.94zm10 10l.94 2.06.94-2.06 2.06-.94-2.06-.94-.94-2.06-.94 2.06-2.06.94z\"/><path d=\"M17.41 7.96l-1.37-1.37c-.4-.4-.92-.59-1.43-.59-.52 0-1.04.2-1.43.59L10.3 9.45l-7.72 7.72c-.78.78-.78 2.05 0 2.83L4 21.41c.39.39.9.59 1.41.59.51 0 1.02-.2 1.41-.59l7.78-7.78 2.81-2.81c.8-.78.8-2.07 0-2.86zM5.41 20L4 18.59l7.72-7.72 1.47 1.35L5.41 20z\"/>\n",
              "  </svg>\n",
              "      </button>\n",
              "      \n",
              "  <style>\n",
              "    .colab-df-container {\n",
              "      display:flex;\n",
              "      flex-wrap:wrap;\n",
              "      gap: 12px;\n",
              "    }\n",
              "\n",
              "    .colab-df-convert {\n",
              "      background-color: #E8F0FE;\n",
              "      border: none;\n",
              "      border-radius: 50%;\n",
              "      cursor: pointer;\n",
              "      display: none;\n",
              "      fill: #1967D2;\n",
              "      height: 32px;\n",
              "      padding: 0 0 0 0;\n",
              "      width: 32px;\n",
              "    }\n",
              "\n",
              "    .colab-df-convert:hover {\n",
              "      background-color: #E2EBFA;\n",
              "      box-shadow: 0px 1px 2px rgba(60, 64, 67, 0.3), 0px 1px 3px 1px rgba(60, 64, 67, 0.15);\n",
              "      fill: #174EA6;\n",
              "    }\n",
              "\n",
              "    [theme=dark] .colab-df-convert {\n",
              "      background-color: #3B4455;\n",
              "      fill: #D2E3FC;\n",
              "    }\n",
              "\n",
              "    [theme=dark] .colab-df-convert:hover {\n",
              "      background-color: #434B5C;\n",
              "      box-shadow: 0px 1px 3px 1px rgba(0, 0, 0, 0.15);\n",
              "      filter: drop-shadow(0px 1px 2px rgba(0, 0, 0, 0.3));\n",
              "      fill: #FFFFFF;\n",
              "    }\n",
              "  </style>\n",
              "\n",
              "      <script>\n",
              "        const buttonEl =\n",
              "          document.querySelector('#df-6e071750-2ed8-4674-8c52-71f2b048cd8a button.colab-df-convert');\n",
              "        buttonEl.style.display =\n",
              "          google.colab.kernel.accessAllowed ? 'block' : 'none';\n",
              "\n",
              "        async function convertToInteractive(key) {\n",
              "          const element = document.querySelector('#df-6e071750-2ed8-4674-8c52-71f2b048cd8a');\n",
              "          const dataTable =\n",
              "            await google.colab.kernel.invokeFunction('convertToInteractive',\n",
              "                                                     [key], {});\n",
              "          if (!dataTable) return;\n",
              "\n",
              "          const docLinkHtml = 'Like what you see? Visit the ' +\n",
              "            '<a target=\"_blank\" href=https://colab.research.google.com/notebooks/data_table.ipynb>data table notebook</a>'\n",
              "            + ' to learn more about interactive tables.';\n",
              "          element.innerHTML = '';\n",
              "          dataTable['output_type'] = 'display_data';\n",
              "          await google.colab.output.renderOutput(dataTable, element);\n",
              "          const docLink = document.createElement('div');\n",
              "          docLink.innerHTML = docLinkHtml;\n",
              "          element.appendChild(docLink);\n",
              "        }\n",
              "      </script>\n",
              "    </div>\n",
              "  </div>\n",
              "  "
            ]
          },
          "metadata": {},
          "execution_count": 73
        }
      ]
    }
  ],
  "metadata": {
    "kernelspec": {
      "display_name": "Python 3 (ipykernel)",
      "language": "python",
      "name": "python3"
    },
    "language_info": {
      "codemirror_mode": {
        "name": "ipython",
        "version": 3
      },
      "file_extension": ".py",
      "mimetype": "text/x-python",
      "name": "python",
      "nbconvert_exporter": "python",
      "pygments_lexer": "ipython3",
      "version": "3.9.7"
    },
    "colab": {
      "name": "Capstone 2. Boston Air Quality.ipynb",
      "provenance": [],
      "toc_visible": true
    }
  },
  "nbformat": 4,
  "nbformat_minor": 5
}