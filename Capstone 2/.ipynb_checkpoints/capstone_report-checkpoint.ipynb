{
 "cells": [
  {
   "cell_type": "markdown",
   "metadata": {
    "id": "8SC76vIOXy6s"
   },
   "source": [
    "<h1><center>Air Quality of Boston</center></h1>"
   ]
  },
  {
   "cell_type": "markdown",
   "metadata": {
    "id": "7vfn0laKXvRQ"
   },
   "source": [
    "<div>\n",
    "<img src=\"boston.jpeg\" width=\"500\"/>\n",
    "</div>\n",
    "\n",
    "<center> Photo by WBUR </center>"
   ]
  },
  {
   "cell_type": "markdown",
   "metadata": {},
   "source": [
    "## **1. Problem Statement**\n",
    "\n",
    "Air pollution is contamination environment by any physical, chemical, or biological agent that changes the atmosphere's natural characteristics ([World Health Organization](https://www.who.int/health-topics/air-pollution#tab=tab_1)). The Air Quality Index, the concentration of pollutants in the air in a spesific place, is accepted as an indicator of air pollution. The higher the AQI value means, the greater the level of air pollution and the more considerable the health concern.\n",
    "\n",
    "Health problems\n",
    "\n",
    "According to World Health Organization ([2022](https://https://www.who.int/news-room/fact-sheets/detail/ambient-(outdoor)-air-quality-and-health)), the details of parameters are explained below.\n",
    "\n",
    "Particulate matter/particles(PM): PM, the common proxy indicator for air pollution, affects human health more than other pollutants. Atmospheric particulate matter, or fine particles, are tiny particles of solid or liquid suspended in a gas.\n",
    "\n",
    "2. **Goal**\n",
    "\n",
    "In this project, I aim to forecast the PM2.5 parameter of Boston for 2023"
   ]
  },
  {
   "cell_type": "markdown",
   "metadata": {},
   "source": [
    "## 2. **Datasets**"
   ]
  },
  {
   "cell_type": "markdown",
   "metadata": {},
   "source": [
    "**i. Air Quality Data:** \n",
    "The daily average air quality data of Boston Statation. The data was downloaded as csv file from Air Quality Historical Data Platform [link](https://aqicn.org/data-platform/register/).  The data is organized by day. I read in data from July 2014 to December 2021. There are five parameters: PM25, O3, NO2, SO2, CO in this dataset.\n",
    "\n",
    "**ii. Weather:** \n",
    "There are a lot of attributes of weather data.The data range is between 01/01/2014 and 03/22/2022. The data was downloaded from [here](https://www.visualcrossing.com/weather/weather-data-services).\n",
    "\n",
    "**iii. Energy Consumption:**\n",
    "There are two monthly and state level consumption data.\n",
    "The Natural Gas Delivered to Consumers in Massachusetts (Including Vehicle Fuel) (Million Cubic Feet)\n",
    "Massachusetts Total Gasoline All Sales per Deliveries by Prime_Supplier\n",
    "\n",
    "**iv. Flight Number:**\n",
    "This dataset contains of Logan Airport's (Boston) number of  total airport flight operations. Monthly data is gathered from [here](https://www.massport.com/logan-airport/about-logan/airport-statistics/). \n",
    "\n",
    "**v. Population**\n",
    "\n",
    "**vi.Federal Highway Administration's Reports**\n",
    "Office of Highway Policy Information publishes reports containing analyzed statistical information on traffic as motor fuel, highway mileage, travel etc. Traffic Volume Trends is one of them which is a monthly report based on hourly traffic count data reported by the States. In this dataset, estimated travel (in billion vehicle-miles) on all roads and streets in Massachusetts are reported. In an another report, the amount of gallons taxed by that state is collected."
   ]
  },
  {
   "cell_type": "markdown",
   "metadata": {},
   "source": [
    "## 3. **Data Cleaning and Data Wrangling**"
   ]
  },
  {
   "cell_type": "markdown",
   "metadata": {},
   "source": []
  },
  {
   "cell_type": "markdown",
   "metadata": {},
   "source": [
    "## 4.  **Exploratary Data Analysis**"
   ]
  },
  {
   "cell_type": "markdown",
   "metadata": {},
   "source": [
    "## 5. **Algorithms & Machine Learning**"
   ]
  },
  {
   "cell_type": "markdown",
   "metadata": {},
   "source": [
    "### **5.1. Univariate Time Series Models**"
   ]
  },
  {
   "cell_type": "code",
   "execution_count": null,
   "metadata": {},
   "outputs": [],
   "source": []
  }
 ],
 "metadata": {
  "colab": {
   "name": "capstone report.ipynb",
   "provenance": []
  },
  "kernelspec": {
   "display_name": "Python 3 (ipykernel)",
   "language": "python",
   "name": "python3"
  },
  "language_info": {
   "codemirror_mode": {
    "name": "ipython",
    "version": 3
   },
   "file_extension": ".py",
   "mimetype": "text/x-python",
   "name": "python",
   "nbconvert_exporter": "python",
   "pygments_lexer": "ipython3",
   "version": "3.9.7"
  }
 },
 "nbformat": 4,
 "nbformat_minor": 1
}
